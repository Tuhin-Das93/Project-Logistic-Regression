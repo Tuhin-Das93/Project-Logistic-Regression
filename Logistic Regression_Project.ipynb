{
 "cells": [
  {
   "cell_type": "markdown",
   "metadata": {},
   "source": [
    "## Project : Understanding how human intervention can cause racism in ML Models\n",
    "## Logistic Regression to predict whether a customer will get a loan or not\n",
    "\n",
    "- The following bank dataset contains customer demographics information like Gender, Marital Status, Locality, Education, Income etc which has been used to predict bank loan status (Yes/No) with the use of logistic regression.\n",
    "\n",
    "- In order to showcase that the machines can easily pick up racism if the dataset is made by someone who has racist beliefs and how bad it can impact the outcome of the model.\n",
    "\n",
    "- All bank forms contain the column known as \"Address\". Suppose, if a customer lives in a highly segregated localities or ghettos and a highly racist loan officer is responsible to evaluate the customers. There is a high chance, he/she won't give loan to the well deserved customer just because the person is from other race than the loan officer."
   ]
  },
  {
   "cell_type": "code",
   "execution_count": 1,
   "metadata": {},
   "outputs": [],
   "source": [
    "## Importing required libraries\n",
    "import numpy as np\n",
    "import pandas as pd\n",
    "import matplotlib.pyplot as plt\n",
    "import seaborn as sns\n",
    "import warnings\n",
    "warnings.filterwarnings(\"ignore\")"
   ]
  },
  {
   "cell_type": "code",
   "execution_count": 2,
   "metadata": {},
   "outputs": [],
   "source": [
    "# Reading the treated csv file. The original file name is future.xlsx\n",
    "df = pd.read_csv(\"final_df1.csv\")"
   ]
  },
  {
   "cell_type": "code",
   "execution_count": 3,
   "metadata": {
    "scrolled": true
   },
   "outputs": [
    {
     "name": "stdout",
     "output_type": "stream",
     "text": [
      "<class 'pandas.core.frame.DataFrame'>\n",
      "RangeIndex: 676 entries, 0 to 675\n",
      "Data columns (total 15 columns):\n",
      " #   Column             Non-Null Count  Dtype \n",
      "---  ------             --------------  ----- \n",
      " 0   Unnamed: 0         676 non-null    int64 \n",
      " 1   Loan_ID            676 non-null    object\n",
      " 2   Loan_Status        676 non-null    object\n",
      " 3   Gender             676 non-null    object\n",
      " 4   Married            676 non-null    object\n",
      " 5   Locality           676 non-null    object\n",
      " 6   Dependents         676 non-null    int64 \n",
      " 7   Education          676 non-null    object\n",
      " 8   Self_Employed      676 non-null    object\n",
      " 9   ApplicantIncome    676 non-null    int64 \n",
      " 10  CoapplicantIncome  676 non-null    int64 \n",
      " 11  LoanAmount         676 non-null    int64 \n",
      " 12  Loan_Amount_Term   676 non-null    int64 \n",
      " 13  Credit_History     676 non-null    int64 \n",
      " 14  Property_Area      676 non-null    object\n",
      "dtypes: int64(7), object(8)\n",
      "memory usage: 79.3+ KB\n"
     ]
    }
   ],
   "source": [
    "## Generating a concise summary of the dataframe\n",
    "df.info()"
   ]
  },
  {
   "cell_type": "code",
   "execution_count": null,
   "metadata": {},
   "outputs": [],
   "source": []
  },
  {
   "cell_type": "code",
   "execution_count": 4,
   "metadata": {},
   "outputs": [],
   "source": [
    "## Dropping a useless column from the dataframe\n",
    "df.drop([\"Unnamed: 0\"], axis=1, inplace=True)"
   ]
  },
  {
   "cell_type": "code",
   "execution_count": 5,
   "metadata": {},
   "outputs": [
    {
     "data": {
      "text/html": [
       "<div>\n",
       "<style scoped>\n",
       "    .dataframe tbody tr th:only-of-type {\n",
       "        vertical-align: middle;\n",
       "    }\n",
       "\n",
       "    .dataframe tbody tr th {\n",
       "        vertical-align: top;\n",
       "    }\n",
       "\n",
       "    .dataframe thead th {\n",
       "        text-align: right;\n",
       "    }\n",
       "</style>\n",
       "<table border=\"1\" class=\"dataframe\">\n",
       "  <thead>\n",
       "    <tr style=\"text-align: right;\">\n",
       "      <th></th>\n",
       "      <th>Loan_ID</th>\n",
       "      <th>Loan_Status</th>\n",
       "      <th>Gender</th>\n",
       "      <th>Married</th>\n",
       "      <th>Locality</th>\n",
       "      <th>Dependents</th>\n",
       "      <th>Education</th>\n",
       "      <th>Self_Employed</th>\n",
       "      <th>ApplicantIncome</th>\n",
       "      <th>CoapplicantIncome</th>\n",
       "      <th>LoanAmount</th>\n",
       "      <th>Loan_Amount_Term</th>\n",
       "      <th>Credit_History</th>\n",
       "      <th>Property_Area</th>\n",
       "    </tr>\n",
       "  </thead>\n",
       "  <tbody>\n",
       "    <tr>\n",
       "      <th>0</th>\n",
       "      <td>LP001996</td>\n",
       "      <td>N</td>\n",
       "      <td>Male</td>\n",
       "      <td>No</td>\n",
       "      <td>Qureshi Square, New Delhi</td>\n",
       "      <td>0</td>\n",
       "      <td>Graduate</td>\n",
       "      <td>No</td>\n",
       "      <td>20233</td>\n",
       "      <td>0</td>\n",
       "      <td>480</td>\n",
       "      <td>360</td>\n",
       "      <td>1</td>\n",
       "      <td>Rural</td>\n",
       "    </tr>\n",
       "    <tr>\n",
       "      <th>1</th>\n",
       "      <td>LP002191</td>\n",
       "      <td>N</td>\n",
       "      <td>Male</td>\n",
       "      <td>Yes</td>\n",
       "      <td>Qureshi Square, New Delhi</td>\n",
       "      <td>0</td>\n",
       "      <td>Graduate</td>\n",
       "      <td>No</td>\n",
       "      <td>19730</td>\n",
       "      <td>5266</td>\n",
       "      <td>570</td>\n",
       "      <td>360</td>\n",
       "      <td>1</td>\n",
       "      <td>Rural</td>\n",
       "    </tr>\n",
       "    <tr>\n",
       "      <th>2</th>\n",
       "      <td>LP002699</td>\n",
       "      <td>Y</td>\n",
       "      <td>Male</td>\n",
       "      <td>Yes</td>\n",
       "      <td>Qureshi Square, New Delhi</td>\n",
       "      <td>2</td>\n",
       "      <td>Graduate</td>\n",
       "      <td>Yes</td>\n",
       "      <td>17500</td>\n",
       "      <td>0</td>\n",
       "      <td>400</td>\n",
       "      <td>360</td>\n",
       "      <td>1</td>\n",
       "      <td>Rural</td>\n",
       "    </tr>\n",
       "    <tr>\n",
       "      <th>3</th>\n",
       "      <td>LP002527</td>\n",
       "      <td>Y</td>\n",
       "      <td>Male</td>\n",
       "      <td>Yes</td>\n",
       "      <td>Qureshi Square, New Delhi</td>\n",
       "      <td>2</td>\n",
       "      <td>Graduate</td>\n",
       "      <td>Yes</td>\n",
       "      <td>16525</td>\n",
       "      <td>1014</td>\n",
       "      <td>150</td>\n",
       "      <td>360</td>\n",
       "      <td>1</td>\n",
       "      <td>Rural</td>\n",
       "    </tr>\n",
       "    <tr>\n",
       "      <th>4</th>\n",
       "      <td>LP002065</td>\n",
       "      <td>Y</td>\n",
       "      <td>Male</td>\n",
       "      <td>Yes</td>\n",
       "      <td>Qureshi Square, New Delhi</td>\n",
       "      <td>3</td>\n",
       "      <td>Graduate</td>\n",
       "      <td>No</td>\n",
       "      <td>15000</td>\n",
       "      <td>0</td>\n",
       "      <td>300</td>\n",
       "      <td>360</td>\n",
       "      <td>1</td>\n",
       "      <td>Rural</td>\n",
       "    </tr>\n",
       "  </tbody>\n",
       "</table>\n",
       "</div>"
      ],
      "text/plain": [
       "    Loan_ID Loan_Status Gender Married                   Locality  Dependents  \\\n",
       "0  LP001996           N   Male      No  Qureshi Square, New Delhi           0   \n",
       "1  LP002191           N   Male     Yes  Qureshi Square, New Delhi           0   \n",
       "2  LP002699           Y   Male     Yes  Qureshi Square, New Delhi           2   \n",
       "3  LP002527           Y   Male     Yes  Qureshi Square, New Delhi           2   \n",
       "4  LP002065           Y   Male     Yes  Qureshi Square, New Delhi           3   \n",
       "\n",
       "  Education Self_Employed  ApplicantIncome  CoapplicantIncome  LoanAmount  \\\n",
       "0  Graduate            No            20233                  0         480   \n",
       "1  Graduate            No            19730               5266         570   \n",
       "2  Graduate           Yes            17500                  0         400   \n",
       "3  Graduate           Yes            16525               1014         150   \n",
       "4  Graduate            No            15000                  0         300   \n",
       "\n",
       "   Loan_Amount_Term  Credit_History Property_Area  \n",
       "0               360               1         Rural  \n",
       "1               360               1         Rural  \n",
       "2               360               1         Rural  \n",
       "3               360               1         Rural  \n",
       "4               360               1         Rural  "
      ]
     },
     "execution_count": 5,
     "metadata": {},
     "output_type": "execute_result"
    }
   ],
   "source": [
    "## To see if changes have been updated in the dataframe\n",
    "df.head()"
   ]
  },
  {
   "cell_type": "markdown",
   "metadata": {},
   "source": [
    "### Exploratory Data Analysis"
   ]
  },
  {
   "cell_type": "code",
   "execution_count": 6,
   "metadata": {},
   "outputs": [],
   "source": [
    "# Creating a new numerical column called Loan_Status_num from the existing target variable called \"Loan_Status\" \n",
    "\n",
    "df[\"Loan_Status_num\"] = np.where(df.Loan_Status==\"Y\", 1,0)"
   ]
  },
  {
   "cell_type": "code",
   "execution_count": 7,
   "metadata": {},
   "outputs": [
    {
     "data": {
      "text/html": [
       "<div>\n",
       "<style scoped>\n",
       "    .dataframe tbody tr th:only-of-type {\n",
       "        vertical-align: middle;\n",
       "    }\n",
       "\n",
       "    .dataframe tbody tr th {\n",
       "        vertical-align: top;\n",
       "    }\n",
       "\n",
       "    .dataframe thead th {\n",
       "        text-align: right;\n",
       "    }\n",
       "</style>\n",
       "<table border=\"1\" class=\"dataframe\">\n",
       "  <thead>\n",
       "    <tr style=\"text-align: right;\">\n",
       "      <th></th>\n",
       "      <th>Loan_ID</th>\n",
       "      <th>Loan_Status</th>\n",
       "      <th>Gender</th>\n",
       "      <th>Married</th>\n",
       "      <th>Locality</th>\n",
       "      <th>Dependents</th>\n",
       "      <th>Education</th>\n",
       "      <th>Self_Employed</th>\n",
       "      <th>ApplicantIncome</th>\n",
       "      <th>CoapplicantIncome</th>\n",
       "      <th>LoanAmount</th>\n",
       "      <th>Loan_Amount_Term</th>\n",
       "      <th>Credit_History</th>\n",
       "      <th>Property_Area</th>\n",
       "      <th>Loan_Status_num</th>\n",
       "    </tr>\n",
       "  </thead>\n",
       "  <tbody>\n",
       "    <tr>\n",
       "      <th>0</th>\n",
       "      <td>LP001996</td>\n",
       "      <td>N</td>\n",
       "      <td>Male</td>\n",
       "      <td>No</td>\n",
       "      <td>Qureshi Square, New Delhi</td>\n",
       "      <td>0</td>\n",
       "      <td>Graduate</td>\n",
       "      <td>No</td>\n",
       "      <td>20233</td>\n",
       "      <td>0</td>\n",
       "      <td>480</td>\n",
       "      <td>360</td>\n",
       "      <td>1</td>\n",
       "      <td>Rural</td>\n",
       "      <td>0</td>\n",
       "    </tr>\n",
       "    <tr>\n",
       "      <th>1</th>\n",
       "      <td>LP002191</td>\n",
       "      <td>N</td>\n",
       "      <td>Male</td>\n",
       "      <td>Yes</td>\n",
       "      <td>Qureshi Square, New Delhi</td>\n",
       "      <td>0</td>\n",
       "      <td>Graduate</td>\n",
       "      <td>No</td>\n",
       "      <td>19730</td>\n",
       "      <td>5266</td>\n",
       "      <td>570</td>\n",
       "      <td>360</td>\n",
       "      <td>1</td>\n",
       "      <td>Rural</td>\n",
       "      <td>0</td>\n",
       "    </tr>\n",
       "    <tr>\n",
       "      <th>2</th>\n",
       "      <td>LP002699</td>\n",
       "      <td>Y</td>\n",
       "      <td>Male</td>\n",
       "      <td>Yes</td>\n",
       "      <td>Qureshi Square, New Delhi</td>\n",
       "      <td>2</td>\n",
       "      <td>Graduate</td>\n",
       "      <td>Yes</td>\n",
       "      <td>17500</td>\n",
       "      <td>0</td>\n",
       "      <td>400</td>\n",
       "      <td>360</td>\n",
       "      <td>1</td>\n",
       "      <td>Rural</td>\n",
       "      <td>1</td>\n",
       "    </tr>\n",
       "    <tr>\n",
       "      <th>3</th>\n",
       "      <td>LP002527</td>\n",
       "      <td>Y</td>\n",
       "      <td>Male</td>\n",
       "      <td>Yes</td>\n",
       "      <td>Qureshi Square, New Delhi</td>\n",
       "      <td>2</td>\n",
       "      <td>Graduate</td>\n",
       "      <td>Yes</td>\n",
       "      <td>16525</td>\n",
       "      <td>1014</td>\n",
       "      <td>150</td>\n",
       "      <td>360</td>\n",
       "      <td>1</td>\n",
       "      <td>Rural</td>\n",
       "      <td>1</td>\n",
       "    </tr>\n",
       "    <tr>\n",
       "      <th>4</th>\n",
       "      <td>LP002065</td>\n",
       "      <td>Y</td>\n",
       "      <td>Male</td>\n",
       "      <td>Yes</td>\n",
       "      <td>Qureshi Square, New Delhi</td>\n",
       "      <td>3</td>\n",
       "      <td>Graduate</td>\n",
       "      <td>No</td>\n",
       "      <td>15000</td>\n",
       "      <td>0</td>\n",
       "      <td>300</td>\n",
       "      <td>360</td>\n",
       "      <td>1</td>\n",
       "      <td>Rural</td>\n",
       "      <td>1</td>\n",
       "    </tr>\n",
       "  </tbody>\n",
       "</table>\n",
       "</div>"
      ],
      "text/plain": [
       "    Loan_ID Loan_Status Gender Married                   Locality  Dependents  \\\n",
       "0  LP001996           N   Male      No  Qureshi Square, New Delhi           0   \n",
       "1  LP002191           N   Male     Yes  Qureshi Square, New Delhi           0   \n",
       "2  LP002699           Y   Male     Yes  Qureshi Square, New Delhi           2   \n",
       "3  LP002527           Y   Male     Yes  Qureshi Square, New Delhi           2   \n",
       "4  LP002065           Y   Male     Yes  Qureshi Square, New Delhi           3   \n",
       "\n",
       "  Education Self_Employed  ApplicantIncome  CoapplicantIncome  LoanAmount  \\\n",
       "0  Graduate            No            20233                  0         480   \n",
       "1  Graduate            No            19730               5266         570   \n",
       "2  Graduate           Yes            17500                  0         400   \n",
       "3  Graduate           Yes            16525               1014         150   \n",
       "4  Graduate            No            15000                  0         300   \n",
       "\n",
       "   Loan_Amount_Term  Credit_History Property_Area  Loan_Status_num  \n",
       "0               360               1         Rural                0  \n",
       "1               360               1         Rural                0  \n",
       "2               360               1         Rural                1  \n",
       "3               360               1         Rural                1  \n",
       "4               360               1         Rural                1  "
      ]
     },
     "execution_count": 7,
     "metadata": {},
     "output_type": "execute_result"
    }
   ],
   "source": [
    "df.head()"
   ]
  },
  {
   "cell_type": "code",
   "execution_count": 8,
   "metadata": {},
   "outputs": [
    {
     "name": "stdout",
     "output_type": "stream",
     "text": [
      "<class 'pandas.core.frame.DataFrame'>\n",
      "RangeIndex: 676 entries, 0 to 675\n",
      "Data columns (total 15 columns):\n",
      " #   Column             Non-Null Count  Dtype \n",
      "---  ------             --------------  ----- \n",
      " 0   Loan_ID            676 non-null    object\n",
      " 1   Loan_Status        676 non-null    object\n",
      " 2   Gender             676 non-null    object\n",
      " 3   Married            676 non-null    object\n",
      " 4   Locality           676 non-null    object\n",
      " 5   Dependents         676 non-null    int64 \n",
      " 6   Education          676 non-null    object\n",
      " 7   Self_Employed      676 non-null    object\n",
      " 8   ApplicantIncome    676 non-null    int64 \n",
      " 9   CoapplicantIncome  676 non-null    int64 \n",
      " 10  LoanAmount         676 non-null    int64 \n",
      " 11  Loan_Amount_Term   676 non-null    int64 \n",
      " 12  Credit_History     676 non-null    int64 \n",
      " 13  Property_Area      676 non-null    object\n",
      " 14  Loan_Status_num    676 non-null    int32 \n",
      "dtypes: int32(1), int64(6), object(8)\n",
      "memory usage: 76.7+ KB\n"
     ]
    }
   ],
   "source": [
    "df.info()"
   ]
  },
  {
   "cell_type": "code",
   "execution_count": 9,
   "metadata": {},
   "outputs": [],
   "source": [
    "# Creating a pivot table for Education and Locality with numerical values = Loan_Status_num\n",
    "\n",
    "heat1 = pd.pivot_table(data=df, index=\"Education\", columns=\"Locality\", values=\"Loan_Status_num\")"
   ]
  },
  {
   "cell_type": "code",
   "execution_count": 10,
   "metadata": {},
   "outputs": [],
   "source": [
    "import matplotlib.pyplot as plt\n",
    "import seaborn as sns"
   ]
  },
  {
   "cell_type": "code",
   "execution_count": 11,
   "metadata": {
    "scrolled": false
   },
   "outputs": [
    {
     "data": {
      "image/png": "[encoded data removed]",
      "text/plain": [
       "<Figure size 2160x360 with 2 Axes>"
      ]
     },
     "metadata": {
      "needs_background": "light"
     },
     "output_type": "display_data"
    }
   ],
   "source": [
    "# Education Vs. Locality with Loan Conversion Rate\n",
    "\n",
    "plt.figure(figsize=(30,5))\n",
    "g2 = sns.heatmap(heat1, cmap=\"RdYlGn\" ,fmt=\".1%\",annot = True, annot_kws={\"size\":23})\n",
    "g2.set_ylabel(\"Education\", fontsize = 45)\n",
    "g2.set_xlabel(\"Locality\", fontsize = 45)\n",
    "plt.xticks(size=30,rotation=90)\n",
    "plt.yticks(size=30,rotation=0)\n",
    "sns.set(font_scale=1.8)\n",
    "plt.title(\"Loan approval rate across Localities and Education\", size=40,y=1.05)\n",
    "plt.show()"
   ]
  },
  {
   "cell_type": "markdown",
   "metadata": {},
   "source": [
    "### Inferences:\n",
    "- Locality named \"District 9\" has the lowest loan conversion rate even when all of customers in the dataset are Graduate\n",
    "- All the other localities are performing more or less the same with respect to Education level."
   ]
  },
  {
   "cell_type": "code",
   "execution_count": 12,
   "metadata": {},
   "outputs": [],
   "source": [
    "## Making a pivot table in order to generate a heat map\n",
    "heat2 = pd.pivot_table(data=df, index=\"Property_Area\", columns=\"Locality\", values=\"Loan_Status_num\")"
   ]
  },
  {
   "cell_type": "code",
   "execution_count": 13,
   "metadata": {},
   "outputs": [
    {
     "data": {
      "image/png": "[encoded data removed]",
      "text/plain": [
       "<Figure size 2160x360 with 2 Axes>"
      ]
     },
     "metadata": {},
     "output_type": "display_data"
    }
   ],
   "source": [
    "# Property_Area Vs. Locality with Lead Conversion Rate\n",
    "\n",
    "plt.figure(figsize=(30,5))\n",
    "g2 = sns.heatmap(heat2, cmap=\"RdYlGn\" ,fmt=\".1%\",annot = True, annot_kws={\"size\":23})\n",
    "g2.set_ylabel(\"Property_Area\", fontsize = 45)\n",
    "g2.set_xlabel(\"Locality\", fontsize = 45)\n",
    "plt.xticks(size=30,rotation=90)\n",
    "plt.yticks(size=30,rotation=0)\n",
    "sns.set(font_scale=1.8)\n",
    "plt.title(\"Loan approval rate across Localities and Property_Area\", size=40,y=1.05)\n",
    "plt.show()"
   ]
  },
  {
   "cell_type": "code",
   "execution_count": null,
   "metadata": {},
   "outputs": [],
   "source": [
    "### Visualizing Boxplots"
   ]
  },
  {
   "cell_type": "code",
   "execution_count": 14,
   "metadata": {
    "scrolled": false
   },
   "outputs": [
    {
     "data": {
      "image/png": "[encoded data removed]",
      "text/plain": [
       "<Figure size 2520x1440 with 1 Axes>"
      ]
     },
     "metadata": {},
     "output_type": "display_data"
    }
   ],
   "source": [
    "## Distribution of Income across Income Groups segmented across Defaulters and Non Defaulters\n",
    "\n",
    "plt.figure(figsize=(35,20))\n",
    "plt.yscale(\"log\")\n",
    "sns.set_style(\"dark\")\n",
    "sns.boxplot(data=df, x=\"Loan_Status\", y=\"ApplicantIncome\", hue=\"Locality\")\n",
    "plt.title(\"DISTRIBUTION OF INCOME ACROSS LOCALITIES SEGMENTED INTO LOAN APPROVED & LOAN REJECTED\", size=40)\n",
    "plt.xlabel(\"Loan Status\", size=40)\n",
    "plt.legend(loc=\"best\")\n",
    "plt.ylabel(\"Distribution of Income\", size=40)\n",
    "plt.show()"
   ]
  },
  {
   "cell_type": "markdown",
   "metadata": {},
   "source": [
    "### Inferences:\n",
    "- The \"District 9\" earns the highest income compared to the remaining localities \n",
    "- The Richmond Enclave and Qureshi Square are trailing at 2nd and 3rd position respectively "
   ]
  },
  {
   "cell_type": "code",
   "execution_count": 15,
   "metadata": {
    "scrolled": true
   },
   "outputs": [],
   "source": [
    "## Dropping the categorical variable \"Loan_Status\" as a new numerical column has been created\n",
    "df = df.drop(\"Loan_Status\", axis=1)"
   ]
  },
  {
   "cell_type": "code",
   "execution_count": 16,
   "metadata": {},
   "outputs": [
    {
     "data": {
      "text/html": [
       "<div>\n",
       "<style scoped>\n",
       "    .dataframe tbody tr th:only-of-type {\n",
       "        vertical-align: middle;\n",
       "    }\n",
       "\n",
       "    .dataframe tbody tr th {\n",
       "        vertical-align: top;\n",
       "    }\n",
       "\n",
       "    .dataframe thead th {\n",
       "        text-align: right;\n",
       "    }\n",
       "</style>\n",
       "<table border=\"1\" class=\"dataframe\">\n",
       "  <thead>\n",
       "    <tr style=\"text-align: right;\">\n",
       "      <th></th>\n",
       "      <th>Loan_ID</th>\n",
       "      <th>Gender</th>\n",
       "      <th>Married</th>\n",
       "      <th>Locality</th>\n",
       "      <th>Dependents</th>\n",
       "      <th>Education</th>\n",
       "      <th>Self_Employed</th>\n",
       "      <th>ApplicantIncome</th>\n",
       "      <th>CoapplicantIncome</th>\n",
       "      <th>LoanAmount</th>\n",
       "      <th>Loan_Amount_Term</th>\n",
       "      <th>Credit_History</th>\n",
       "      <th>Property_Area</th>\n",
       "      <th>Loan_Status_num</th>\n",
       "    </tr>\n",
       "  </thead>\n",
       "  <tbody>\n",
       "    <tr>\n",
       "      <th>0</th>\n",
       "      <td>LP001996</td>\n",
       "      <td>Male</td>\n",
       "      <td>No</td>\n",
       "      <td>Qureshi Square, New Delhi</td>\n",
       "      <td>0</td>\n",
       "      <td>Graduate</td>\n",
       "      <td>No</td>\n",
       "      <td>20233</td>\n",
       "      <td>0</td>\n",
       "      <td>480</td>\n",
       "      <td>360</td>\n",
       "      <td>1</td>\n",
       "      <td>Rural</td>\n",
       "      <td>0</td>\n",
       "    </tr>\n",
       "    <tr>\n",
       "      <th>1</th>\n",
       "      <td>LP002191</td>\n",
       "      <td>Male</td>\n",
       "      <td>Yes</td>\n",
       "      <td>Qureshi Square, New Delhi</td>\n",
       "      <td>0</td>\n",
       "      <td>Graduate</td>\n",
       "      <td>No</td>\n",
       "      <td>19730</td>\n",
       "      <td>5266</td>\n",
       "      <td>570</td>\n",
       "      <td>360</td>\n",
       "      <td>1</td>\n",
       "      <td>Rural</td>\n",
       "      <td>0</td>\n",
       "    </tr>\n",
       "    <tr>\n",
       "      <th>2</th>\n",
       "      <td>LP002699</td>\n",
       "      <td>Male</td>\n",
       "      <td>Yes</td>\n",
       "      <td>Qureshi Square, New Delhi</td>\n",
       "      <td>2</td>\n",
       "      <td>Graduate</td>\n",
       "      <td>Yes</td>\n",
       "      <td>17500</td>\n",
       "      <td>0</td>\n",
       "      <td>400</td>\n",
       "      <td>360</td>\n",
       "      <td>1</td>\n",
       "      <td>Rural</td>\n",
       "      <td>1</td>\n",
       "    </tr>\n",
       "    <tr>\n",
       "      <th>3</th>\n",
       "      <td>LP002527</td>\n",
       "      <td>Male</td>\n",
       "      <td>Yes</td>\n",
       "      <td>Qureshi Square, New Delhi</td>\n",
       "      <td>2</td>\n",
       "      <td>Graduate</td>\n",
       "      <td>Yes</td>\n",
       "      <td>16525</td>\n",
       "      <td>1014</td>\n",
       "      <td>150</td>\n",
       "      <td>360</td>\n",
       "      <td>1</td>\n",
       "      <td>Rural</td>\n",
       "      <td>1</td>\n",
       "    </tr>\n",
       "    <tr>\n",
       "      <th>4</th>\n",
       "      <td>LP002065</td>\n",
       "      <td>Male</td>\n",
       "      <td>Yes</td>\n",
       "      <td>Qureshi Square, New Delhi</td>\n",
       "      <td>3</td>\n",
       "      <td>Graduate</td>\n",
       "      <td>No</td>\n",
       "      <td>15000</td>\n",
       "      <td>0</td>\n",
       "      <td>300</td>\n",
       "      <td>360</td>\n",
       "      <td>1</td>\n",
       "      <td>Rural</td>\n",
       "      <td>1</td>\n",
       "    </tr>\n",
       "  </tbody>\n",
       "</table>\n",
       "</div>"
      ],
      "text/plain": [
       "    Loan_ID Gender Married                   Locality  Dependents Education  \\\n",
       "0  LP001996   Male      No  Qureshi Square, New Delhi           0  Graduate   \n",
       "1  LP002191   Male     Yes  Qureshi Square, New Delhi           0  Graduate   \n",
       "2  LP002699   Male     Yes  Qureshi Square, New Delhi           2  Graduate   \n",
       "3  LP002527   Male     Yes  Qureshi Square, New Delhi           2  Graduate   \n",
       "4  LP002065   Male     Yes  Qureshi Square, New Delhi           3  Graduate   \n",
       "\n",
       "  Self_Employed  ApplicantIncome  CoapplicantIncome  LoanAmount  \\\n",
       "0            No            20233                  0         480   \n",
       "1            No            19730               5266         570   \n",
       "2           Yes            17500                  0         400   \n",
       "3           Yes            16525               1014         150   \n",
       "4            No            15000                  0         300   \n",
       "\n",
       "   Loan_Amount_Term  Credit_History Property_Area  Loan_Status_num  \n",
       "0               360               1         Rural                0  \n",
       "1               360               1         Rural                0  \n",
       "2               360               1         Rural                1  \n",
       "3               360               1         Rural                1  \n",
       "4               360               1         Rural                1  "
      ]
     },
     "execution_count": 16,
     "metadata": {},
     "output_type": "execute_result"
    }
   ],
   "source": [
    "df.head()"
   ]
  },
  {
   "cell_type": "markdown",
   "metadata": {},
   "source": [
    "## Step 3: Data Preparation\n"
   ]
  },
  {
   "cell_type": "markdown",
   "metadata": {},
   "source": [
    "### Converting the binary variables to 0/1"
   ]
  },
  {
   "cell_type": "code",
   "execution_count": 17,
   "metadata": {},
   "outputs": [],
   "source": [
    "# List of variables to map\n",
    "\n",
    "binlist1 =  ['Married', 'Self_Employed']\n",
    "\n",
    "# Defining the map function\n",
    "def binary_map1(x):\n",
    "    return x.map({'Yes': 1, \"No\": 0})\n",
    "\n",
    "binlist2 =  ['Education']\n",
    "def binary_map2(a):\n",
    "    return a.map({'Graduate': 1, \"Not Graduate\": 0})\n",
    "\n",
    "binlist3 =  ['Gender']\n",
    "def binary_map3(b):\n",
    "    return b.map({'Male': 1, \"Female\": 0})\n",
    "\n",
    "\n",
    "# Applying the function to the leads list\n",
    "df[binlist1] = df[binlist1].apply(binary_map1)\n",
    "df[binlist2] = df[binlist2].apply(binary_map2)\n",
    "df[binlist3] = df[binlist3].apply(binary_map3)"
   ]
  },
  {
   "cell_type": "code",
   "execution_count": 18,
   "metadata": {},
   "outputs": [
    {
     "name": "stdout",
     "output_type": "stream",
     "text": [
      "<class 'pandas.core.frame.DataFrame'>\n",
      "RangeIndex: 676 entries, 0 to 675\n",
      "Data columns (total 14 columns):\n",
      " #   Column             Non-Null Count  Dtype \n",
      "---  ------             --------------  ----- \n",
      " 0   Loan_ID            676 non-null    object\n",
      " 1   Gender             676 non-null    int64 \n",
      " 2   Married            676 non-null    int64 \n",
      " 3   Locality           676 non-null    object\n",
      " 4   Dependents         676 non-null    int64 \n",
      " 5   Education          676 non-null    int64 \n",
      " 6   Self_Employed      676 non-null    int64 \n",
      " 7   ApplicantIncome    676 non-null    int64 \n",
      " 8   CoapplicantIncome  676 non-null    int64 \n",
      " 9   LoanAmount         676 non-null    int64 \n",
      " 10  Loan_Amount_Term   676 non-null    int64 \n",
      " 11  Credit_History     676 non-null    int64 \n",
      " 12  Property_Area      676 non-null    object\n",
      " 13  Loan_Status_num    676 non-null    int32 \n",
      "dtypes: int32(1), int64(10), object(3)\n",
      "memory usage: 71.4+ KB\n"
     ]
    }
   ],
   "source": [
    "df.info()"
   ]
  },
  {
   "cell_type": "markdown",
   "metadata": {},
   "source": [
    "### Converting the categorical variables into dummy variables"
   ]
  },
  {
   "cell_type": "code",
   "execution_count": 19,
   "metadata": {},
   "outputs": [],
   "source": [
    "# Creating dummy variables for the categorical variables. \n",
    "# and dropping those variables the first\n",
    "\n",
    "# Creating dummy variables for the variable 'Locality'\n",
    "lo = pd.get_dummies(df['Locality'])\n",
    "# Dropping Sukhdev Enclave, New Delhi column\n",
    "lo1 = lo.drop(['Sukhdev Enclave, New Delhi'], 1)\n",
    "#Adding the results to the master dataframe\n",
    "df = pd.concat([df,lo1], axis=1)\n",
    "\n",
    "# Creating dummy variables for the variable 'Property Area'\n",
    "pa = pd.get_dummies(df['Property_Area'])\n",
    "# Dropping Sukhdev Enclave column\n",
    "pa1 = pa.drop(['Rural'], 1)\n",
    "#Adding the results to the master dataframe\n",
    "df = pd.concat([df,pa1], axis=1)"
   ]
  },
  {
   "cell_type": "code",
   "execution_count": 20,
   "metadata": {},
   "outputs": [],
   "source": [
    "# Since we have created dummies for the below variables, so we can drop them\n",
    "\n",
    "df = df.drop(['Locality','Property_Area'], 1)"
   ]
  },
  {
   "cell_type": "code",
   "execution_count": 21,
   "metadata": {},
   "outputs": [
    {
     "name": "stdout",
     "output_type": "stream",
     "text": [
      "<class 'pandas.core.frame.DataFrame'>\n",
      "RangeIndex: 676 entries, 0 to 675\n",
      "Data columns (total 24 columns):\n",
      " #   Column                     Non-Null Count  Dtype \n",
      "---  ------                     --------------  ----- \n",
      " 0   Loan_ID                    676 non-null    object\n",
      " 1   Gender                     676 non-null    int64 \n",
      " 2   Married                    676 non-null    int64 \n",
      " 3   Dependents                 676 non-null    int64 \n",
      " 4   Education                  676 non-null    int64 \n",
      " 5   Self_Employed              676 non-null    int64 \n",
      " 6   ApplicantIncome            676 non-null    int64 \n",
      " 7   CoapplicantIncome          676 non-null    int64 \n",
      " 8   LoanAmount                 676 non-null    int64 \n",
      " 9   Loan_Amount_Term           676 non-null    int64 \n",
      " 10  Credit_History             676 non-null    int64 \n",
      " 11  Loan_Status_num            676 non-null    int32 \n",
      " 12  Amit Enclave, Gurgaon      676 non-null    uint8 \n",
      " 13  District 9                 676 non-null    uint8 \n",
      " 14  Hari Vihar, New Delhi      676 non-null    uint8 \n",
      " 15  Karimpur, New Delhi        676 non-null    uint8 \n",
      " 16  Naman Enclave, New Delhi   676 non-null    uint8 \n",
      " 17  Park Circus, New Delhi     676 non-null    uint8 \n",
      " 18  Qureshi Square, New Delhi  676 non-null    uint8 \n",
      " 19  Richmond, New Delhi        676 non-null    uint8 \n",
      " 20  Tibetan Colony, New Delhi  676 non-null    uint8 \n",
      " 21  Vikasnagar, New Delhi      676 non-null    uint8 \n",
      " 22  Semiurban                  676 non-null    uint8 \n",
      " 23  Urban                      676 non-null    uint8 \n",
      "dtypes: int32(1), int64(10), object(1), uint8(12)\n",
      "memory usage: 68.8+ KB\n"
     ]
    }
   ],
   "source": [
    "df.info()"
   ]
  },
  {
   "cell_type": "markdown",
   "metadata": {},
   "source": [
    "## Train-Test Split"
   ]
  },
  {
   "cell_type": "code",
   "execution_count": 22,
   "metadata": {},
   "outputs": [],
   "source": [
    "# Importing the required libraries\n",
    "from sklearn.model_selection import train_test_split"
   ]
  },
  {
   "cell_type": "code",
   "execution_count": 23,
   "metadata": {},
   "outputs": [
    {
     "data": {
      "text/html": [
       "<div>\n",
       "<style scoped>\n",
       "    .dataframe tbody tr th:only-of-type {\n",
       "        vertical-align: middle;\n",
       "    }\n",
       "\n",
       "    .dataframe tbody tr th {\n",
       "        vertical-align: top;\n",
       "    }\n",
       "\n",
       "    .dataframe thead th {\n",
       "        text-align: right;\n",
       "    }\n",
       "</style>\n",
       "<table border=\"1\" class=\"dataframe\">\n",
       "  <thead>\n",
       "    <tr style=\"text-align: right;\">\n",
       "      <th></th>\n",
       "      <th>Gender</th>\n",
       "      <th>Married</th>\n",
       "      <th>Dependents</th>\n",
       "      <th>Education</th>\n",
       "      <th>Self_Employed</th>\n",
       "      <th>ApplicantIncome</th>\n",
       "      <th>CoapplicantIncome</th>\n",
       "      <th>LoanAmount</th>\n",
       "      <th>Loan_Amount_Term</th>\n",
       "      <th>Credit_History</th>\n",
       "      <th>...</th>\n",
       "      <th>Hari Vihar, New Delhi</th>\n",
       "      <th>Karimpur, New Delhi</th>\n",
       "      <th>Naman Enclave, New Delhi</th>\n",
       "      <th>Park Circus, New Delhi</th>\n",
       "      <th>Qureshi Square, New Delhi</th>\n",
       "      <th>Richmond, New Delhi</th>\n",
       "      <th>Tibetan Colony, New Delhi</th>\n",
       "      <th>Vikasnagar, New Delhi</th>\n",
       "      <th>Semiurban</th>\n",
       "      <th>Urban</th>\n",
       "    </tr>\n",
       "  </thead>\n",
       "  <tbody>\n",
       "    <tr>\n",
       "      <th>0</th>\n",
       "      <td>1</td>\n",
       "      <td>0</td>\n",
       "      <td>0</td>\n",
       "      <td>1</td>\n",
       "      <td>0</td>\n",
       "      <td>20233</td>\n",
       "      <td>0</td>\n",
       "      <td>480</td>\n",
       "      <td>360</td>\n",
       "      <td>1</td>\n",
       "      <td>...</td>\n",
       "      <td>0</td>\n",
       "      <td>0</td>\n",
       "      <td>0</td>\n",
       "      <td>0</td>\n",
       "      <td>1</td>\n",
       "      <td>0</td>\n",
       "      <td>0</td>\n",
       "      <td>0</td>\n",
       "      <td>0</td>\n",
       "      <td>0</td>\n",
       "    </tr>\n",
       "    <tr>\n",
       "      <th>1</th>\n",
       "      <td>1</td>\n",
       "      <td>1</td>\n",
       "      <td>0</td>\n",
       "      <td>1</td>\n",
       "      <td>0</td>\n",
       "      <td>19730</td>\n",
       "      <td>5266</td>\n",
       "      <td>570</td>\n",
       "      <td>360</td>\n",
       "      <td>1</td>\n",
       "      <td>...</td>\n",
       "      <td>0</td>\n",
       "      <td>0</td>\n",
       "      <td>0</td>\n",
       "      <td>0</td>\n",
       "      <td>1</td>\n",
       "      <td>0</td>\n",
       "      <td>0</td>\n",
       "      <td>0</td>\n",
       "      <td>0</td>\n",
       "      <td>0</td>\n",
       "    </tr>\n",
       "    <tr>\n",
       "      <th>2</th>\n",
       "      <td>1</td>\n",
       "      <td>1</td>\n",
       "      <td>2</td>\n",
       "      <td>1</td>\n",
       "      <td>1</td>\n",
       "      <td>17500</td>\n",
       "      <td>0</td>\n",
       "      <td>400</td>\n",
       "      <td>360</td>\n",
       "      <td>1</td>\n",
       "      <td>...</td>\n",
       "      <td>0</td>\n",
       "      <td>0</td>\n",
       "      <td>0</td>\n",
       "      <td>0</td>\n",
       "      <td>1</td>\n",
       "      <td>0</td>\n",
       "      <td>0</td>\n",
       "      <td>0</td>\n",
       "      <td>0</td>\n",
       "      <td>0</td>\n",
       "    </tr>\n",
       "    <tr>\n",
       "      <th>3</th>\n",
       "      <td>1</td>\n",
       "      <td>1</td>\n",
       "      <td>2</td>\n",
       "      <td>1</td>\n",
       "      <td>1</td>\n",
       "      <td>16525</td>\n",
       "      <td>1014</td>\n",
       "      <td>150</td>\n",
       "      <td>360</td>\n",
       "      <td>1</td>\n",
       "      <td>...</td>\n",
       "      <td>0</td>\n",
       "      <td>0</td>\n",
       "      <td>0</td>\n",
       "      <td>0</td>\n",
       "      <td>1</td>\n",
       "      <td>0</td>\n",
       "      <td>0</td>\n",
       "      <td>0</td>\n",
       "      <td>0</td>\n",
       "      <td>0</td>\n",
       "    </tr>\n",
       "    <tr>\n",
       "      <th>4</th>\n",
       "      <td>1</td>\n",
       "      <td>1</td>\n",
       "      <td>3</td>\n",
       "      <td>1</td>\n",
       "      <td>0</td>\n",
       "      <td>15000</td>\n",
       "      <td>0</td>\n",
       "      <td>300</td>\n",
       "      <td>360</td>\n",
       "      <td>1</td>\n",
       "      <td>...</td>\n",
       "      <td>0</td>\n",
       "      <td>0</td>\n",
       "      <td>0</td>\n",
       "      <td>0</td>\n",
       "      <td>1</td>\n",
       "      <td>0</td>\n",
       "      <td>0</td>\n",
       "      <td>0</td>\n",
       "      <td>0</td>\n",
       "      <td>0</td>\n",
       "    </tr>\n",
       "  </tbody>\n",
       "</table>\n",
       "<p>5 rows × 22 columns</p>\n",
       "</div>"
      ],
      "text/plain": [
       "   Gender  Married  Dependents  Education  Self_Employed  ApplicantIncome  \\\n",
       "0       1        0           0          1              0            20233   \n",
       "1       1        1           0          1              0            19730   \n",
       "2       1        1           2          1              1            17500   \n",
       "3       1        1           2          1              1            16525   \n",
       "4       1        1           3          1              0            15000   \n",
       "\n",
       "   CoapplicantIncome  LoanAmount  Loan_Amount_Term  Credit_History  ...  \\\n",
       "0                  0         480               360               1  ...   \n",
       "1               5266         570               360               1  ...   \n",
       "2                  0         400               360               1  ...   \n",
       "3               1014         150               360               1  ...   \n",
       "4                  0         300               360               1  ...   \n",
       "\n",
       "   Hari Vihar, New Delhi  Karimpur, New Delhi  Naman Enclave, New Delhi  \\\n",
       "0                      0                    0                         0   \n",
       "1                      0                    0                         0   \n",
       "2                      0                    0                         0   \n",
       "3                      0                    0                         0   \n",
       "4                      0                    0                         0   \n",
       "\n",
       "   Park Circus, New Delhi  Qureshi Square, New Delhi  Richmond, New Delhi  \\\n",
       "0                       0                          1                    0   \n",
       "1                       0                          1                    0   \n",
       "2                       0                          1                    0   \n",
       "3                       0                          1                    0   \n",
       "4                       0                          1                    0   \n",
       "\n",
       "   Tibetan Colony, New Delhi  Vikasnagar, New Delhi  Semiurban  Urban  \n",
       "0                          0                      0          0      0  \n",
       "1                          0                      0          0      0  \n",
       "2                          0                      0          0      0  \n",
       "3                          0                      0          0      0  \n",
       "4                          0                      0          0      0  \n",
       "\n",
       "[5 rows x 22 columns]"
      ]
     },
     "execution_count": 23,
     "metadata": {},
     "output_type": "execute_result"
    }
   ],
   "source": [
    "# Putting feature variable to X\n",
    "X = df.drop(['Loan_Status_num', 'Loan_ID'], axis=1)\n",
    "\n",
    "X.head()"
   ]
  },
  {
   "cell_type": "code",
   "execution_count": 24,
   "metadata": {},
   "outputs": [
    {
     "data": {
      "text/plain": [
       "0    0\n",
       "1    0\n",
       "2    1\n",
       "3    1\n",
       "4    1\n",
       "Name: Loan_Status_num, dtype: int32"
      ]
     },
     "execution_count": 24,
     "metadata": {},
     "output_type": "execute_result"
    }
   ],
   "source": [
    "# Putting response variable to y\n",
    "y = df['Loan_Status_num']\n",
    "\n",
    "y.head()"
   ]
  },
  {
   "cell_type": "markdown",
   "metadata": {},
   "source": [
    "#### First we will divide the data into train-test set"
   ]
  },
  {
   "cell_type": "code",
   "execution_count": 25,
   "metadata": {},
   "outputs": [],
   "source": [
    "# Splitting the data into train and test\n",
    "\n",
    "X_train, X_test, y_train, y_test = train_test_split(X, y, train_size=0.7, test_size=0.3, random_state=100)"
   ]
  },
  {
   "cell_type": "code",
   "execution_count": 26,
   "metadata": {},
   "outputs": [
    {
     "name": "stdout",
     "output_type": "stream",
     "text": [
      "The Loan Rate =  50.14792899408283\n"
     ]
    }
   ],
   "source": [
    "# Calculating the lead rate\n",
    "loan_rate = (sum(df['Loan_Status_num'])/len(df['Loan_Status_num'].index))*100\n",
    "print(\"The Loan Rate = \", loan_rate)"
   ]
  },
  {
   "cell_type": "code",
   "execution_count": null,
   "metadata": {},
   "outputs": [],
   "source": []
  },
  {
   "cell_type": "markdown",
   "metadata": {},
   "source": [
    "### Feature Scaling"
   ]
  },
  {
   "cell_type": "code",
   "execution_count": 27,
   "metadata": {},
   "outputs": [],
   "source": [
    "### Importing the required libraries\n",
    "from sklearn.preprocessing import StandardScaler"
   ]
  },
  {
   "cell_type": "code",
   "execution_count": 28,
   "metadata": {},
   "outputs": [
    {
     "data": {
      "text/html": [
       "<div>\n",
       "<style scoped>\n",
       "    .dataframe tbody tr th:only-of-type {\n",
       "        vertical-align: middle;\n",
       "    }\n",
       "\n",
       "    .dataframe tbody tr th {\n",
       "        vertical-align: top;\n",
       "    }\n",
       "\n",
       "    .dataframe thead th {\n",
       "        text-align: right;\n",
       "    }\n",
       "</style>\n",
       "<table border=\"1\" class=\"dataframe\">\n",
       "  <thead>\n",
       "    <tr style=\"text-align: right;\">\n",
       "      <th></th>\n",
       "      <th>Gender</th>\n",
       "      <th>Married</th>\n",
       "      <th>Dependents</th>\n",
       "      <th>Education</th>\n",
       "      <th>Self_Employed</th>\n",
       "      <th>ApplicantIncome</th>\n",
       "      <th>CoapplicantIncome</th>\n",
       "      <th>LoanAmount</th>\n",
       "      <th>Loan_Amount_Term</th>\n",
       "      <th>Credit_History</th>\n",
       "      <th>...</th>\n",
       "      <th>Hari Vihar, New Delhi</th>\n",
       "      <th>Karimpur, New Delhi</th>\n",
       "      <th>Naman Enclave, New Delhi</th>\n",
       "      <th>Park Circus, New Delhi</th>\n",
       "      <th>Qureshi Square, New Delhi</th>\n",
       "      <th>Richmond, New Delhi</th>\n",
       "      <th>Tibetan Colony, New Delhi</th>\n",
       "      <th>Vikasnagar, New Delhi</th>\n",
       "      <th>Semiurban</th>\n",
       "      <th>Urban</th>\n",
       "    </tr>\n",
       "  </thead>\n",
       "  <tbody>\n",
       "    <tr>\n",
       "      <th>593</th>\n",
       "      <td>1</td>\n",
       "      <td>1</td>\n",
       "      <td>-0.591048</td>\n",
       "      <td>1</td>\n",
       "      <td>0</td>\n",
       "      <td>1.329861</td>\n",
       "      <td>-0.249316</td>\n",
       "      <td>-0.049490</td>\n",
       "      <td>0.259652</td>\n",
       "      <td>1</td>\n",
       "      <td>...</td>\n",
       "      <td>0</td>\n",
       "      <td>0</td>\n",
       "      <td>0</td>\n",
       "      <td>0</td>\n",
       "      <td>0</td>\n",
       "      <td>0</td>\n",
       "      <td>0</td>\n",
       "      <td>0</td>\n",
       "      <td>1</td>\n",
       "      <td>0</td>\n",
       "    </tr>\n",
       "    <tr>\n",
       "      <th>270</th>\n",
       "      <td>1</td>\n",
       "      <td>1</td>\n",
       "      <td>-0.591048</td>\n",
       "      <td>1</td>\n",
       "      <td>0</td>\n",
       "      <td>-0.856313</td>\n",
       "      <td>1.405627</td>\n",
       "      <td>-1.342086</td>\n",
       "      <td>-2.820997</td>\n",
       "      <td>1</td>\n",
       "      <td>...</td>\n",
       "      <td>0</td>\n",
       "      <td>0</td>\n",
       "      <td>0</td>\n",
       "      <td>0</td>\n",
       "      <td>0</td>\n",
       "      <td>0</td>\n",
       "      <td>0</td>\n",
       "      <td>0</td>\n",
       "      <td>1</td>\n",
       "      <td>0</td>\n",
       "    </tr>\n",
       "    <tr>\n",
       "      <th>444</th>\n",
       "      <td>1</td>\n",
       "      <td>1</td>\n",
       "      <td>0.505288</td>\n",
       "      <td>0</td>\n",
       "      <td>0</td>\n",
       "      <td>-0.927217</td>\n",
       "      <td>0.470480</td>\n",
       "      <td>-0.256306</td>\n",
       "      <td>-2.820997</td>\n",
       "      <td>1</td>\n",
       "      <td>...</td>\n",
       "      <td>0</td>\n",
       "      <td>0</td>\n",
       "      <td>0</td>\n",
       "      <td>0</td>\n",
       "      <td>0</td>\n",
       "      <td>0</td>\n",
       "      <td>1</td>\n",
       "      <td>0</td>\n",
       "      <td>0</td>\n",
       "      <td>1</td>\n",
       "    </tr>\n",
       "    <tr>\n",
       "      <th>607</th>\n",
       "      <td>1</td>\n",
       "      <td>1</td>\n",
       "      <td>-0.591048</td>\n",
       "      <td>1</td>\n",
       "      <td>0</td>\n",
       "      <td>0.947410</td>\n",
       "      <td>-0.296302</td>\n",
       "      <td>1.100920</td>\n",
       "      <td>0.259652</td>\n",
       "      <td>1</td>\n",
       "      <td>...</td>\n",
       "      <td>0</td>\n",
       "      <td>0</td>\n",
       "      <td>0</td>\n",
       "      <td>0</td>\n",
       "      <td>0</td>\n",
       "      <td>0</td>\n",
       "      <td>0</td>\n",
       "      <td>0</td>\n",
       "      <td>1</td>\n",
       "      <td>0</td>\n",
       "    </tr>\n",
       "    <tr>\n",
       "      <th>127</th>\n",
       "      <td>1</td>\n",
       "      <td>1</td>\n",
       "      <td>1.601624</td>\n",
       "      <td>0</td>\n",
       "      <td>0</td>\n",
       "      <td>-0.960354</td>\n",
       "      <td>-0.823587</td>\n",
       "      <td>-0.605306</td>\n",
       "      <td>0.259652</td>\n",
       "      <td>1</td>\n",
       "      <td>...</td>\n",
       "      <td>0</td>\n",
       "      <td>0</td>\n",
       "      <td>0</td>\n",
       "      <td>0</td>\n",
       "      <td>0</td>\n",
       "      <td>0</td>\n",
       "      <td>0</td>\n",
       "      <td>0</td>\n",
       "      <td>0</td>\n",
       "      <td>0</td>\n",
       "    </tr>\n",
       "  </tbody>\n",
       "</table>\n",
       "<p>5 rows × 22 columns</p>\n",
       "</div>"
      ],
      "text/plain": [
       "     Gender  Married  Dependents  Education  Self_Employed  ApplicantIncome  \\\n",
       "593       1        1   -0.591048          1              0         1.329861   \n",
       "270       1        1   -0.591048          1              0        -0.856313   \n",
       "444       1        1    0.505288          0              0        -0.927217   \n",
       "607       1        1   -0.591048          1              0         0.947410   \n",
       "127       1        1    1.601624          0              0        -0.960354   \n",
       "\n",
       "     CoapplicantIncome  LoanAmount  Loan_Amount_Term  Credit_History  ...  \\\n",
       "593          -0.249316   -0.049490          0.259652               1  ...   \n",
       "270           1.405627   -1.342086         -2.820997               1  ...   \n",
       "444           0.470480   -0.256306         -2.820997               1  ...   \n",
       "607          -0.296302    1.100920          0.259652               1  ...   \n",
       "127          -0.823587   -0.605306          0.259652               1  ...   \n",
       "\n",
       "     Hari Vihar, New Delhi  Karimpur, New Delhi  Naman Enclave, New Delhi  \\\n",
       "593                      0                    0                         0   \n",
       "270                      0                    0                         0   \n",
       "444                      0                    0                         0   \n",
       "607                      0                    0                         0   \n",
       "127                      0                    0                         0   \n",
       "\n",
       "     Park Circus, New Delhi  Qureshi Square, New Delhi  Richmond, New Delhi  \\\n",
       "593                       0                          0                    0   \n",
       "270                       0                          0                    0   \n",
       "444                       0                          0                    0   \n",
       "607                       0                          0                    0   \n",
       "127                       0                          0                    0   \n",
       "\n",
       "     Tibetan Colony, New Delhi  Vikasnagar, New Delhi  Semiurban  Urban  \n",
       "593                          0                      0          1      0  \n",
       "270                          0                      0          1      0  \n",
       "444                          1                      0          0      1  \n",
       "607                          0                      0          1      0  \n",
       "127                          0                      0          0      0  \n",
       "\n",
       "[5 rows x 22 columns]"
      ]
     },
     "execution_count": 28,
     "metadata": {},
     "output_type": "execute_result"
    }
   ],
   "source": [
    "# Apply scaler() to all the columns except the 'yes-no' and 'dummy' variables\n",
    "\n",
    "scaler = StandardScaler()\n",
    "\n",
    "X_train[['Loan_Amount_Term','Dependents','ApplicantIncome', \"CoapplicantIncome\", \"LoanAmount\"]] = scaler.fit_transform(X_train[['Loan_Amount_Term','Dependents','ApplicantIncome', \"CoapplicantIncome\", \"LoanAmount\"]])\n",
    "\n",
    "X_train.head()"
   ]
  },
  {
   "cell_type": "markdown",
   "metadata": {},
   "source": [
    "### Model Building"
   ]
  },
  {
   "cell_type": "code",
   "execution_count": 29,
   "metadata": {},
   "outputs": [],
   "source": [
    "# Importing the required libraries\n",
    "import statsmodels.api as sm"
   ]
  },
  {
   "cell_type": "code",
   "execution_count": 30,
   "metadata": {},
   "outputs": [
    {
     "data": {
      "text/html": [
       "<table class=\"simpletable\">\n",
       "<caption>Generalized Linear Model Regression Results</caption>\n",
       "<tr>\n",
       "  <th>Dep. Variable:</th>    <td>Loan_Status_num</td> <th>  No. Observations:  </th>  <td>   473</td> \n",
       "</tr>\n",
       "<tr>\n",
       "  <th>Model:</th>                  <td>GLM</td>       <th>  Df Residuals:      </th>  <td>   452</td> \n",
       "</tr>\n",
       "<tr>\n",
       "  <th>Model Family:</th>        <td>Binomial</td>     <th>  Df Model:          </th>  <td>    20</td> \n",
       "</tr>\n",
       "<tr>\n",
       "  <th>Link Function:</th>         <td>logit</td>      <th>  Scale:             </th> <td>  1.0000</td>\n",
       "</tr>\n",
       "<tr>\n",
       "  <th>Method:</th>                <td>IRLS</td>       <th>  Log-Likelihood:    </th> <td> -173.48</td>\n",
       "</tr>\n",
       "<tr>\n",
       "  <th>Date:</th>            <td>Wed, 12 May 2021</td> <th>  Deviance:          </th> <td>  346.97</td>\n",
       "</tr>\n",
       "<tr>\n",
       "  <th>Time:</th>                <td>20:04:33</td>     <th>  Pearson chi2:      </th>  <td>  486.</td> \n",
       "</tr>\n",
       "<tr>\n",
       "  <th>No. Iterations:</th>          <td>6</td>        <th>                     </th>     <td> </td>   \n",
       "</tr>\n",
       "<tr>\n",
       "  <th>Covariance Type:</th>     <td>nonrobust</td>    <th>                     </th>     <td> </td>   \n",
       "</tr>\n",
       "</table>\n",
       "<table class=\"simpletable\">\n",
       "<tr>\n",
       "              <td></td>                 <th>coef</th>     <th>std err</th>      <th>z</th>      <th>P>|z|</th>  <th>[0.025</th>    <th>0.975]</th>  \n",
       "</tr>\n",
       "<tr>\n",
       "  <th>const</th>                     <td>   -2.8536</td> <td>    0.569</td> <td>   -5.013</td> <td> 0.000</td> <td>   -3.969</td> <td>   -1.738</td>\n",
       "</tr>\n",
       "<tr>\n",
       "  <th>Gender</th>                    <td>    0.8941</td> <td>    0.371</td> <td>    2.410</td> <td> 0.016</td> <td>    0.167</td> <td>    1.621</td>\n",
       "</tr>\n",
       "<tr>\n",
       "  <th>Married</th>                   <td>    0.5107</td> <td>    0.320</td> <td>    1.594</td> <td> 0.111</td> <td>   -0.117</td> <td>    1.139</td>\n",
       "</tr>\n",
       "<tr>\n",
       "  <th>Dependents</th>                <td>    0.1972</td> <td>    0.151</td> <td>    1.303</td> <td> 0.192</td> <td>   -0.099</td> <td>    0.494</td>\n",
       "</tr>\n",
       "<tr>\n",
       "  <th>Education</th>                 <td>    0.4642</td> <td>    0.356</td> <td>    1.303</td> <td> 0.192</td> <td>   -0.234</td> <td>    1.162</td>\n",
       "</tr>\n",
       "<tr>\n",
       "  <th>Self_Employed</th>             <td>   -0.3603</td> <td>    0.416</td> <td>   -0.866</td> <td> 0.387</td> <td>   -1.176</td> <td>    0.455</td>\n",
       "</tr>\n",
       "<tr>\n",
       "  <th>ApplicantIncome</th>           <td>    0.4887</td> <td>    0.414</td> <td>    1.182</td> <td> 0.237</td> <td>   -0.322</td> <td>    1.299</td>\n",
       "</tr>\n",
       "<tr>\n",
       "  <th>CoapplicantIncome</th>         <td>    0.1436</td> <td>    0.153</td> <td>    0.936</td> <td> 0.349</td> <td>   -0.157</td> <td>    0.444</td>\n",
       "</tr>\n",
       "<tr>\n",
       "  <th>LoanAmount</th>                <td>   -0.3976</td> <td>    0.200</td> <td>   -1.992</td> <td> 0.046</td> <td>   -0.789</td> <td>   -0.006</td>\n",
       "</tr>\n",
       "<tr>\n",
       "  <th>Loan_Amount_Term</th>          <td>    0.0992</td> <td>    0.122</td> <td>    0.812</td> <td> 0.417</td> <td>   -0.140</td> <td>    0.339</td>\n",
       "</tr>\n",
       "<tr>\n",
       "  <th>Credit_History</th>            <td>    3.4424</td> <td>    0.471</td> <td>    7.311</td> <td> 0.000</td> <td>    2.520</td> <td>    4.365</td>\n",
       "</tr>\n",
       "<tr>\n",
       "  <th>Amit Enclave, Gurgaon</th>     <td>    0.1839</td> <td>    0.613</td> <td>    0.300</td> <td> 0.764</td> <td>   -1.018</td> <td>    1.385</td>\n",
       "</tr>\n",
       "<tr>\n",
       "  <th>District 9</th>                <td>   -5.6965</td> <td>    0.948</td> <td>   -6.011</td> <td> 0.000</td> <td>   -7.554</td> <td>   -3.839</td>\n",
       "</tr>\n",
       "<tr>\n",
       "  <th>Hari Vihar, New Delhi</th>     <td>   -0.2286</td> <td>    0.453</td> <td>   -0.505</td> <td> 0.614</td> <td>   -1.116</td> <td>    0.659</td>\n",
       "</tr>\n",
       "<tr>\n",
       "  <th>Karimpur, New Delhi</th>       <td>   -0.7938</td> <td>    0.629</td> <td>   -1.262</td> <td> 0.207</td> <td>   -2.027</td> <td>    0.439</td>\n",
       "</tr>\n",
       "<tr>\n",
       "  <th>Naman Enclave, New Delhi</th>  <td>    0.0553</td> <td>    0.478</td> <td>    0.116</td> <td> 0.908</td> <td>   -0.882</td> <td>    0.993</td>\n",
       "</tr>\n",
       "<tr>\n",
       "  <th>Park Circus, New Delhi</th>    <td>    0.6296</td> <td>    0.647</td> <td>    0.973</td> <td> 0.331</td> <td>   -0.639</td> <td>    1.898</td>\n",
       "</tr>\n",
       "<tr>\n",
       "  <th>Qureshi Square, New Delhi</th> <td>   -1.2262</td> <td>    0.416</td> <td>   -2.948</td> <td> 0.003</td> <td>   -2.041</td> <td>   -0.411</td>\n",
       "</tr>\n",
       "<tr>\n",
       "  <th>Richmond, New Delhi</th>       <td>   -0.1974</td> <td>    0.952</td> <td>   -0.207</td> <td> 0.836</td> <td>   -2.063</td> <td>    1.668</td>\n",
       "</tr>\n",
       "<tr>\n",
       "  <th>Tibetan Colony, New Delhi</th> <td>    0.2283</td> <td>    0.418</td> <td>    0.546</td> <td> 0.585</td> <td>   -0.592</td> <td>    1.048</td>\n",
       "</tr>\n",
       "<tr>\n",
       "  <th>Vikasnagar, New Delhi</th>     <td>   -1.0171</td> <td>    0.370</td> <td>   -2.749</td> <td> 0.006</td> <td>   -1.742</td> <td>   -0.292</td>\n",
       "</tr>\n",
       "<tr>\n",
       "  <th>Semiurban</th>                 <td>   -0.0553</td> <td>    0.329</td> <td>   -0.168</td> <td> 0.867</td> <td>   -0.701</td> <td>    0.590</td>\n",
       "</tr>\n",
       "<tr>\n",
       "  <th>Urban</th>                     <td>   -0.7389</td> <td>    0.259</td> <td>   -2.848</td> <td> 0.004</td> <td>   -1.247</td> <td>   -0.230</td>\n",
       "</tr>\n",
       "</table>"
      ],
      "text/plain": [
       "<class 'statsmodels.iolib.summary.Summary'>\n",
       "\"\"\"\n",
       "                 Generalized Linear Model Regression Results                  \n",
       "==============================================================================\n",
       "Dep. Variable:        Loan_Status_num   No. Observations:                  473\n",
       "Model:                            GLM   Df Residuals:                      452\n",
       "Model Family:                Binomial   Df Model:                           20\n",
       "Link Function:                  logit   Scale:                          1.0000\n",
       "Method:                          IRLS   Log-Likelihood:                -173.48\n",
       "Date:                Wed, 12 May 2021   Deviance:                       346.97\n",
       "Time:                        20:04:33   Pearson chi2:                     486.\n",
       "No. Iterations:                     6                                         \n",
       "Covariance Type:            nonrobust                                         \n",
       "=============================================================================================\n",
       "                                coef    std err          z      P>|z|      [0.025      0.975]\n",
       "---------------------------------------------------------------------------------------------\n",
       "const                        -2.8536      0.569     -5.013      0.000      -3.969      -1.738\n",
       "Gender                        0.8941      0.371      2.410      0.016       0.167       1.621\n",
       "Married                       0.5107      0.320      1.594      0.111      -0.117       1.139\n",
       "Dependents                    0.1972      0.151      1.303      0.192      -0.099       0.494\n",
       "Education                     0.4642      0.356      1.303      0.192      -0.234       1.162\n",
       "Self_Employed                -0.3603      0.416     -0.866      0.387      -1.176       0.455\n",
       "ApplicantIncome               0.4887      0.414      1.182      0.237      -0.322       1.299\n",
       "CoapplicantIncome             0.1436      0.153      0.936      0.349      -0.157       0.444\n",
       "LoanAmount                   -0.3976      0.200     -1.992      0.046      -0.789      -0.006\n",
       "Loan_Amount_Term              0.0992      0.122      0.812      0.417      -0.140       0.339\n",
       "Credit_History                3.4424      0.471      7.311      0.000       2.520       4.365\n",
       "Amit Enclave, Gurgaon         0.1839      0.613      0.300      0.764      -1.018       1.385\n",
       "District 9                   -5.6965      0.948     -6.011      0.000      -7.554      -3.839\n",
       "Hari Vihar, New Delhi        -0.2286      0.453     -0.505      0.614      -1.116       0.659\n",
       "Karimpur, New Delhi          -0.7938      0.629     -1.262      0.207      -2.027       0.439\n",
       "Naman Enclave, New Delhi      0.0553      0.478      0.116      0.908      -0.882       0.993\n",
       "Park Circus, New Delhi        0.6296      0.647      0.973      0.331      -0.639       1.898\n",
       "Qureshi Square, New Delhi    -1.2262      0.416     -2.948      0.003      -2.041      -0.411\n",
       "Richmond, New Delhi          -0.1974      0.952     -0.207      0.836      -2.063       1.668\n",
       "Tibetan Colony, New Delhi     0.2283      0.418      0.546      0.585      -0.592       1.048\n",
       "Vikasnagar, New Delhi        -1.0171      0.370     -2.749      0.006      -1.742      -0.292\n",
       "Semiurban                    -0.0553      0.329     -0.168      0.867      -0.701       0.590\n",
       "Urban                        -0.7389      0.259     -2.848      0.004      -1.247      -0.230\n",
       "=============================================================================================\n",
       "\"\"\""
      ]
     },
     "execution_count": 30,
     "metadata": {},
     "output_type": "execute_result"
    }
   ],
   "source": [
    "# Logistic regression model\n",
    "logm1 = sm.GLM(y_train,(sm.add_constant(X_train)), family = sm.families.Binomial())\n",
    "logm1.fit().summary()"
   ]
  },
  {
   "cell_type": "markdown",
   "metadata": {},
   "source": [
    "### Feature Selection using RFE"
   ]
  },
  {
   "cell_type": "code",
   "execution_count": 31,
   "metadata": {},
   "outputs": [],
   "source": [
    "# Importing RFE and LinearRegression\n",
    "\n",
    "from sklearn.linear_model import LogisticRegression\n",
    "logreg = LogisticRegression()"
   ]
  },
  {
   "cell_type": "code",
   "execution_count": 32,
   "metadata": {},
   "outputs": [],
   "source": [
    "from sklearn.feature_selection import RFE\n",
    "rfe = RFE(logreg, 12)             # running RFE with 15 variables as output\n",
    "rfe = rfe.fit(X_train, y_train)"
   ]
  },
  {
   "cell_type": "code",
   "execution_count": 33,
   "metadata": {},
   "outputs": [
    {
     "data": {
      "text/plain": [
       "array([ True,  True, False,  True, False,  True, False, False, False,\n",
       "        True,  True,  True, False,  True, False,  True,  True,  True,\n",
       "       False,  True, False, False])"
      ]
     },
     "execution_count": 33,
     "metadata": {},
     "output_type": "execute_result"
    }
   ],
   "source": [
    "rfe.support_"
   ]
  },
  {
   "cell_type": "code",
   "execution_count": 34,
   "metadata": {},
   "outputs": [
    {
     "data": {
      "text/plain": [
       "[('Gender', True, 1),\n",
       " ('Married', True, 1),\n",
       " ('Dependents', False, 4),\n",
       " ('Education', True, 1),\n",
       " ('Self_Employed', False, 8),\n",
       " ('ApplicantIncome', True, 1),\n",
       " ('CoapplicantIncome', False, 9),\n",
       " ('LoanAmount', False, 5),\n",
       " ('Loan_Amount_Term', False, 11),\n",
       " ('Credit_History', True, 1),\n",
       " ('Amit Enclave, Gurgaon', True, 1),\n",
       " ('District 9', True, 1),\n",
       " ('Hari Vihar, New Delhi', False, 10),\n",
       " ('Karimpur, New Delhi', True, 1),\n",
       " ('Naman Enclave, New Delhi', False, 3),\n",
       " ('Park Circus, New Delhi', True, 1),\n",
       " ('Qureshi Square, New Delhi', True, 1),\n",
       " ('Richmond, New Delhi', True, 1),\n",
       " ('Tibetan Colony, New Delhi', False, 6),\n",
       " ('Vikasnagar, New Delhi', True, 1),\n",
       " ('Semiurban', False, 2),\n",
       " ('Urban', False, 7)]"
      ]
     },
     "execution_count": 34,
     "metadata": {},
     "output_type": "execute_result"
    }
   ],
   "source": [
    "list(zip(X_train.columns, rfe.support_, rfe.ranking_))"
   ]
  },
  {
   "cell_type": "code",
   "execution_count": 35,
   "metadata": {},
   "outputs": [],
   "source": [
    "col = X_train.columns[rfe.support_]"
   ]
  },
  {
   "cell_type": "code",
   "execution_count": 36,
   "metadata": {},
   "outputs": [
    {
     "data": {
      "text/plain": [
       "Index(['Dependents', 'Self_Employed', 'CoapplicantIncome', 'LoanAmount',\n",
       "       'Loan_Amount_Term', 'Hari Vihar, New Delhi', 'Naman Enclave, New Delhi',\n",
       "       'Tibetan Colony, New Delhi', 'Semiurban', 'Urban'],\n",
       "      dtype='object')"
      ]
     },
     "execution_count": 36,
     "metadata": {},
     "output_type": "execute_result"
    }
   ],
   "source": [
    "X_train.columns[~rfe.support_]"
   ]
  },
  {
   "cell_type": "markdown",
   "metadata": {},
   "source": [
    "### Accessing the model using statsmodel"
   ]
  },
  {
   "cell_type": "markdown",
   "metadata": {},
   "source": [
    "### Model 2:"
   ]
  },
  {
   "cell_type": "code",
   "execution_count": 37,
   "metadata": {},
   "outputs": [
    {
     "data": {
      "text/html": [
       "<table class=\"simpletable\">\n",
       "<caption>Generalized Linear Model Regression Results</caption>\n",
       "<tr>\n",
       "  <th>Dep. Variable:</th>    <td>Loan_Status_num</td> <th>  No. Observations:  </th>  <td>   473</td> \n",
       "</tr>\n",
       "<tr>\n",
       "  <th>Model:</th>                  <td>GLM</td>       <th>  Df Residuals:      </th>  <td>   460</td> \n",
       "</tr>\n",
       "<tr>\n",
       "  <th>Model Family:</th>        <td>Binomial</td>     <th>  Df Model:          </th>  <td>    12</td> \n",
       "</tr>\n",
       "<tr>\n",
       "  <th>Link Function:</th>         <td>logit</td>      <th>  Scale:             </th> <td>  1.0000</td>\n",
       "</tr>\n",
       "<tr>\n",
       "  <th>Method:</th>                <td>IRLS</td>       <th>  Log-Likelihood:    </th> <td> -177.77</td>\n",
       "</tr>\n",
       "<tr>\n",
       "  <th>Date:</th>            <td>Wed, 12 May 2021</td> <th>  Deviance:          </th> <td>  355.54</td>\n",
       "</tr>\n",
       "<tr>\n",
       "  <th>Time:</th>                <td>20:04:34</td>     <th>  Pearson chi2:      </th>  <td>  456.</td> \n",
       "</tr>\n",
       "<tr>\n",
       "  <th>No. Iterations:</th>          <td>6</td>        <th>                     </th>     <td> </td>   \n",
       "</tr>\n",
       "<tr>\n",
       "  <th>Covariance Type:</th>     <td>nonrobust</td>    <th>                     </th>     <td> </td>   \n",
       "</tr>\n",
       "</table>\n",
       "<table class=\"simpletable\">\n",
       "<tr>\n",
       "              <td></td>                 <th>coef</th>     <th>std err</th>      <th>z</th>      <th>P>|z|</th>  <th>[0.025</th>    <th>0.975]</th>  \n",
       "</tr>\n",
       "<tr>\n",
       "  <th>const</th>                     <td>   -3.3241</td> <td>    0.661</td> <td>   -5.029</td> <td> 0.000</td> <td>   -4.620</td> <td>   -2.028</td>\n",
       "</tr>\n",
       "<tr>\n",
       "  <th>Gender</th>                    <td>    0.8569</td> <td>    0.358</td> <td>    2.391</td> <td> 0.017</td> <td>    0.155</td> <td>    1.559</td>\n",
       "</tr>\n",
       "<tr>\n",
       "  <th>Married</th>                   <td>    0.5432</td> <td>    0.290</td> <td>    1.872</td> <td> 0.061</td> <td>   -0.026</td> <td>    1.112</td>\n",
       "</tr>\n",
       "<tr>\n",
       "  <th>Education</th>                 <td>    0.4098</td> <td>    0.342</td> <td>    1.199</td> <td> 0.230</td> <td>   -0.260</td> <td>    1.080</td>\n",
       "</tr>\n",
       "<tr>\n",
       "  <th>ApplicantIncome</th>           <td>   -0.0065</td> <td>    0.289</td> <td>   -0.023</td> <td> 0.982</td> <td>   -0.573</td> <td>    0.560</td>\n",
       "</tr>\n",
       "<tr>\n",
       "  <th>Credit_History</th>            <td>    3.3483</td> <td>    0.454</td> <td>    7.377</td> <td> 0.000</td> <td>    2.459</td> <td>    4.238</td>\n",
       "</tr>\n",
       "<tr>\n",
       "  <th>Amit Enclave, Gurgaon</th>     <td>    0.4782</td> <td>    0.715</td> <td>    0.669</td> <td> 0.504</td> <td>   -0.923</td> <td>    1.879</td>\n",
       "</tr>\n",
       "<tr>\n",
       "  <th>District 9</th>                <td>   -4.7821</td> <td>    0.733</td> <td>   -6.527</td> <td> 0.000</td> <td>   -6.218</td> <td>   -3.346</td>\n",
       "</tr>\n",
       "<tr>\n",
       "  <th>Karimpur, New Delhi</th>       <td>   -1.0469</td> <td>    0.776</td> <td>   -1.349</td> <td> 0.177</td> <td>   -2.569</td> <td>    0.475</td>\n",
       "</tr>\n",
       "<tr>\n",
       "  <th>Park Circus, New Delhi</th>    <td>    0.9470</td> <td>    0.583</td> <td>    1.625</td> <td> 0.104</td> <td>   -0.195</td> <td>    2.089</td>\n",
       "</tr>\n",
       "<tr>\n",
       "  <th>Qureshi Square, New Delhi</th> <td>   -0.9400</td> <td>    0.431</td> <td>   -2.182</td> <td> 0.029</td> <td>   -1.784</td> <td>   -0.096</td>\n",
       "</tr>\n",
       "<tr>\n",
       "  <th>Richmond, New Delhi</th>       <td>    0.0635</td> <td>    0.883</td> <td>    0.072</td> <td> 0.943</td> <td>   -1.667</td> <td>    1.794</td>\n",
       "</tr>\n",
       "<tr>\n",
       "  <th>Vikasnagar, New Delhi</th>     <td>   -0.5828</td> <td>    0.425</td> <td>   -1.373</td> <td> 0.170</td> <td>   -1.415</td> <td>    0.249</td>\n",
       "</tr>\n",
       "</table>"
      ],
      "text/plain": [
       "<class 'statsmodels.iolib.summary.Summary'>\n",
       "\"\"\"\n",
       "                 Generalized Linear Model Regression Results                  \n",
       "==============================================================================\n",
       "Dep. Variable:        Loan_Status_num   No. Observations:                  473\n",
       "Model:                            GLM   Df Residuals:                      460\n",
       "Model Family:                Binomial   Df Model:                           12\n",
       "Link Function:                  logit   Scale:                          1.0000\n",
       "Method:                          IRLS   Log-Likelihood:                -177.77\n",
       "Date:                Wed, 12 May 2021   Deviance:                       355.54\n",
       "Time:                        20:04:34   Pearson chi2:                     456.\n",
       "No. Iterations:                     6                                         \n",
       "Covariance Type:            nonrobust                                         \n",
       "=============================================================================================\n",
       "                                coef    std err          z      P>|z|      [0.025      0.975]\n",
       "---------------------------------------------------------------------------------------------\n",
       "const                        -3.3241      0.661     -5.029      0.000      -4.620      -2.028\n",
       "Gender                        0.8569      0.358      2.391      0.017       0.155       1.559\n",
       "Married                       0.5432      0.290      1.872      0.061      -0.026       1.112\n",
       "Education                     0.4098      0.342      1.199      0.230      -0.260       1.080\n",
       "ApplicantIncome              -0.0065      0.289     -0.023      0.982      -0.573       0.560\n",
       "Credit_History                3.3483      0.454      7.377      0.000       2.459       4.238\n",
       "Amit Enclave, Gurgaon         0.4782      0.715      0.669      0.504      -0.923       1.879\n",
       "District 9                   -4.7821      0.733     -6.527      0.000      -6.218      -3.346\n",
       "Karimpur, New Delhi          -1.0469      0.776     -1.349      0.177      -2.569       0.475\n",
       "Park Circus, New Delhi        0.9470      0.583      1.625      0.104      -0.195       2.089\n",
       "Qureshi Square, New Delhi    -0.9400      0.431     -2.182      0.029      -1.784      -0.096\n",
       "Richmond, New Delhi           0.0635      0.883      0.072      0.943      -1.667       1.794\n",
       "Vikasnagar, New Delhi        -0.5828      0.425     -1.373      0.170      -1.415       0.249\n",
       "=============================================================================================\n",
       "\"\"\""
      ]
     },
     "execution_count": 37,
     "metadata": {},
     "output_type": "execute_result"
    }
   ],
   "source": [
    "X_train_sm = sm.add_constant(X_train[col])\n",
    "logm2 = sm.GLM(y_train,X_train_sm, family = sm.families.Binomial())\n",
    "res = logm2.fit()\n",
    "res.summary()"
   ]
  },
  {
   "cell_type": "markdown",
   "metadata": {},
   "source": [
    "#### Interpretations:-\n",
    "- We can see from the statistical summary that the feature \"Richmond, New Delhi\" with p-value = 0.943 is the most insignificant. (Note: As per industry standards, p-value must be lower than 0.05 to be called significant)"
   ]
  },
  {
   "cell_type": "code",
   "execution_count": 38,
   "metadata": {},
   "outputs": [
    {
     "data": {
      "text/plain": [
       "Index(['Gender', 'Married', 'Education', 'ApplicantIncome', 'Credit_History',\n",
       "       'Amit Enclave, Gurgaon', 'District 9', 'Karimpur, New Delhi',\n",
       "       'Park Circus, New Delhi', 'Qureshi Square, New Delhi',\n",
       "       'Vikasnagar, New Delhi'],\n",
       "      dtype='object')"
      ]
     },
     "execution_count": 38,
     "metadata": {},
     "output_type": "execute_result"
    }
   ],
   "source": [
    "# Let's drop Richmond, New Delhi since it has high p-value of 0.943 and hence it is statistically insignificant\n",
    "col = col.drop('Richmond, New Delhi',1)\n",
    "col"
   ]
  },
  {
   "cell_type": "markdown",
   "metadata": {},
   "source": [
    "### Model 3:"
   ]
  },
  {
   "cell_type": "code",
   "execution_count": 39,
   "metadata": {},
   "outputs": [
    {
     "data": {
      "text/html": [
       "<table class=\"simpletable\">\n",
       "<caption>Generalized Linear Model Regression Results</caption>\n",
       "<tr>\n",
       "  <th>Dep. Variable:</th>    <td>Loan_Status_num</td> <th>  No. Observations:  </th>  <td>   473</td> \n",
       "</tr>\n",
       "<tr>\n",
       "  <th>Model:</th>                  <td>GLM</td>       <th>  Df Residuals:      </th>  <td>   461</td> \n",
       "</tr>\n",
       "<tr>\n",
       "  <th>Model Family:</th>        <td>Binomial</td>     <th>  Df Model:          </th>  <td>    11</td> \n",
       "</tr>\n",
       "<tr>\n",
       "  <th>Link Function:</th>         <td>logit</td>      <th>  Scale:             </th> <td>  1.0000</td>\n",
       "</tr>\n",
       "<tr>\n",
       "  <th>Method:</th>                <td>IRLS</td>       <th>  Log-Likelihood:    </th> <td> -177.77</td>\n",
       "</tr>\n",
       "<tr>\n",
       "  <th>Date:</th>            <td>Wed, 12 May 2021</td> <th>  Deviance:          </th> <td>  355.54</td>\n",
       "</tr>\n",
       "<tr>\n",
       "  <th>Time:</th>                <td>20:04:34</td>     <th>  Pearson chi2:      </th>  <td>  456.</td> \n",
       "</tr>\n",
       "<tr>\n",
       "  <th>No. Iterations:</th>          <td>6</td>        <th>                     </th>     <td> </td>   \n",
       "</tr>\n",
       "<tr>\n",
       "  <th>Covariance Type:</th>     <td>nonrobust</td>    <th>                     </th>     <td> </td>   \n",
       "</tr>\n",
       "</table>\n",
       "<table class=\"simpletable\">\n",
       "<tr>\n",
       "              <td></td>                 <th>coef</th>     <th>std err</th>      <th>z</th>      <th>P>|z|</th>  <th>[0.025</th>    <th>0.975]</th>  \n",
       "</tr>\n",
       "<tr>\n",
       "  <th>const</th>                     <td>   -3.3098</td> <td>    0.630</td> <td>   -5.254</td> <td> 0.000</td> <td>   -4.544</td> <td>   -2.075</td>\n",
       "</tr>\n",
       "<tr>\n",
       "  <th>Gender</th>                    <td>    0.8543</td> <td>    0.356</td> <td>    2.397</td> <td> 0.017</td> <td>    0.156</td> <td>    1.553</td>\n",
       "</tr>\n",
       "<tr>\n",
       "  <th>Married</th>                   <td>    0.5424</td> <td>    0.290</td> <td>    1.870</td> <td> 0.061</td> <td>   -0.026</td> <td>    1.111</td>\n",
       "</tr>\n",
       "<tr>\n",
       "  <th>Education</th>                 <td>    0.4098</td> <td>    0.342</td> <td>    1.199</td> <td> 0.231</td> <td>   -0.260</td> <td>    1.080</td>\n",
       "</tr>\n",
       "<tr>\n",
       "  <th>ApplicantIncome</th>           <td>    0.0058</td> <td>    0.233</td> <td>    0.025</td> <td> 0.980</td> <td>   -0.451</td> <td>    0.463</td>\n",
       "</tr>\n",
       "<tr>\n",
       "  <th>Credit_History</th>            <td>    3.3471</td> <td>    0.453</td> <td>    7.381</td> <td> 0.000</td> <td>    2.458</td> <td>    4.236</td>\n",
       "</tr>\n",
       "<tr>\n",
       "  <th>Amit Enclave, Gurgaon</th>     <td>    0.4794</td> <td>    0.715</td> <td>    0.671</td> <td> 0.502</td> <td>   -0.921</td> <td>    1.880</td>\n",
       "</tr>\n",
       "<tr>\n",
       "  <th>District 9</th>                <td>   -4.8076</td> <td>    0.642</td> <td>   -7.491</td> <td> 0.000</td> <td>   -6.066</td> <td>   -3.550</td>\n",
       "</tr>\n",
       "<tr>\n",
       "  <th>Karimpur, New Delhi</th>       <td>   -1.0440</td> <td>    0.775</td> <td>   -1.347</td> <td> 0.178</td> <td>   -2.563</td> <td>    0.475</td>\n",
       "</tr>\n",
       "<tr>\n",
       "  <th>Park Circus, New Delhi</th>    <td>    0.9477</td> <td>    0.583</td> <td>    1.627</td> <td> 0.104</td> <td>   -0.194</td> <td>    2.090</td>\n",
       "</tr>\n",
       "<tr>\n",
       "  <th>Qureshi Square, New Delhi</th> <td>   -0.9496</td> <td>    0.409</td> <td>   -2.320</td> <td> 0.020</td> <td>   -1.752</td> <td>   -0.147</td>\n",
       "</tr>\n",
       "<tr>\n",
       "  <th>Vikasnagar, New Delhi</th>     <td>   -0.5840</td> <td>    0.424</td> <td>   -1.377</td> <td> 0.169</td> <td>   -1.416</td> <td>    0.248</td>\n",
       "</tr>\n",
       "</table>"
      ],
      "text/plain": [
       "<class 'statsmodels.iolib.summary.Summary'>\n",
       "\"\"\"\n",
       "                 Generalized Linear Model Regression Results                  \n",
       "==============================================================================\n",
       "Dep. Variable:        Loan_Status_num   No. Observations:                  473\n",
       "Model:                            GLM   Df Residuals:                      461\n",
       "Model Family:                Binomial   Df Model:                           11\n",
       "Link Function:                  logit   Scale:                          1.0000\n",
       "Method:                          IRLS   Log-Likelihood:                -177.77\n",
       "Date:                Wed, 12 May 2021   Deviance:                       355.54\n",
       "Time:                        20:04:34   Pearson chi2:                     456.\n",
       "No. Iterations:                     6                                         \n",
       "Covariance Type:            nonrobust                                         \n",
       "=============================================================================================\n",
       "                                coef    std err          z      P>|z|      [0.025      0.975]\n",
       "---------------------------------------------------------------------------------------------\n",
       "const                        -3.3098      0.630     -5.254      0.000      -4.544      -2.075\n",
       "Gender                        0.8543      0.356      2.397      0.017       0.156       1.553\n",
       "Married                       0.5424      0.290      1.870      0.061      -0.026       1.111\n",
       "Education                     0.4098      0.342      1.199      0.231      -0.260       1.080\n",
       "ApplicantIncome               0.0058      0.233      0.025      0.980      -0.451       0.463\n",
       "Credit_History                3.3471      0.453      7.381      0.000       2.458       4.236\n",
       "Amit Enclave, Gurgaon         0.4794      0.715      0.671      0.502      -0.921       1.880\n",
       "District 9                   -4.8076      0.642     -7.491      0.000      -6.066      -3.550\n",
       "Karimpur, New Delhi          -1.0440      0.775     -1.347      0.178      -2.563       0.475\n",
       "Park Circus, New Delhi        0.9477      0.583      1.627      0.104      -0.194       2.090\n",
       "Qureshi Square, New Delhi    -0.9496      0.409     -2.320      0.020      -1.752      -0.147\n",
       "Vikasnagar, New Delhi        -0.5840      0.424     -1.377      0.169      -1.416       0.248\n",
       "=============================================================================================\n",
       "\"\"\""
      ]
     },
     "execution_count": 39,
     "metadata": {},
     "output_type": "execute_result"
    }
   ],
   "source": [
    "X_train_sm = sm.add_constant(X_train[col])\n",
    "logm3 = sm.GLM(y_train,X_train_sm, family = sm.families.Binomial())\n",
    "res = logm3.fit()\n",
    "res.summary()"
   ]
  },
  {
   "cell_type": "markdown",
   "metadata": {},
   "source": [
    "#### Interpretations:-\n",
    "- We can see from the statistical summary that the feature \"ApplicantIncome\" with p-value = 0.980 is the most insignificant. (Note: As per industry standards, p-value must be lower than 0.05 to be called significant)"
   ]
  },
  {
   "cell_type": "code",
   "execution_count": 40,
   "metadata": {},
   "outputs": [
    {
     "data": {
      "text/plain": [
       "Index(['Gender', 'Married', 'Education', 'Credit_History',\n",
       "       'Amit Enclave, Gurgaon', 'District 9', 'Karimpur, New Delhi',\n",
       "       'Park Circus, New Delhi', 'Qureshi Square, New Delhi',\n",
       "       'Vikasnagar, New Delhi'],\n",
       "      dtype='object')"
      ]
     },
     "execution_count": 40,
     "metadata": {},
     "output_type": "execute_result"
    }
   ],
   "source": [
    "# Let's drop ApplicantIncome since it has a high p-value of 0.980 and it is stastically insignificant\n",
    "col = col.drop('ApplicantIncome')\n",
    "col"
   ]
  },
  {
   "cell_type": "markdown",
   "metadata": {},
   "source": [
    "### Model 4:"
   ]
  },
  {
   "cell_type": "code",
   "execution_count": 41,
   "metadata": {},
   "outputs": [
    {
     "data": {
      "text/html": [
       "<table class=\"simpletable\">\n",
       "<caption>Generalized Linear Model Regression Results</caption>\n",
       "<tr>\n",
       "  <th>Dep. Variable:</th>    <td>Loan_Status_num</td> <th>  No. Observations:  </th>  <td>   473</td> \n",
       "</tr>\n",
       "<tr>\n",
       "  <th>Model:</th>                  <td>GLM</td>       <th>  Df Residuals:      </th>  <td>   462</td> \n",
       "</tr>\n",
       "<tr>\n",
       "  <th>Model Family:</th>        <td>Binomial</td>     <th>  Df Model:          </th>  <td>    10</td> \n",
       "</tr>\n",
       "<tr>\n",
       "  <th>Link Function:</th>         <td>logit</td>      <th>  Scale:             </th> <td>  1.0000</td>\n",
       "</tr>\n",
       "<tr>\n",
       "  <th>Method:</th>                <td>IRLS</td>       <th>  Log-Likelihood:    </th> <td> -177.77</td>\n",
       "</tr>\n",
       "<tr>\n",
       "  <th>Date:</th>            <td>Wed, 12 May 2021</td> <th>  Deviance:          </th> <td>  355.54</td>\n",
       "</tr>\n",
       "<tr>\n",
       "  <th>Time:</th>                <td>20:04:34</td>     <th>  Pearson chi2:      </th>  <td>  456.</td> \n",
       "</tr>\n",
       "<tr>\n",
       "  <th>No. Iterations:</th>          <td>6</td>        <th>                     </th>     <td> </td>   \n",
       "</tr>\n",
       "<tr>\n",
       "  <th>Covariance Type:</th>     <td>nonrobust</td>    <th>                     </th>     <td> </td>   \n",
       "</tr>\n",
       "</table>\n",
       "<table class=\"simpletable\">\n",
       "<tr>\n",
       "              <td></td>                 <th>coef</th>     <th>std err</th>      <th>z</th>      <th>P>|z|</th>  <th>[0.025</th>    <th>0.975]</th>  \n",
       "</tr>\n",
       "<tr>\n",
       "  <th>const</th>                     <td>   -3.3126</td> <td>    0.619</td> <td>   -5.350</td> <td> 0.000</td> <td>   -4.526</td> <td>   -2.099</td>\n",
       "</tr>\n",
       "<tr>\n",
       "  <th>Gender</th>                    <td>    0.8542</td> <td>    0.356</td> <td>    2.397</td> <td> 0.017</td> <td>    0.156</td> <td>    1.553</td>\n",
       "</tr>\n",
       "<tr>\n",
       "  <th>Married</th>                   <td>    0.5428</td> <td>    0.290</td> <td>    1.875</td> <td> 0.061</td> <td>   -0.025</td> <td>    1.110</td>\n",
       "</tr>\n",
       "<tr>\n",
       "  <th>Education</th>                 <td>    0.4104</td> <td>    0.341</td> <td>    1.203</td> <td> 0.229</td> <td>   -0.258</td> <td>    1.079</td>\n",
       "</tr>\n",
       "<tr>\n",
       "  <th>Credit_History</th>            <td>    3.3467</td> <td>    0.453</td> <td>    7.386</td> <td> 0.000</td> <td>    2.459</td> <td>    4.235</td>\n",
       "</tr>\n",
       "<tr>\n",
       "  <th>Amit Enclave, Gurgaon</th>     <td>    0.4763</td> <td>    0.704</td> <td>    0.677</td> <td> 0.499</td> <td>   -0.903</td> <td>    1.856</td>\n",
       "</tr>\n",
       "<tr>\n",
       "  <th>District 9</th>                <td>   -4.7979</td> <td>    0.508</td> <td>   -9.448</td> <td> 0.000</td> <td>   -5.793</td> <td>   -3.803</td>\n",
       "</tr>\n",
       "<tr>\n",
       "  <th>Karimpur, New Delhi</th>       <td>   -1.0476</td> <td>    0.761</td> <td>   -1.376</td> <td> 0.169</td> <td>   -2.540</td> <td>    0.445</td>\n",
       "</tr>\n",
       "<tr>\n",
       "  <th>Park Circus, New Delhi</th>    <td>    0.9448</td> <td>    0.571</td> <td>    1.655</td> <td> 0.098</td> <td>   -0.174</td> <td>    2.064</td>\n",
       "</tr>\n",
       "<tr>\n",
       "  <th>Qureshi Square, New Delhi</th> <td>   -0.9474</td> <td>    0.399</td> <td>   -2.376</td> <td> 0.018</td> <td>   -1.729</td> <td>   -0.166</td>\n",
       "</tr>\n",
       "<tr>\n",
       "  <th>Vikasnagar, New Delhi</th>     <td>   -0.5857</td> <td>    0.419</td> <td>   -1.398</td> <td> 0.162</td> <td>   -1.407</td> <td>    0.236</td>\n",
       "</tr>\n",
       "</table>"
      ],
      "text/plain": [
       "<class 'statsmodels.iolib.summary.Summary'>\n",
       "\"\"\"\n",
       "                 Generalized Linear Model Regression Results                  \n",
       "==============================================================================\n",
       "Dep. Variable:        Loan_Status_num   No. Observations:                  473\n",
       "Model:                            GLM   Df Residuals:                      462\n",
       "Model Family:                Binomial   Df Model:                           10\n",
       "Link Function:                  logit   Scale:                          1.0000\n",
       "Method:                          IRLS   Log-Likelihood:                -177.77\n",
       "Date:                Wed, 12 May 2021   Deviance:                       355.54\n",
       "Time:                        20:04:34   Pearson chi2:                     456.\n",
       "No. Iterations:                     6                                         \n",
       "Covariance Type:            nonrobust                                         \n",
       "=============================================================================================\n",
       "                                coef    std err          z      P>|z|      [0.025      0.975]\n",
       "---------------------------------------------------------------------------------------------\n",
       "const                        -3.3126      0.619     -5.350      0.000      -4.526      -2.099\n",
       "Gender                        0.8542      0.356      2.397      0.017       0.156       1.553\n",
       "Married                       0.5428      0.290      1.875      0.061      -0.025       1.110\n",
       "Education                     0.4104      0.341      1.203      0.229      -0.258       1.079\n",
       "Credit_History                3.3467      0.453      7.386      0.000       2.459       4.235\n",
       "Amit Enclave, Gurgaon         0.4763      0.704      0.677      0.499      -0.903       1.856\n",
       "District 9                   -4.7979      0.508     -9.448      0.000      -5.793      -3.803\n",
       "Karimpur, New Delhi          -1.0476      0.761     -1.376      0.169      -2.540       0.445\n",
       "Park Circus, New Delhi        0.9448      0.571      1.655      0.098      -0.174       2.064\n",
       "Qureshi Square, New Delhi    -0.9474      0.399     -2.376      0.018      -1.729      -0.166\n",
       "Vikasnagar, New Delhi        -0.5857      0.419     -1.398      0.162      -1.407       0.236\n",
       "=============================================================================================\n",
       "\"\"\""
      ]
     },
     "execution_count": 41,
     "metadata": {},
     "output_type": "execute_result"
    }
   ],
   "source": [
    "X_train_sm = sm.add_constant(X_train[col])\n",
    "logm4 = sm.GLM(y_train,X_train_sm, family = sm.families.Binomial())\n",
    "res = logm4.fit()\n",
    "res.summary()"
   ]
  },
  {
   "cell_type": "markdown",
   "metadata": {},
   "source": [
    "#### Interpretations:-\n",
    "- We can see from the statistical summary that the feature \"Amit Enclave, New Delhi\" with p-value = 0.499 is the most insignificant. (Note: As per industry standards, p-value must be lower than 0.05 to be called significant)"
   ]
  },
  {
   "cell_type": "code",
   "execution_count": 42,
   "metadata": {},
   "outputs": [
    {
     "data": {
      "text/plain": [
       "Index(['Gender', 'Married', 'Education', 'Credit_History', 'District 9',\n",
       "       'Karimpur, New Delhi', 'Park Circus, New Delhi',\n",
       "       'Qureshi Square, New Delhi', 'Vikasnagar, New Delhi'],\n",
       "      dtype='object')"
      ]
     },
     "execution_count": 42,
     "metadata": {},
     "output_type": "execute_result"
    }
   ],
   "source": [
    "# Let's drop Amit Enclave, Gurgaon since it has a high p-value of 0.499 and it is stastically insignificant\n",
    "col = col.drop('Amit Enclave, Gurgaon')\n",
    "col"
   ]
  },
  {
   "cell_type": "markdown",
   "metadata": {},
   "source": [
    "### Model 5:"
   ]
  },
  {
   "cell_type": "code",
   "execution_count": 43,
   "metadata": {},
   "outputs": [
    {
     "data": {
      "text/html": [
       "<table class=\"simpletable\">\n",
       "<caption>Generalized Linear Model Regression Results</caption>\n",
       "<tr>\n",
       "  <th>Dep. Variable:</th>    <td>Loan_Status_num</td> <th>  No. Observations:  </th>  <td>   473</td> \n",
       "</tr>\n",
       "<tr>\n",
       "  <th>Model:</th>                  <td>GLM</td>       <th>  Df Residuals:      </th>  <td>   463</td> \n",
       "</tr>\n",
       "<tr>\n",
       "  <th>Model Family:</th>        <td>Binomial</td>     <th>  Df Model:          </th>  <td>     9</td> \n",
       "</tr>\n",
       "<tr>\n",
       "  <th>Link Function:</th>         <td>logit</td>      <th>  Scale:             </th> <td>  1.0000</td>\n",
       "</tr>\n",
       "<tr>\n",
       "  <th>Method:</th>                <td>IRLS</td>       <th>  Log-Likelihood:    </th> <td> -178.01</td>\n",
       "</tr>\n",
       "<tr>\n",
       "  <th>Date:</th>            <td>Wed, 12 May 2021</td> <th>  Deviance:          </th> <td>  356.02</td>\n",
       "</tr>\n",
       "<tr>\n",
       "  <th>Time:</th>                <td>20:04:35</td>     <th>  Pearson chi2:      </th>  <td>  454.</td> \n",
       "</tr>\n",
       "<tr>\n",
       "  <th>No. Iterations:</th>          <td>6</td>        <th>                     </th>     <td> </td>   \n",
       "</tr>\n",
       "<tr>\n",
       "  <th>Covariance Type:</th>     <td>nonrobust</td>    <th>                     </th>     <td> </td>   \n",
       "</tr>\n",
       "</table>\n",
       "<table class=\"simpletable\">\n",
       "<tr>\n",
       "              <td></td>                 <th>coef</th>     <th>std err</th>      <th>z</th>      <th>P>|z|</th>  <th>[0.025</th>    <th>0.975]</th>  \n",
       "</tr>\n",
       "<tr>\n",
       "  <th>const</th>                     <td>   -3.2384</td> <td>    0.606</td> <td>   -5.343</td> <td> 0.000</td> <td>   -4.426</td> <td>   -2.050</td>\n",
       "</tr>\n",
       "<tr>\n",
       "  <th>Gender</th>                    <td>    0.8529</td> <td>    0.356</td> <td>    2.393</td> <td> 0.017</td> <td>    0.154</td> <td>    1.551</td>\n",
       "</tr>\n",
       "<tr>\n",
       "  <th>Married</th>                   <td>    0.5555</td> <td>    0.289</td> <td>    1.922</td> <td> 0.055</td> <td>   -0.011</td> <td>    1.122</td>\n",
       "</tr>\n",
       "<tr>\n",
       "  <th>Education</th>                 <td>    0.3876</td> <td>    0.339</td> <td>    1.142</td> <td> 0.253</td> <td>   -0.278</td> <td>    1.053</td>\n",
       "</tr>\n",
       "<tr>\n",
       "  <th>Credit_History</th>            <td>    3.3199</td> <td>    0.449</td> <td>    7.397</td> <td> 0.000</td> <td>    2.440</td> <td>    4.199</td>\n",
       "</tr>\n",
       "<tr>\n",
       "  <th>District 9</th>                <td>   -4.8292</td> <td>    0.506</td> <td>   -9.541</td> <td> 0.000</td> <td>   -5.821</td> <td>   -3.837</td>\n",
       "</tr>\n",
       "<tr>\n",
       "  <th>Karimpur, New Delhi</th>       <td>   -1.0847</td> <td>    0.759</td> <td>   -1.429</td> <td> 0.153</td> <td>   -2.572</td> <td>    0.403</td>\n",
       "</tr>\n",
       "<tr>\n",
       "  <th>Park Circus, New Delhi</th>    <td>    0.8989</td> <td>    0.566</td> <td>    1.588</td> <td> 0.112</td> <td>   -0.210</td> <td>    2.008</td>\n",
       "</tr>\n",
       "<tr>\n",
       "  <th>Qureshi Square, New Delhi</th> <td>   -0.9816</td> <td>    0.396</td> <td>   -2.479</td> <td> 0.013</td> <td>   -1.758</td> <td>   -0.205</td>\n",
       "</tr>\n",
       "<tr>\n",
       "  <th>Vikasnagar, New Delhi</th>     <td>   -0.6275</td> <td>    0.415</td> <td>   -1.513</td> <td> 0.130</td> <td>   -1.440</td> <td>    0.185</td>\n",
       "</tr>\n",
       "</table>"
      ],
      "text/plain": [
       "<class 'statsmodels.iolib.summary.Summary'>\n",
       "\"\"\"\n",
       "                 Generalized Linear Model Regression Results                  \n",
       "==============================================================================\n",
       "Dep. Variable:        Loan_Status_num   No. Observations:                  473\n",
       "Model:                            GLM   Df Residuals:                      463\n",
       "Model Family:                Binomial   Df Model:                            9\n",
       "Link Function:                  logit   Scale:                          1.0000\n",
       "Method:                          IRLS   Log-Likelihood:                -178.01\n",
       "Date:                Wed, 12 May 2021   Deviance:                       356.02\n",
       "Time:                        20:04:35   Pearson chi2:                     454.\n",
       "No. Iterations:                     6                                         \n",
       "Covariance Type:            nonrobust                                         \n",
       "=============================================================================================\n",
       "                                coef    std err          z      P>|z|      [0.025      0.975]\n",
       "---------------------------------------------------------------------------------------------\n",
       "const                        -3.2384      0.606     -5.343      0.000      -4.426      -2.050\n",
       "Gender                        0.8529      0.356      2.393      0.017       0.154       1.551\n",
       "Married                       0.5555      0.289      1.922      0.055      -0.011       1.122\n",
       "Education                     0.3876      0.339      1.142      0.253      -0.278       1.053\n",
       "Credit_History                3.3199      0.449      7.397      0.000       2.440       4.199\n",
       "District 9                   -4.8292      0.506     -9.541      0.000      -5.821      -3.837\n",
       "Karimpur, New Delhi          -1.0847      0.759     -1.429      0.153      -2.572       0.403\n",
       "Park Circus, New Delhi        0.8989      0.566      1.588      0.112      -0.210       2.008\n",
       "Qureshi Square, New Delhi    -0.9816      0.396     -2.479      0.013      -1.758      -0.205\n",
       "Vikasnagar, New Delhi        -0.6275      0.415     -1.513      0.130      -1.440       0.185\n",
       "=============================================================================================\n",
       "\"\"\""
      ]
     },
     "execution_count": 43,
     "metadata": {},
     "output_type": "execute_result"
    }
   ],
   "source": [
    "X_train_sm = sm.add_constant(X_train[col])\n",
    "logm5 = sm.GLM(y_train,X_train_sm, family = sm.families.Binomial())\n",
    "res = logm5.fit()\n",
    "res.summary()"
   ]
  },
  {
   "cell_type": "markdown",
   "metadata": {},
   "source": [
    "#### Interpretations:-\n",
    "- We can see from the statistical summary that the feature \"Education\" with p-value = 0.253 is the most insignificant. (Note: As per industry standards, p-value must be lower than 0.05 to be called significant)"
   ]
  },
  {
   "cell_type": "code",
   "execution_count": 44,
   "metadata": {},
   "outputs": [
    {
     "data": {
      "text/plain": [
       "Index(['Gender', 'Married', 'Credit_History', 'District 9',\n",
       "       'Karimpur, New Delhi', 'Park Circus, New Delhi',\n",
       "       'Qureshi Square, New Delhi', 'Vikasnagar, New Delhi'],\n",
       "      dtype='object')"
      ]
     },
     "execution_count": 44,
     "metadata": {},
     "output_type": "execute_result"
    }
   ],
   "source": [
    "# Let's drop Education since it has a high p-value of 0.253 and it is stastically insignificant\n",
    "col = col.drop('Education')\n",
    "col"
   ]
  },
  {
   "cell_type": "markdown",
   "metadata": {},
   "source": [
    "### Model 6:"
   ]
  },
  {
   "cell_type": "code",
   "execution_count": 45,
   "metadata": {},
   "outputs": [
    {
     "data": {
      "text/html": [
       "<table class=\"simpletable\">\n",
       "<caption>Generalized Linear Model Regression Results</caption>\n",
       "<tr>\n",
       "  <th>Dep. Variable:</th>    <td>Loan_Status_num</td> <th>  No. Observations:  </th>  <td>   473</td> \n",
       "</tr>\n",
       "<tr>\n",
       "  <th>Model:</th>                  <td>GLM</td>       <th>  Df Residuals:      </th>  <td>   464</td> \n",
       "</tr>\n",
       "<tr>\n",
       "  <th>Model Family:</th>        <td>Binomial</td>     <th>  Df Model:          </th>  <td>     8</td> \n",
       "</tr>\n",
       "<tr>\n",
       "  <th>Link Function:</th>         <td>logit</td>      <th>  Scale:             </th> <td>  1.0000</td>\n",
       "</tr>\n",
       "<tr>\n",
       "  <th>Method:</th>                <td>IRLS</td>       <th>  Log-Likelihood:    </th> <td> -178.66</td>\n",
       "</tr>\n",
       "<tr>\n",
       "  <th>Date:</th>            <td>Wed, 12 May 2021</td> <th>  Deviance:          </th> <td>  357.31</td>\n",
       "</tr>\n",
       "<tr>\n",
       "  <th>Time:</th>                <td>20:04:35</td>     <th>  Pearson chi2:      </th>  <td>  453.</td> \n",
       "</tr>\n",
       "<tr>\n",
       "  <th>No. Iterations:</th>          <td>6</td>        <th>                     </th>     <td> </td>   \n",
       "</tr>\n",
       "<tr>\n",
       "  <th>Covariance Type:</th>     <td>nonrobust</td>    <th>                     </th>     <td> </td>   \n",
       "</tr>\n",
       "</table>\n",
       "<table class=\"simpletable\">\n",
       "<tr>\n",
       "              <td></td>                 <th>coef</th>     <th>std err</th>      <th>z</th>      <th>P>|z|</th>  <th>[0.025</th>    <th>0.975]</th>  \n",
       "</tr>\n",
       "<tr>\n",
       "  <th>const</th>                     <td>   -2.9269</td> <td>    0.535</td> <td>   -5.468</td> <td> 0.000</td> <td>   -3.976</td> <td>   -1.878</td>\n",
       "</tr>\n",
       "<tr>\n",
       "  <th>Gender</th>                    <td>    0.8236</td> <td>    0.354</td> <td>    2.329</td> <td> 0.020</td> <td>    0.131</td> <td>    1.517</td>\n",
       "</tr>\n",
       "<tr>\n",
       "  <th>Married</th>                   <td>    0.5819</td> <td>    0.288</td> <td>    2.023</td> <td> 0.043</td> <td>    0.018</td> <td>    1.146</td>\n",
       "</tr>\n",
       "<tr>\n",
       "  <th>Credit_History</th>            <td>    3.3235</td> <td>    0.449</td> <td>    7.405</td> <td> 0.000</td> <td>    2.444</td> <td>    4.203</td>\n",
       "</tr>\n",
       "<tr>\n",
       "  <th>District 9</th>                <td>   -4.7468</td> <td>    0.500</td> <td>   -9.498</td> <td> 0.000</td> <td>   -5.726</td> <td>   -3.767</td>\n",
       "</tr>\n",
       "<tr>\n",
       "  <th>Karimpur, New Delhi</th>       <td>   -1.0690</td> <td>    0.751</td> <td>   -1.424</td> <td> 0.155</td> <td>   -2.541</td> <td>    0.403</td>\n",
       "</tr>\n",
       "<tr>\n",
       "  <th>Park Circus, New Delhi</th>    <td>    0.8368</td> <td>    0.565</td> <td>    1.482</td> <td> 0.138</td> <td>   -0.270</td> <td>    1.943</td>\n",
       "</tr>\n",
       "<tr>\n",
       "  <th>Qureshi Square, New Delhi</th> <td>   -0.9526</td> <td>    0.394</td> <td>   -2.420</td> <td> 0.016</td> <td>   -1.724</td> <td>   -0.181</td>\n",
       "</tr>\n",
       "<tr>\n",
       "  <th>Vikasnagar, New Delhi</th>     <td>   -0.6864</td> <td>    0.411</td> <td>   -1.671</td> <td> 0.095</td> <td>   -1.492</td> <td>    0.119</td>\n",
       "</tr>\n",
       "</table>"
      ],
      "text/plain": [
       "<class 'statsmodels.iolib.summary.Summary'>\n",
       "\"\"\"\n",
       "                 Generalized Linear Model Regression Results                  \n",
       "==============================================================================\n",
       "Dep. Variable:        Loan_Status_num   No. Observations:                  473\n",
       "Model:                            GLM   Df Residuals:                      464\n",
       "Model Family:                Binomial   Df Model:                            8\n",
       "Link Function:                  logit   Scale:                          1.0000\n",
       "Method:                          IRLS   Log-Likelihood:                -178.66\n",
       "Date:                Wed, 12 May 2021   Deviance:                       357.31\n",
       "Time:                        20:04:35   Pearson chi2:                     453.\n",
       "No. Iterations:                     6                                         \n",
       "Covariance Type:            nonrobust                                         \n",
       "=============================================================================================\n",
       "                                coef    std err          z      P>|z|      [0.025      0.975]\n",
       "---------------------------------------------------------------------------------------------\n",
       "const                        -2.9269      0.535     -5.468      0.000      -3.976      -1.878\n",
       "Gender                        0.8236      0.354      2.329      0.020       0.131       1.517\n",
       "Married                       0.5819      0.288      2.023      0.043       0.018       1.146\n",
       "Credit_History                3.3235      0.449      7.405      0.000       2.444       4.203\n",
       "District 9                   -4.7468      0.500     -9.498      0.000      -5.726      -3.767\n",
       "Karimpur, New Delhi          -1.0690      0.751     -1.424      0.155      -2.541       0.403\n",
       "Park Circus, New Delhi        0.8368      0.565      1.482      0.138      -0.270       1.943\n",
       "Qureshi Square, New Delhi    -0.9526      0.394     -2.420      0.016      -1.724      -0.181\n",
       "Vikasnagar, New Delhi        -0.6864      0.411     -1.671      0.095      -1.492       0.119\n",
       "=============================================================================================\n",
       "\"\"\""
      ]
     },
     "execution_count": 45,
     "metadata": {},
     "output_type": "execute_result"
    }
   ],
   "source": [
    "X_train_sm = sm.add_constant(X_train[col])\n",
    "logm6 = sm.GLM(y_train,X_train_sm, family = sm.families.Binomial())\n",
    "res = logm6.fit()\n",
    "res.summary()"
   ]
  },
  {
   "cell_type": "markdown",
   "metadata": {},
   "source": [
    "#### Interpretations:-\n",
    "- We can see from the statistical summary that the feature \"Karimpur, New Delhi\" with p-value = 0.155 is the most insignificant. (Note: As per industry standards, p-value must be lower than 0.05 to be called significant)"
   ]
  },
  {
   "cell_type": "code",
   "execution_count": 46,
   "metadata": {},
   "outputs": [
    {
     "data": {
      "text/plain": [
       "Index(['Gender', 'Married', 'Credit_History', 'District 9',\n",
       "       'Park Circus, New Delhi', 'Qureshi Square, New Delhi',\n",
       "       'Vikasnagar, New Delhi'],\n",
       "      dtype='object')"
      ]
     },
     "execution_count": 46,
     "metadata": {},
     "output_type": "execute_result"
    }
   ],
   "source": [
    "# Let's drop Karimpur, New Delhi since it has a high p-value of 0.152 and it is stastically insignificant\n",
    "col = col.drop('Karimpur, New Delhi')\n",
    "col"
   ]
  },
  {
   "cell_type": "markdown",
   "metadata": {},
   "source": [
    "### Model 7:"
   ]
  },
  {
   "cell_type": "code",
   "execution_count": 47,
   "metadata": {},
   "outputs": [
    {
     "data": {
      "text/html": [
       "<table class=\"simpletable\">\n",
       "<caption>Generalized Linear Model Regression Results</caption>\n",
       "<tr>\n",
       "  <th>Dep. Variable:</th>    <td>Loan_Status_num</td> <th>  No. Observations:  </th>  <td>   473</td> \n",
       "</tr>\n",
       "<tr>\n",
       "  <th>Model:</th>                  <td>GLM</td>       <th>  Df Residuals:      </th>  <td>   465</td> \n",
       "</tr>\n",
       "<tr>\n",
       "  <th>Model Family:</th>        <td>Binomial</td>     <th>  Df Model:          </th>  <td>     7</td> \n",
       "</tr>\n",
       "<tr>\n",
       "  <th>Link Function:</th>         <td>logit</td>      <th>  Scale:             </th> <td>  1.0000</td>\n",
       "</tr>\n",
       "<tr>\n",
       "  <th>Method:</th>                <td>IRLS</td>       <th>  Log-Likelihood:    </th> <td> -179.59</td>\n",
       "</tr>\n",
       "<tr>\n",
       "  <th>Date:</th>            <td>Wed, 12 May 2021</td> <th>  Deviance:          </th> <td>  359.18</td>\n",
       "</tr>\n",
       "<tr>\n",
       "  <th>Time:</th>                <td>20:04:35</td>     <th>  Pearson chi2:      </th>  <td>  452.</td> \n",
       "</tr>\n",
       "<tr>\n",
       "  <th>No. Iterations:</th>          <td>6</td>        <th>                     </th>     <td> </td>   \n",
       "</tr>\n",
       "<tr>\n",
       "  <th>Covariance Type:</th>     <td>nonrobust</td>    <th>                     </th>     <td> </td>   \n",
       "</tr>\n",
       "</table>\n",
       "<table class=\"simpletable\">\n",
       "<tr>\n",
       "              <td></td>                 <th>coef</th>     <th>std err</th>      <th>z</th>      <th>P>|z|</th>  <th>[0.025</th>    <th>0.975]</th>  \n",
       "</tr>\n",
       "<tr>\n",
       "  <th>const</th>                     <td>   -2.9378</td> <td>    0.535</td> <td>   -5.496</td> <td> 0.000</td> <td>   -3.985</td> <td>   -1.890</td>\n",
       "</tr>\n",
       "<tr>\n",
       "  <th>Gender</th>                    <td>    0.8068</td> <td>    0.352</td> <td>    2.289</td> <td> 0.022</td> <td>    0.116</td> <td>    1.498</td>\n",
       "</tr>\n",
       "<tr>\n",
       "  <th>Married</th>                   <td>    0.5682</td> <td>    0.287</td> <td>    1.982</td> <td> 0.048</td> <td>    0.006</td> <td>    1.130</td>\n",
       "</tr>\n",
       "<tr>\n",
       "  <th>Credit_History</th>            <td>    3.2949</td> <td>    0.447</td> <td>    7.371</td> <td> 0.000</td> <td>    2.419</td> <td>    4.171</td>\n",
       "</tr>\n",
       "<tr>\n",
       "  <th>District 9</th>                <td>   -4.6837</td> <td>    0.496</td> <td>   -9.434</td> <td> 0.000</td> <td>   -5.657</td> <td>   -3.711</td>\n",
       "</tr>\n",
       "<tr>\n",
       "  <th>Park Circus, New Delhi</th>    <td>    0.8893</td> <td>    0.561</td> <td>    1.585</td> <td> 0.113</td> <td>   -0.210</td> <td>    1.989</td>\n",
       "</tr>\n",
       "<tr>\n",
       "  <th>Qureshi Square, New Delhi</th> <td>   -0.8929</td> <td>    0.390</td> <td>   -2.292</td> <td> 0.022</td> <td>   -1.656</td> <td>   -0.129</td>\n",
       "</tr>\n",
       "<tr>\n",
       "  <th>Vikasnagar, New Delhi</th>     <td>   -0.6274</td> <td>    0.407</td> <td>   -1.542</td> <td> 0.123</td> <td>   -1.425</td> <td>    0.170</td>\n",
       "</tr>\n",
       "</table>"
      ],
      "text/plain": [
       "<class 'statsmodels.iolib.summary.Summary'>\n",
       "\"\"\"\n",
       "                 Generalized Linear Model Regression Results                  \n",
       "==============================================================================\n",
       "Dep. Variable:        Loan_Status_num   No. Observations:                  473\n",
       "Model:                            GLM   Df Residuals:                      465\n",
       "Model Family:                Binomial   Df Model:                            7\n",
       "Link Function:                  logit   Scale:                          1.0000\n",
       "Method:                          IRLS   Log-Likelihood:                -179.59\n",
       "Date:                Wed, 12 May 2021   Deviance:                       359.18\n",
       "Time:                        20:04:35   Pearson chi2:                     452.\n",
       "No. Iterations:                     6                                         \n",
       "Covariance Type:            nonrobust                                         \n",
       "=============================================================================================\n",
       "                                coef    std err          z      P>|z|      [0.025      0.975]\n",
       "---------------------------------------------------------------------------------------------\n",
       "const                        -2.9378      0.535     -5.496      0.000      -3.985      -1.890\n",
       "Gender                        0.8068      0.352      2.289      0.022       0.116       1.498\n",
       "Married                       0.5682      0.287      1.982      0.048       0.006       1.130\n",
       "Credit_History                3.2949      0.447      7.371      0.000       2.419       4.171\n",
       "District 9                   -4.6837      0.496     -9.434      0.000      -5.657      -3.711\n",
       "Park Circus, New Delhi        0.8893      0.561      1.585      0.113      -0.210       1.989\n",
       "Qureshi Square, New Delhi    -0.8929      0.390     -2.292      0.022      -1.656      -0.129\n",
       "Vikasnagar, New Delhi        -0.6274      0.407     -1.542      0.123      -1.425       0.170\n",
       "=============================================================================================\n",
       "\"\"\""
      ]
     },
     "execution_count": 47,
     "metadata": {},
     "output_type": "execute_result"
    }
   ],
   "source": [
    "X_train_sm = sm.add_constant(X_train[col])\n",
    "logm7 = sm.GLM(y_train,X_train_sm, family = sm.families.Binomial())\n",
    "res = logm7.fit()\n",
    "res.summary()"
   ]
  },
  {
   "cell_type": "markdown",
   "metadata": {},
   "source": [
    "#### Interpretations:-\n",
    "- We can see from the statistical summary that the feature \"Park Circus, New Delhi\" with p-value = 0.113 is the most insignificant. (Note: As per industry standards, p-value must be lower than 0.05 to be called significant)"
   ]
  },
  {
   "cell_type": "code",
   "execution_count": 48,
   "metadata": {},
   "outputs": [
    {
     "data": {
      "text/plain": [
       "Index(['Gender', 'Married', 'Credit_History', 'District 9',\n",
       "       'Qureshi Square, New Delhi', 'Vikasnagar, New Delhi'],\n",
       "      dtype='object')"
      ]
     },
     "execution_count": 48,
     "metadata": {},
     "output_type": "execute_result"
    }
   ],
   "source": [
    "# Let's drop Park Circus, New Delhi since it has a high p-value of 0.113 and it is stastically insignificant\n",
    "col = col.drop('Park Circus, New Delhi')\n",
    "col"
   ]
  },
  {
   "cell_type": "markdown",
   "metadata": {},
   "source": [
    "### Model 8:"
   ]
  },
  {
   "cell_type": "code",
   "execution_count": 49,
   "metadata": {},
   "outputs": [
    {
     "data": {
      "text/html": [
       "<table class=\"simpletable\">\n",
       "<caption>Generalized Linear Model Regression Results</caption>\n",
       "<tr>\n",
       "  <th>Dep. Variable:</th>    <td>Loan_Status_num</td> <th>  No. Observations:  </th>  <td>   473</td> \n",
       "</tr>\n",
       "<tr>\n",
       "  <th>Model:</th>                  <td>GLM</td>       <th>  Df Residuals:      </th>  <td>   466</td> \n",
       "</tr>\n",
       "<tr>\n",
       "  <th>Model Family:</th>        <td>Binomial</td>     <th>  Df Model:          </th>  <td>     6</td> \n",
       "</tr>\n",
       "<tr>\n",
       "  <th>Link Function:</th>         <td>logit</td>      <th>  Scale:             </th> <td>  1.0000</td>\n",
       "</tr>\n",
       "<tr>\n",
       "  <th>Method:</th>                <td>IRLS</td>       <th>  Log-Likelihood:    </th> <td> -181.01</td>\n",
       "</tr>\n",
       "<tr>\n",
       "  <th>Date:</th>            <td>Wed, 12 May 2021</td> <th>  Deviance:          </th> <td>  362.02</td>\n",
       "</tr>\n",
       "<tr>\n",
       "  <th>Time:</th>                <td>20:04:36</td>     <th>  Pearson chi2:      </th>  <td>  460.</td> \n",
       "</tr>\n",
       "<tr>\n",
       "  <th>No. Iterations:</th>          <td>6</td>        <th>                     </th>     <td> </td>   \n",
       "</tr>\n",
       "<tr>\n",
       "  <th>Covariance Type:</th>     <td>nonrobust</td>    <th>                     </th>     <td> </td>   \n",
       "</tr>\n",
       "</table>\n",
       "<table class=\"simpletable\">\n",
       "<tr>\n",
       "              <td></td>                 <th>coef</th>     <th>std err</th>      <th>z</th>      <th>P>|z|</th>  <th>[0.025</th>    <th>0.975]</th>  \n",
       "</tr>\n",
       "<tr>\n",
       "  <th>const</th>                     <td>   -2.8030</td> <td>    0.525</td> <td>   -5.339</td> <td> 0.000</td> <td>   -3.832</td> <td>   -1.774</td>\n",
       "</tr>\n",
       "<tr>\n",
       "  <th>Gender</th>                    <td>    0.7878</td> <td>    0.350</td> <td>    2.250</td> <td> 0.024</td> <td>    0.102</td> <td>    1.474</td>\n",
       "</tr>\n",
       "<tr>\n",
       "  <th>Married</th>                   <td>    0.5711</td> <td>    0.286</td> <td>    2.000</td> <td> 0.046</td> <td>    0.011</td> <td>    1.131</td>\n",
       "</tr>\n",
       "<tr>\n",
       "  <th>Credit_History</th>            <td>    3.2817</td> <td>    0.444</td> <td>    7.391</td> <td> 0.000</td> <td>    2.411</td> <td>    4.152</td>\n",
       "</tr>\n",
       "<tr>\n",
       "  <th>District 9</th>                <td>   -4.7900</td> <td>    0.494</td> <td>   -9.706</td> <td> 0.000</td> <td>   -5.757</td> <td>   -3.823</td>\n",
       "</tr>\n",
       "<tr>\n",
       "  <th>Qureshi Square, New Delhi</th> <td>   -1.0001</td> <td>    0.385</td> <td>   -2.596</td> <td> 0.009</td> <td>   -1.755</td> <td>   -0.245</td>\n",
       "</tr>\n",
       "<tr>\n",
       "  <th>Vikasnagar, New Delhi</th>     <td>   -0.7358</td> <td>    0.403</td> <td>   -1.828</td> <td> 0.068</td> <td>   -1.525</td> <td>    0.053</td>\n",
       "</tr>\n",
       "</table>"
      ],
      "text/plain": [
       "<class 'statsmodels.iolib.summary.Summary'>\n",
       "\"\"\"\n",
       "                 Generalized Linear Model Regression Results                  \n",
       "==============================================================================\n",
       "Dep. Variable:        Loan_Status_num   No. Observations:                  473\n",
       "Model:                            GLM   Df Residuals:                      466\n",
       "Model Family:                Binomial   Df Model:                            6\n",
       "Link Function:                  logit   Scale:                          1.0000\n",
       "Method:                          IRLS   Log-Likelihood:                -181.01\n",
       "Date:                Wed, 12 May 2021   Deviance:                       362.02\n",
       "Time:                        20:04:36   Pearson chi2:                     460.\n",
       "No. Iterations:                     6                                         \n",
       "Covariance Type:            nonrobust                                         \n",
       "=============================================================================================\n",
       "                                coef    std err          z      P>|z|      [0.025      0.975]\n",
       "---------------------------------------------------------------------------------------------\n",
       "const                        -2.8030      0.525     -5.339      0.000      -3.832      -1.774\n",
       "Gender                        0.7878      0.350      2.250      0.024       0.102       1.474\n",
       "Married                       0.5711      0.286      2.000      0.046       0.011       1.131\n",
       "Credit_History                3.2817      0.444      7.391      0.000       2.411       4.152\n",
       "District 9                   -4.7900      0.494     -9.706      0.000      -5.757      -3.823\n",
       "Qureshi Square, New Delhi    -1.0001      0.385     -2.596      0.009      -1.755      -0.245\n",
       "Vikasnagar, New Delhi        -0.7358      0.403     -1.828      0.068      -1.525       0.053\n",
       "=============================================================================================\n",
       "\"\"\""
      ]
     },
     "execution_count": 49,
     "metadata": {},
     "output_type": "execute_result"
    }
   ],
   "source": [
    "X_train_sm = sm.add_constant(X_train[col])\n",
    "logm8 = sm.GLM(y_train,X_train_sm, family = sm.families.Binomial())\n",
    "res = logm8.fit()\n",
    "res.summary()"
   ]
  },
  {
   "cell_type": "markdown",
   "metadata": {},
   "source": [
    "#### Interpretations:-\n",
    "- We can see from the statistical summary that the feature \"Vikasnagar, New Delhi\" with p-value = 0.068 is the most insignificant. (Note: As per industry standards, p-value must be lower than 0.05 to be called significant)"
   ]
  },
  {
   "cell_type": "code",
   "execution_count": 50,
   "metadata": {},
   "outputs": [
    {
     "data": {
      "text/plain": [
       "Index(['Gender', 'Married', 'Credit_History', 'District 9',\n",
       "       'Qureshi Square, New Delhi'],\n",
       "      dtype='object')"
      ]
     },
     "execution_count": 50,
     "metadata": {},
     "output_type": "execute_result"
    }
   ],
   "source": [
    "# Let's drop Vikasnagar, New Delhi since it has a high p-value of 0.068 and it is stastically insignificant\n",
    "col = col.drop('Vikasnagar, New Delhi')\n",
    "col"
   ]
  },
  {
   "cell_type": "markdown",
   "metadata": {},
   "source": [
    "### Model 9:"
   ]
  },
  {
   "cell_type": "code",
   "execution_count": 51,
   "metadata": {},
   "outputs": [
    {
     "data": {
      "text/html": [
       "<table class=\"simpletable\">\n",
       "<caption>Generalized Linear Model Regression Results</caption>\n",
       "<tr>\n",
       "  <th>Dep. Variable:</th>    <td>Loan_Status_num</td> <th>  No. Observations:  </th>  <td>   473</td> \n",
       "</tr>\n",
       "<tr>\n",
       "  <th>Model:</th>                  <td>GLM</td>       <th>  Df Residuals:      </th>  <td>   467</td> \n",
       "</tr>\n",
       "<tr>\n",
       "  <th>Model Family:</th>        <td>Binomial</td>     <th>  Df Model:          </th>  <td>     5</td> \n",
       "</tr>\n",
       "<tr>\n",
       "  <th>Link Function:</th>         <td>logit</td>      <th>  Scale:             </th> <td>  1.0000</td>\n",
       "</tr>\n",
       "<tr>\n",
       "  <th>Method:</th>                <td>IRLS</td>       <th>  Log-Likelihood:    </th> <td> -182.62</td>\n",
       "</tr>\n",
       "<tr>\n",
       "  <th>Date:</th>            <td>Wed, 12 May 2021</td> <th>  Deviance:          </th> <td>  365.24</td>\n",
       "</tr>\n",
       "<tr>\n",
       "  <th>Time:</th>                <td>20:04:36</td>     <th>  Pearson chi2:      </th>  <td>  464.</td> \n",
       "</tr>\n",
       "<tr>\n",
       "  <th>No. Iterations:</th>          <td>6</td>        <th>                     </th>     <td> </td>   \n",
       "</tr>\n",
       "<tr>\n",
       "  <th>Covariance Type:</th>     <td>nonrobust</td>    <th>                     </th>     <td> </td>   \n",
       "</tr>\n",
       "</table>\n",
       "<table class=\"simpletable\">\n",
       "<tr>\n",
       "              <td></td>                 <th>coef</th>     <th>std err</th>      <th>z</th>      <th>P>|z|</th>  <th>[0.025</th>    <th>0.975]</th>  \n",
       "</tr>\n",
       "<tr>\n",
       "  <th>const</th>                     <td>   -2.8932</td> <td>    0.524</td> <td>   -5.522</td> <td> 0.000</td> <td>   -3.920</td> <td>   -1.866</td>\n",
       "</tr>\n",
       "<tr>\n",
       "  <th>Gender</th>                    <td>    0.7447</td> <td>    0.347</td> <td>    2.144</td> <td> 0.032</td> <td>    0.064</td> <td>    1.426</td>\n",
       "</tr>\n",
       "<tr>\n",
       "  <th>Married</th>                   <td>    0.5934</td> <td>    0.284</td> <td>    2.086</td> <td> 0.037</td> <td>    0.036</td> <td>    1.151</td>\n",
       "</tr>\n",
       "<tr>\n",
       "  <th>Credit_History</th>            <td>    3.2704</td> <td>    0.442</td> <td>    7.398</td> <td> 0.000</td> <td>    2.404</td> <td>    4.137</td>\n",
       "</tr>\n",
       "<tr>\n",
       "  <th>District 9</th>                <td>   -4.6640</td> <td>    0.487</td> <td>   -9.584</td> <td> 0.000</td> <td>   -5.618</td> <td>   -3.710</td>\n",
       "</tr>\n",
       "<tr>\n",
       "  <th>Qureshi Square, New Delhi</th> <td>   -0.8733</td> <td>    0.377</td> <td>   -2.318</td> <td> 0.020</td> <td>   -1.612</td> <td>   -0.135</td>\n",
       "</tr>\n",
       "</table>"
      ],
      "text/plain": [
       "<class 'statsmodels.iolib.summary.Summary'>\n",
       "\"\"\"\n",
       "                 Generalized Linear Model Regression Results                  \n",
       "==============================================================================\n",
       "Dep. Variable:        Loan_Status_num   No. Observations:                  473\n",
       "Model:                            GLM   Df Residuals:                      467\n",
       "Model Family:                Binomial   Df Model:                            5\n",
       "Link Function:                  logit   Scale:                          1.0000\n",
       "Method:                          IRLS   Log-Likelihood:                -182.62\n",
       "Date:                Wed, 12 May 2021   Deviance:                       365.24\n",
       "Time:                        20:04:36   Pearson chi2:                     464.\n",
       "No. Iterations:                     6                                         \n",
       "Covariance Type:            nonrobust                                         \n",
       "=============================================================================================\n",
       "                                coef    std err          z      P>|z|      [0.025      0.975]\n",
       "---------------------------------------------------------------------------------------------\n",
       "const                        -2.8932      0.524     -5.522      0.000      -3.920      -1.866\n",
       "Gender                        0.7447      0.347      2.144      0.032       0.064       1.426\n",
       "Married                       0.5934      0.284      2.086      0.037       0.036       1.151\n",
       "Credit_History                3.2704      0.442      7.398      0.000       2.404       4.137\n",
       "District 9                   -4.6640      0.487     -9.584      0.000      -5.618      -3.710\n",
       "Qureshi Square, New Delhi    -0.8733      0.377     -2.318      0.020      -1.612      -0.135\n",
       "=============================================================================================\n",
       "\"\"\""
      ]
     },
     "execution_count": 51,
     "metadata": {},
     "output_type": "execute_result"
    }
   ],
   "source": [
    "X_train_sm = sm.add_constant(X_train[col])\n",
    "logm9 = sm.GLM(y_train,X_train_sm, family = sm.families.Binomial())\n",
    "res = logm9.fit()\n",
    "res.summary()"
   ]
  },
  {
   "cell_type": "markdown",
   "metadata": {},
   "source": [
    "### Checking Multicollinearity: High VIF\n",
    "\n",
    "#### General Rule of Thumb as prescribed by industry standards:\n",
    "1. VIF≥ 5: Highly Correlated and variable should be treated\n",
    "2. 1>VIF>5: Medium Correlated, but acceptable\n",
    "3. VIF = 1 : Not Correlated"
   ]
  },
  {
   "cell_type": "code",
   "execution_count": 52,
   "metadata": {},
   "outputs": [],
   "source": [
    "# Check for the VIF values of the feature variables. \n",
    "\n",
    "from statsmodels.stats.outliers_influence import variance_inflation_factor"
   ]
  },
  {
   "cell_type": "code",
   "execution_count": 53,
   "metadata": {
    "scrolled": true
   },
   "outputs": [
    {
     "data": {
      "text/html": [
       "<div>\n",
       "<style scoped>\n",
       "    .dataframe tbody tr th:only-of-type {\n",
       "        vertical-align: middle;\n",
       "    }\n",
       "\n",
       "    .dataframe tbody tr th {\n",
       "        vertical-align: top;\n",
       "    }\n",
       "\n",
       "    .dataframe thead th {\n",
       "        text-align: right;\n",
       "    }\n",
       "</style>\n",
       "<table border=\"1\" class=\"dataframe\">\n",
       "  <thead>\n",
       "    <tr style=\"text-align: right;\">\n",
       "      <th></th>\n",
       "      <th>Features</th>\n",
       "      <th>VIF</th>\n",
       "    </tr>\n",
       "  </thead>\n",
       "  <tbody>\n",
       "    <tr>\n",
       "      <th>2</th>\n",
       "      <td>Credit_History</td>\n",
       "      <td>4.65</td>\n",
       "    </tr>\n",
       "    <tr>\n",
       "      <th>0</th>\n",
       "      <td>Gender</td>\n",
       "      <td>4.37</td>\n",
       "    </tr>\n",
       "    <tr>\n",
       "      <th>1</th>\n",
       "      <td>Married</td>\n",
       "      <td>2.58</td>\n",
       "    </tr>\n",
       "    <tr>\n",
       "      <th>3</th>\n",
       "      <td>District 9</td>\n",
       "      <td>1.62</td>\n",
       "    </tr>\n",
       "    <tr>\n",
       "      <th>4</th>\n",
       "      <td>Qureshi Square, New Delhi</td>\n",
       "      <td>1.15</td>\n",
       "    </tr>\n",
       "  </tbody>\n",
       "</table>\n",
       "</div>"
      ],
      "text/plain": [
       "                    Features   VIF\n",
       "2             Credit_History  4.65\n",
       "0                     Gender  4.37\n",
       "1                    Married  2.58\n",
       "3                 District 9  1.62\n",
       "4  Qureshi Square, New Delhi  1.15"
      ]
     },
     "execution_count": 53,
     "metadata": {},
     "output_type": "execute_result"
    }
   ],
   "source": [
    "# Create a dataframe that will contain the names of all the feature variables and their respective VIFs\n",
    "\n",
    "vif=pd.DataFrame()\n",
    "vif['Features']=X_train[col].columns  \n",
    "vif['VIF']=[variance_inflation_factor(X_train[col].values,i) for i in range(X_train[col].shape[1])]\n",
    "vif['VIF']=round(vif['VIF'],2)\n",
    "vif=vif.sort_values(by='VIF',ascending=False)\n",
    "\n",
    "\n",
    "vif"
   ]
  },
  {
   "cell_type": "markdown",
   "metadata": {},
   "source": [
    "### Predicting the train model"
   ]
  },
  {
   "cell_type": "code",
   "execution_count": 54,
   "metadata": {},
   "outputs": [
    {
     "data": {
      "text/plain": [
       "593    0.049796\n",
       "270    0.847521\n",
       "444    0.847521\n",
       "607    0.049796\n",
       "127    0.847521\n",
       "380    0.847521\n",
       "547    0.028135\n",
       "423    0.847521\n",
       "284    0.847521\n",
       "601    0.049796\n",
       "dtype: float64"
      ]
     },
     "execution_count": 54,
     "metadata": {},
     "output_type": "execute_result"
    }
   ],
   "source": [
    "# Getting the predicted values on the train set\n",
    "y_train_pred = res.predict(X_train_sm)\n",
    "y_train_pred[:10]"
   ]
  },
  {
   "cell_type": "code",
   "execution_count": 55,
   "metadata": {},
   "outputs": [
    {
     "data": {
      "text/plain": [
       "array([0.04979558, 0.84752075, 0.84752075, 0.04979558, 0.84752075,\n",
       "       0.84752075, 0.02813528, 0.84752075, 0.84752075, 0.04979558])"
      ]
     },
     "execution_count": 55,
     "metadata": {},
     "output_type": "execute_result"
    }
   ],
   "source": [
    "y_train_pred = y_train_pred.values.reshape(-1)\n",
    "y_train_pred[:10]"
   ]
  },
  {
   "cell_type": "markdown",
   "metadata": {},
   "source": [
    "##### Creating a dataframe with the actual Converted flag and the predicted probabilities"
   ]
  },
  {
   "cell_type": "code",
   "execution_count": 56,
   "metadata": {},
   "outputs": [
    {
     "data": {
      "text/html": [
       "<div>\n",
       "<style scoped>\n",
       "    .dataframe tbody tr th:only-of-type {\n",
       "        vertical-align: middle;\n",
       "    }\n",
       "\n",
       "    .dataframe tbody tr th {\n",
       "        vertical-align: top;\n",
       "    }\n",
       "\n",
       "    .dataframe thead th {\n",
       "        text-align: right;\n",
       "    }\n",
       "</style>\n",
       "<table border=\"1\" class=\"dataframe\">\n",
       "  <thead>\n",
       "    <tr style=\"text-align: right;\">\n",
       "      <th></th>\n",
       "      <th>Converted</th>\n",
       "      <th>Loan_Prob</th>\n",
       "      <th>CustID</th>\n",
       "    </tr>\n",
       "  </thead>\n",
       "  <tbody>\n",
       "    <tr>\n",
       "      <th>0</th>\n",
       "      <td>1</td>\n",
       "      <td>0.049796</td>\n",
       "      <td>593</td>\n",
       "    </tr>\n",
       "    <tr>\n",
       "      <th>1</th>\n",
       "      <td>1</td>\n",
       "      <td>0.847521</td>\n",
       "      <td>270</td>\n",
       "    </tr>\n",
       "    <tr>\n",
       "      <th>2</th>\n",
       "      <td>0</td>\n",
       "      <td>0.847521</td>\n",
       "      <td>444</td>\n",
       "    </tr>\n",
       "    <tr>\n",
       "      <th>3</th>\n",
       "      <td>0</td>\n",
       "      <td>0.049796</td>\n",
       "      <td>607</td>\n",
       "    </tr>\n",
       "    <tr>\n",
       "      <th>4</th>\n",
       "      <td>0</td>\n",
       "      <td>0.847521</td>\n",
       "      <td>127</td>\n",
       "    </tr>\n",
       "  </tbody>\n",
       "</table>\n",
       "</div>"
      ],
      "text/plain": [
       "   Converted  Loan_Prob  CustID\n",
       "0          1   0.049796     593\n",
       "1          1   0.847521     270\n",
       "2          0   0.847521     444\n",
       "3          0   0.049796     607\n",
       "4          0   0.847521     127"
      ]
     },
     "execution_count": 56,
     "metadata": {},
     "output_type": "execute_result"
    }
   ],
   "source": [
    "y_train_pred_final = pd.DataFrame({'Converted':y_train.values, 'Loan_Prob':y_train_pred})\n",
    "y_train_pred_final['CustID'] = y_train.index\n",
    "y_train_pred_final.head()"
   ]
  },
  {
   "cell_type": "markdown",
   "metadata": {},
   "source": [
    "##### Creating new column 'predicted' with 1 if Lead_Prob > 0.5 else 0"
   ]
  },
  {
   "cell_type": "code",
   "execution_count": 57,
   "metadata": {},
   "outputs": [
    {
     "data": {
      "text/html": [
       "<div>\n",
       "<style scoped>\n",
       "    .dataframe tbody tr th:only-of-type {\n",
       "        vertical-align: middle;\n",
       "    }\n",
       "\n",
       "    .dataframe tbody tr th {\n",
       "        vertical-align: top;\n",
       "    }\n",
       "\n",
       "    .dataframe thead th {\n",
       "        text-align: right;\n",
       "    }\n",
       "</style>\n",
       "<table border=\"1\" class=\"dataframe\">\n",
       "  <thead>\n",
       "    <tr style=\"text-align: right;\">\n",
       "      <th></th>\n",
       "      <th>Converted</th>\n",
       "      <th>Loan_Prob</th>\n",
       "      <th>CustID</th>\n",
       "      <th>predicted</th>\n",
       "    </tr>\n",
       "  </thead>\n",
       "  <tbody>\n",
       "    <tr>\n",
       "      <th>0</th>\n",
       "      <td>1</td>\n",
       "      <td>0.049796</td>\n",
       "      <td>593</td>\n",
       "      <td>0</td>\n",
       "    </tr>\n",
       "    <tr>\n",
       "      <th>1</th>\n",
       "      <td>1</td>\n",
       "      <td>0.847521</td>\n",
       "      <td>270</td>\n",
       "      <td>1</td>\n",
       "    </tr>\n",
       "    <tr>\n",
       "      <th>2</th>\n",
       "      <td>0</td>\n",
       "      <td>0.847521</td>\n",
       "      <td>444</td>\n",
       "      <td>1</td>\n",
       "    </tr>\n",
       "    <tr>\n",
       "      <th>3</th>\n",
       "      <td>0</td>\n",
       "      <td>0.049796</td>\n",
       "      <td>607</td>\n",
       "      <td>0</td>\n",
       "    </tr>\n",
       "    <tr>\n",
       "      <th>4</th>\n",
       "      <td>0</td>\n",
       "      <td>0.847521</td>\n",
       "      <td>127</td>\n",
       "      <td>1</td>\n",
       "    </tr>\n",
       "  </tbody>\n",
       "</table>\n",
       "</div>"
      ],
      "text/plain": [
       "   Converted  Loan_Prob  CustID  predicted\n",
       "0          1   0.049796     593          0\n",
       "1          1   0.847521     270          1\n",
       "2          0   0.847521     444          1\n",
       "3          0   0.049796     607          0\n",
       "4          0   0.847521     127          1"
      ]
     },
     "execution_count": 57,
     "metadata": {},
     "output_type": "execute_result"
    }
   ],
   "source": [
    "y_train_pred_final['predicted'] = y_train_pred_final.Loan_Prob.map(lambda x: 1 if x > 0.5 else 0)\n",
    "\n",
    "# Let's see the head\n",
    "y_train_pred_final.head()"
   ]
  },
  {
   "cell_type": "code",
   "execution_count": 58,
   "metadata": {},
   "outputs": [],
   "source": [
    "### Importing the evaluation metrics\n",
    "from sklearn import metrics"
   ]
  },
  {
   "cell_type": "code",
   "execution_count": 59,
   "metadata": {},
   "outputs": [
    {
     "name": "stdout",
     "output_type": "stream",
     "text": [
      "[[190  60]\n",
      " [ 13 210]]\n"
     ]
    }
   ],
   "source": [
    "# Confusion matrix \n",
    "confusion = metrics.confusion_matrix(y_train_pred_final.Converted, y_train_pred_final.predicted )\n",
    "print(confusion)"
   ]
  },
  {
   "cell_type": "code",
   "execution_count": 60,
   "metadata": {},
   "outputs": [
    {
     "name": "stdout",
     "output_type": "stream",
     "text": [
      "0.8456659619450317\n"
     ]
    }
   ],
   "source": [
    "# Let's check the overall accuracy.\n",
    "\n",
    "print(metrics.accuracy_score(y_train_pred_final.Converted, y_train_pred_final.predicted))"
   ]
  },
  {
   "cell_type": "code",
   "execution_count": 61,
   "metadata": {},
   "outputs": [],
   "source": [
    "y_train_pred = res.predict(X_train_sm).values.reshape(-1)"
   ]
  },
  {
   "cell_type": "code",
   "execution_count": 62,
   "metadata": {
    "scrolled": true
   },
   "outputs": [
    {
     "data": {
      "text/plain": [
       "array([0.04979558, 0.84752075, 0.84752075, 0.04979558, 0.84752075,\n",
       "       0.84752075, 0.02813528, 0.84752075, 0.84752075, 0.04979558])"
      ]
     },
     "execution_count": 62,
     "metadata": {},
     "output_type": "execute_result"
    }
   ],
   "source": [
    "y_train_pred[:10]"
   ]
  },
  {
   "cell_type": "markdown",
   "metadata": {},
   "source": [
    "### Evaluation metrics and their importance\n",
    "\n",
    "1. Accuracy: It refers to the sum of correct assessments by the sum of all assessments\n",
    "2. Sensitivity or Recall Score : It refers to the proportion of positives that are correctly identified. This means the proportion of those leads which are identified correctly as converted were actually converted.\n",
    "3. Specificity : It refers to the proportion of negatives that are correctly identified. This means the proportion of those leads which are identified correctly as non-converted were actually non-converted.\n",
    "4. False Positive Rate: It refers to predicting the rate that something has happened, even though in reality, it never happened. This means the rate of predicting that customer has converted when in reality the customer did not actually convert.\n",
    "5. Positive Predictive Value or Precision Score: the number of positives correctly predicted by the total number of positives predicted.     \n",
    "6. Negative Predictive Value : the number of negatives correctly predicted by the total number of negatives predicted. "
   ]
  },
  {
   "cell_type": "code",
   "execution_count": 63,
   "metadata": {},
   "outputs": [],
   "source": [
    "TP = confusion[1,1] # true positive \n",
    "TN = confusion[0,0] # true negatives\n",
    "FP = confusion[0,1] # false positives\n",
    "FN = confusion[1,0] # false negatives"
   ]
  },
  {
   "cell_type": "code",
   "execution_count": 64,
   "metadata": {},
   "outputs": [
    {
     "name": "stdout",
     "output_type": "stream",
     "text": [
      "Sensitivity =  0.9417040358744395\n",
      "Specificity = 0.76\n"
     ]
    }
   ],
   "source": [
    "# Let's see the sensitivity of our logistic regression model\n",
    "sn1 = TP / float(TP+FN)\n",
    "print(\"Sensitivity = \", sn1)\n",
    "# Let us calculate specificity\n",
    "sp1 = TN / float(TN+FP)\n",
    "print(\"Specificity =\", sp1)"
   ]
  },
  {
   "cell_type": "code",
   "execution_count": 65,
   "metadata": {},
   "outputs": [
    {
     "name": "stdout",
     "output_type": "stream",
     "text": [
      "False Positive Rate = 0.24\n"
     ]
    }
   ],
   "source": [
    "# Calculate false postive rate - predicting converted when customer does not have actually converted\n",
    "\n",
    "fpr1 = FP/ float(TN+FP)\n",
    "print(\"False Positive Rate =\", fpr1)"
   ]
  },
  {
   "cell_type": "code",
   "execution_count": 66,
   "metadata": {},
   "outputs": [
    {
     "name": "stdout",
     "output_type": "stream",
     "text": [
      "Positive Predictive Value =  0.7777777777777778\n"
     ]
    }
   ],
   "source": [
    "# positive predictive value \n",
    "ppv1 = TP / float(TP+FP)\n",
    "print (\"Positive Predictive Value = \", ppv1 )"
   ]
  },
  {
   "cell_type": "code",
   "execution_count": 67,
   "metadata": {
    "scrolled": true
   },
   "outputs": [
    {
     "name": "stdout",
     "output_type": "stream",
     "text": [
      "Negative predictive Value =  0.9359605911330049\n"
     ]
    }
   ],
   "source": [
    "# Negative predictive value\n",
    "npvf =  TN / float(TN+ FN)\n",
    "print(\"Negative predictive Value = \", npvf)"
   ]
  },
  {
   "cell_type": "markdown",
   "metadata": {},
   "source": [
    "### Step: Plotting the ROC Curve"
   ]
  },
  {
   "cell_type": "markdown",
   "metadata": {},
   "source": [
    "An ROC curve demonstrates several things:\n",
    "\n",
    "It shows the tradeoff between sensitivity and specificity (any increase in sensitivity will be accompanied by a decrease in specificity).\n",
    "The closer the curve follows the left-hand border and then the top border of the ROC space, the more accurate the test.\n",
    "The closer the curve comes to the 45-degree diagonal of the ROC space, the less accurate the test."
   ]
  },
  {
   "cell_type": "code",
   "execution_count": 68,
   "metadata": {},
   "outputs": [],
   "source": [
    "def draw_roc( actual, probs ):\n",
    "    fpr, tpr, thresholds = metrics.roc_curve( actual, probs,\n",
    "                                              drop_intermediate = False )\n",
    "    auc_score = metrics.roc_auc_score( actual, probs )\n",
    "    plt.figure(figsize=(10, 8))\n",
    "    plt.plot( fpr, tpr, label='ROC curve (area = %0.2f)' % auc_score )\n",
    "    plt.plot([0, 1], [0, 1], 'k--')\n",
    "    plt.xlim([0.0, 1.0])\n",
    "    plt.ylim([0.0, 1.05])\n",
    "    plt.xlabel('False Positive Rate or [1 - True Negative Rate]')\n",
    "    plt.ylabel('True Positive Rate')\n",
    "    plt.title('Receiver operating characteristic example')\n",
    "    plt.legend(loc=\"lower right\")\n",
    "    plt.show()\n",
    "\n",
    "    return None"
   ]
  },
  {
   "cell_type": "code",
   "execution_count": 69,
   "metadata": {},
   "outputs": [],
   "source": [
    "fpr, tpr, thresholds = metrics.roc_curve( y_train_pred_final.Converted, y_train_pred_final.Loan_Prob, drop_intermediate = False )"
   ]
  },
  {
   "cell_type": "code",
   "execution_count": 70,
   "metadata": {
    "scrolled": true
   },
   "outputs": [
    {
     "data": {
      "image/png": "[encoded data removed]",
      "text/plain": [
       "<Figure size 720x576 with 1 Axes>"
      ]
     },
     "metadata": {},
     "output_type": "display_data"
    }
   ],
   "source": [
    "draw_roc(y_train_pred_final.Converted, y_train_pred_final.Loan_Prob)"
   ]
  },
  {
   "cell_type": "markdown",
   "metadata": {},
   "source": [
    "### Step: Finding the optimal cutoff point"
   ]
  },
  {
   "cell_type": "code",
   "execution_count": 71,
   "metadata": {},
   "outputs": [
    {
     "data": {
      "text/html": [
       "<div>\n",
       "<style scoped>\n",
       "    .dataframe tbody tr th:only-of-type {\n",
       "        vertical-align: middle;\n",
       "    }\n",
       "\n",
       "    .dataframe tbody tr th {\n",
       "        vertical-align: top;\n",
       "    }\n",
       "\n",
       "    .dataframe thead th {\n",
       "        text-align: right;\n",
       "    }\n",
       "</style>\n",
       "<table border=\"1\" class=\"dataframe\">\n",
       "  <thead>\n",
       "    <tr style=\"text-align: right;\">\n",
       "      <th></th>\n",
       "      <th>Converted</th>\n",
       "      <th>Loan_Prob</th>\n",
       "      <th>CustID</th>\n",
       "      <th>predicted</th>\n",
       "      <th>0.0</th>\n",
       "      <th>0.1</th>\n",
       "      <th>0.2</th>\n",
       "      <th>0.3</th>\n",
       "      <th>0.4</th>\n",
       "      <th>0.5</th>\n",
       "      <th>0.6</th>\n",
       "      <th>0.7</th>\n",
       "      <th>0.8</th>\n",
       "      <th>0.9</th>\n",
       "    </tr>\n",
       "  </thead>\n",
       "  <tbody>\n",
       "    <tr>\n",
       "      <th>0</th>\n",
       "      <td>1</td>\n",
       "      <td>0.049796</td>\n",
       "      <td>593</td>\n",
       "      <td>0</td>\n",
       "      <td>1</td>\n",
       "      <td>0</td>\n",
       "      <td>0</td>\n",
       "      <td>0</td>\n",
       "      <td>0</td>\n",
       "      <td>0</td>\n",
       "      <td>0</td>\n",
       "      <td>0</td>\n",
       "      <td>0</td>\n",
       "      <td>0</td>\n",
       "    </tr>\n",
       "    <tr>\n",
       "      <th>1</th>\n",
       "      <td>1</td>\n",
       "      <td>0.847521</td>\n",
       "      <td>270</td>\n",
       "      <td>1</td>\n",
       "      <td>1</td>\n",
       "      <td>1</td>\n",
       "      <td>1</td>\n",
       "      <td>1</td>\n",
       "      <td>1</td>\n",
       "      <td>1</td>\n",
       "      <td>1</td>\n",
       "      <td>1</td>\n",
       "      <td>1</td>\n",
       "      <td>0</td>\n",
       "    </tr>\n",
       "    <tr>\n",
       "      <th>2</th>\n",
       "      <td>0</td>\n",
       "      <td>0.847521</td>\n",
       "      <td>444</td>\n",
       "      <td>1</td>\n",
       "      <td>1</td>\n",
       "      <td>1</td>\n",
       "      <td>1</td>\n",
       "      <td>1</td>\n",
       "      <td>1</td>\n",
       "      <td>1</td>\n",
       "      <td>1</td>\n",
       "      <td>1</td>\n",
       "      <td>1</td>\n",
       "      <td>0</td>\n",
       "    </tr>\n",
       "    <tr>\n",
       "      <th>3</th>\n",
       "      <td>0</td>\n",
       "      <td>0.049796</td>\n",
       "      <td>607</td>\n",
       "      <td>0</td>\n",
       "      <td>1</td>\n",
       "      <td>0</td>\n",
       "      <td>0</td>\n",
       "      <td>0</td>\n",
       "      <td>0</td>\n",
       "      <td>0</td>\n",
       "      <td>0</td>\n",
       "      <td>0</td>\n",
       "      <td>0</td>\n",
       "      <td>0</td>\n",
       "    </tr>\n",
       "    <tr>\n",
       "      <th>4</th>\n",
       "      <td>0</td>\n",
       "      <td>0.847521</td>\n",
       "      <td>127</td>\n",
       "      <td>1</td>\n",
       "      <td>1</td>\n",
       "      <td>1</td>\n",
       "      <td>1</td>\n",
       "      <td>1</td>\n",
       "      <td>1</td>\n",
       "      <td>1</td>\n",
       "      <td>1</td>\n",
       "      <td>1</td>\n",
       "      <td>1</td>\n",
       "      <td>0</td>\n",
       "    </tr>\n",
       "  </tbody>\n",
       "</table>\n",
       "</div>"
      ],
      "text/plain": [
       "   Converted  Loan_Prob  CustID  predicted  0.0  0.1  0.2  0.3  0.4  0.5  0.6  \\\n",
       "0          1   0.049796     593          0    1    0    0    0    0    0    0   \n",
       "1          1   0.847521     270          1    1    1    1    1    1    1    1   \n",
       "2          0   0.847521     444          1    1    1    1    1    1    1    1   \n",
       "3          0   0.049796     607          0    1    0    0    0    0    0    0   \n",
       "4          0   0.847521     127          1    1    1    1    1    1    1    1   \n",
       "\n",
       "   0.7  0.8  0.9  \n",
       "0    0    0    0  \n",
       "1    1    1    0  \n",
       "2    1    1    0  \n",
       "3    0    0    0  \n",
       "4    1    1    0  "
      ]
     },
     "execution_count": 71,
     "metadata": {},
     "output_type": "execute_result"
    }
   ],
   "source": [
    "# Let's create columns with different probability cutoffs \n",
    "numbers = [float(x)/10 for x in range(10)]\n",
    "for i in numbers:\n",
    "    y_train_pred_final[i]= y_train_pred_final.Loan_Prob.map(lambda x: 1 if x > i else 0)\n",
    "y_train_pred_final.head()"
   ]
  },
  {
   "cell_type": "code",
   "execution_count": 72,
   "metadata": {},
   "outputs": [
    {
     "name": "stdout",
     "output_type": "stream",
     "text": [
      "     prob  accuracy     sensi  speci\n",
      "0.0   0.0  0.471459  1.000000  0.000\n",
      "0.1   0.1  0.778013  0.968610  0.608\n",
      "0.2   0.2  0.839323  0.946188  0.744\n",
      "0.3   0.3  0.839323  0.946188  0.744\n",
      "0.4   0.4  0.845666  0.941704  0.760\n",
      "0.5   0.5  0.845666  0.941704  0.760\n",
      "0.6   0.6  0.832981  0.843049  0.824\n",
      "0.7   0.7  0.811839  0.775785  0.844\n",
      "0.8   0.8  0.737844  0.547085  0.908\n",
      "0.9   0.9  0.528541  0.000000  1.000\n"
     ]
    }
   ],
   "source": [
    "# Now let's calculate accuracy sensitivity and specificity for various probability cutoffs.\n",
    "cutoff_df = pd.DataFrame( columns = ['prob','accuracy','sensi','speci'])\n",
    "from sklearn.metrics import confusion_matrix\n",
    "\n",
    "# TP = confusion[1,1] # true positive \n",
    "# TN = confusion[0,0] # true negatives\n",
    "# FP = confusion[0,1] # false positives\n",
    "# FN = confusion[1,0] # false negatives\n",
    "\n",
    "num = [0.0,0.1,0.2,0.3,0.4,0.5,0.6,0.7,0.8,0.9]\n",
    "for i in num:\n",
    "    cm1 = metrics.confusion_matrix(y_train_pred_final.Converted, y_train_pred_final[i] )\n",
    "    total1=sum(sum(cm1))\n",
    "    accuracy = (cm1[0,0]+cm1[1,1])/total1\n",
    "    \n",
    "    speci = cm1[0,0]/(cm1[0,0]+cm1[0,1])\n",
    "    sensi = cm1[1,1]/(cm1[1,0]+cm1[1,1])\n",
    "    cutoff_df.loc[i] =[ i ,accuracy,sensi,speci]\n",
    "print(cutoff_df)"
   ]
  },
  {
   "cell_type": "code",
   "execution_count": 73,
   "metadata": {},
   "outputs": [
    {
     "data": {
      "image/png": "[encoded data removed]",
      "text/plain": [
       "<Figure size 432x288 with 1 Axes>"
      ]
     },
     "metadata": {},
     "output_type": "display_data"
    }
   ],
   "source": [
    "# Let's plot accuracy sensitivity and specificity for various probabilities.\n",
    "cutoff_df.plot.line(x='prob', y=['accuracy','sensi','speci'])\n",
    "plt.show()"
   ]
  },
  {
   "cell_type": "markdown",
   "metadata": {},
   "source": [
    "##### Creating new column 'final_predicted' with 1 if Lead_Prob > 0.67 else 0\n"
   ]
  },
  {
   "cell_type": "code",
   "execution_count": 74,
   "metadata": {
    "scrolled": true
   },
   "outputs": [
    {
     "data": {
      "text/html": [
       "<div>\n",
       "<style scoped>\n",
       "    .dataframe tbody tr th:only-of-type {\n",
       "        vertical-align: middle;\n",
       "    }\n",
       "\n",
       "    .dataframe tbody tr th {\n",
       "        vertical-align: top;\n",
       "    }\n",
       "\n",
       "    .dataframe thead th {\n",
       "        text-align: right;\n",
       "    }\n",
       "</style>\n",
       "<table border=\"1\" class=\"dataframe\">\n",
       "  <thead>\n",
       "    <tr style=\"text-align: right;\">\n",
       "      <th></th>\n",
       "      <th>Converted</th>\n",
       "      <th>Loan_Prob</th>\n",
       "      <th>CustID</th>\n",
       "      <th>predicted</th>\n",
       "      <th>0.0</th>\n",
       "      <th>0.1</th>\n",
       "      <th>0.2</th>\n",
       "      <th>0.3</th>\n",
       "      <th>0.4</th>\n",
       "      <th>0.5</th>\n",
       "      <th>0.6</th>\n",
       "      <th>0.7</th>\n",
       "      <th>0.8</th>\n",
       "      <th>0.9</th>\n",
       "      <th>final_predicted</th>\n",
       "    </tr>\n",
       "  </thead>\n",
       "  <tbody>\n",
       "    <tr>\n",
       "      <th>0</th>\n",
       "      <td>1</td>\n",
       "      <td>0.049796</td>\n",
       "      <td>593</td>\n",
       "      <td>0</td>\n",
       "      <td>1</td>\n",
       "      <td>0</td>\n",
       "      <td>0</td>\n",
       "      <td>0</td>\n",
       "      <td>0</td>\n",
       "      <td>0</td>\n",
       "      <td>0</td>\n",
       "      <td>0</td>\n",
       "      <td>0</td>\n",
       "      <td>0</td>\n",
       "      <td>0</td>\n",
       "    </tr>\n",
       "    <tr>\n",
       "      <th>1</th>\n",
       "      <td>1</td>\n",
       "      <td>0.847521</td>\n",
       "      <td>270</td>\n",
       "      <td>1</td>\n",
       "      <td>1</td>\n",
       "      <td>1</td>\n",
       "      <td>1</td>\n",
       "      <td>1</td>\n",
       "      <td>1</td>\n",
       "      <td>1</td>\n",
       "      <td>1</td>\n",
       "      <td>1</td>\n",
       "      <td>1</td>\n",
       "      <td>0</td>\n",
       "      <td>1</td>\n",
       "    </tr>\n",
       "    <tr>\n",
       "      <th>2</th>\n",
       "      <td>0</td>\n",
       "      <td>0.847521</td>\n",
       "      <td>444</td>\n",
       "      <td>1</td>\n",
       "      <td>1</td>\n",
       "      <td>1</td>\n",
       "      <td>1</td>\n",
       "      <td>1</td>\n",
       "      <td>1</td>\n",
       "      <td>1</td>\n",
       "      <td>1</td>\n",
       "      <td>1</td>\n",
       "      <td>1</td>\n",
       "      <td>0</td>\n",
       "      <td>1</td>\n",
       "    </tr>\n",
       "    <tr>\n",
       "      <th>3</th>\n",
       "      <td>0</td>\n",
       "      <td>0.049796</td>\n",
       "      <td>607</td>\n",
       "      <td>0</td>\n",
       "      <td>1</td>\n",
       "      <td>0</td>\n",
       "      <td>0</td>\n",
       "      <td>0</td>\n",
       "      <td>0</td>\n",
       "      <td>0</td>\n",
       "      <td>0</td>\n",
       "      <td>0</td>\n",
       "      <td>0</td>\n",
       "      <td>0</td>\n",
       "      <td>0</td>\n",
       "    </tr>\n",
       "    <tr>\n",
       "      <th>4</th>\n",
       "      <td>0</td>\n",
       "      <td>0.847521</td>\n",
       "      <td>127</td>\n",
       "      <td>1</td>\n",
       "      <td>1</td>\n",
       "      <td>1</td>\n",
       "      <td>1</td>\n",
       "      <td>1</td>\n",
       "      <td>1</td>\n",
       "      <td>1</td>\n",
       "      <td>1</td>\n",
       "      <td>1</td>\n",
       "      <td>1</td>\n",
       "      <td>0</td>\n",
       "      <td>1</td>\n",
       "    </tr>\n",
       "  </tbody>\n",
       "</table>\n",
       "</div>"
      ],
      "text/plain": [
       "   Converted  Loan_Prob  CustID  predicted  0.0  0.1  0.2  0.3  0.4  0.5  0.6  \\\n",
       "0          1   0.049796     593          0    1    0    0    0    0    0    0   \n",
       "1          1   0.847521     270          1    1    1    1    1    1    1    1   \n",
       "2          0   0.847521     444          1    1    1    1    1    1    1    1   \n",
       "3          0   0.049796     607          0    1    0    0    0    0    0    0   \n",
       "4          0   0.847521     127          1    1    1    1    1    1    1    1   \n",
       "\n",
       "   0.7  0.8  0.9  final_predicted  \n",
       "0    0    0    0                0  \n",
       "1    1    1    0                1  \n",
       "2    1    1    0                1  \n",
       "3    0    0    0                0  \n",
       "4    1    1    0                1  "
      ]
     },
     "execution_count": 74,
     "metadata": {},
     "output_type": "execute_result"
    }
   ],
   "source": [
    "y_train_pred_final['final_predicted'] = y_train_pred_final.Loan_Prob.map( lambda x: 1 if x > 0.67 else 0)\n",
    "\n",
    "y_train_pred_final.head()"
   ]
  },
  {
   "cell_type": "markdown",
   "metadata": {},
   "source": [
    "### Evaluation Metrics for Final Cut Off Value = 0.67 (Training Set)"
   ]
  },
  {
   "cell_type": "code",
   "execution_count": 75,
   "metadata": {},
   "outputs": [
    {
     "name": "stdout",
     "output_type": "stream",
     "text": [
      "Accuracy =  0.8329809725158562\n"
     ]
    }
   ],
   "source": [
    "# Let's check the overall accuracy.\n",
    "\n",
    "acf = metrics.accuracy_score(y_train_pred_final.Converted, y_train_pred_final.final_predicted)\n",
    "print(\"Accuracy = \", acf)"
   ]
  },
  {
   "cell_type": "code",
   "execution_count": 76,
   "metadata": {},
   "outputs": [
    {
     "data": {
      "text/plain": [
       "array([[206,  44],\n",
       "       [ 35, 188]], dtype=int64)"
      ]
     },
     "execution_count": 76,
     "metadata": {},
     "output_type": "execute_result"
    }
   ],
   "source": [
    "# Confusion Matrix\n",
    "confusion2 = metrics.confusion_matrix(y_train_pred_final.Converted, y_train_pred_final.final_predicted )\n",
    "confusion2"
   ]
  },
  {
   "cell_type": "code",
   "execution_count": 77,
   "metadata": {},
   "outputs": [],
   "source": [
    "TP = confusion2[1,1] # true positive \n",
    "TN = confusion2[0,0] # true negatives\n",
    "FP = confusion2[0,1] # false positives\n",
    "FN = confusion2[1,0] # false negatives"
   ]
  },
  {
   "cell_type": "code",
   "execution_count": 78,
   "metadata": {},
   "outputs": [
    {
     "name": "stdout",
     "output_type": "stream",
     "text": [
      "Sensitivity =  0.8430493273542601\n",
      "Specificity = 0.824\n"
     ]
    }
   ],
   "source": [
    "# Let's see the sensitivity of our logistic regression model\n",
    "snf = TP / float(TP+FN)\n",
    "print(\"Sensitivity = \", snf)\n",
    "\n",
    "# Let us calculate specificity\n",
    "spf = TN / float(TN+FP)\n",
    "print(\"Specificity =\", spf)\n"
   ]
  },
  {
   "cell_type": "code",
   "execution_count": 79,
   "metadata": {},
   "outputs": [
    {
     "name": "stdout",
     "output_type": "stream",
     "text": [
      "False Positive Rate = 0.176\n"
     ]
    }
   ],
   "source": [
    "# Calculate false postive rate - predicting converted when customer does not have actually converted\n",
    "\n",
    "fprf = FP/ float(TN+FP)\n",
    "print(\"False Positive Rate =\", fprf)"
   ]
  },
  {
   "cell_type": "code",
   "execution_count": 80,
   "metadata": {},
   "outputs": [
    {
     "name": "stdout",
     "output_type": "stream",
     "text": [
      "Positive Predictive Value =  0.8103448275862069\n"
     ]
    }
   ],
   "source": [
    "# positive predictive value \n",
    "ppvf = TP / float(TP+FP)\n",
    "print (\"Positive Predictive Value = \", ppvf )"
   ]
  },
  {
   "cell_type": "code",
   "execution_count": 81,
   "metadata": {},
   "outputs": [
    {
     "name": "stdout",
     "output_type": "stream",
     "text": [
      "Negative predictive Value =  0.8547717842323651\n"
     ]
    }
   ],
   "source": [
    "# Negative predictive value\n",
    "npvf =  TN / float(TN+ FN)\n",
    "print(\"Negative predictive Value = \", npvf)"
   ]
  },
  {
   "cell_type": "code",
   "execution_count": 82,
   "metadata": {},
   "outputs": [],
   "source": [
    "# Importing required libraries\n",
    "from sklearn.metrics import precision_score, recall_score"
   ]
  },
  {
   "cell_type": "code",
   "execution_count": 83,
   "metadata": {},
   "outputs": [
    {
     "name": "stdout",
     "output_type": "stream",
     "text": [
      "Precision Score = 0.8103448275862069\n"
     ]
    }
   ],
   "source": [
    "# Precision Score\n",
    "pscf = precision_score(y_train_pred_final.Converted, y_train_pred_final.final_predicted)\n",
    "print(\"Precision Score =\", pscf)"
   ]
  },
  {
   "cell_type": "code",
   "execution_count": 84,
   "metadata": {},
   "outputs": [
    {
     "name": "stdout",
     "output_type": "stream",
     "text": [
      "Recall Score = 0.8430493273542601\n"
     ]
    }
   ],
   "source": [
    "# Recall Score\n",
    "rcsf = recall_score(y_train_pred_final.Converted, y_train_pred_final.final_predicted)\n",
    "print(\"Recall Score =\", rcsf)"
   ]
  },
  {
   "cell_type": "markdown",
   "metadata": {},
   "source": [
    "#### Precision-Recall Trade off"
   ]
  },
  {
   "cell_type": "code",
   "execution_count": 85,
   "metadata": {},
   "outputs": [
    {
     "data": {
      "text/plain": [
       "(0      1\n",
       " 1      1\n",
       " 2      0\n",
       " 3      0\n",
       " 4      0\n",
       "       ..\n",
       " 468    0\n",
       " 469    0\n",
       " 470    0\n",
       " 471    1\n",
       " 472    0\n",
       " Name: Converted, Length: 473, dtype: int32,\n",
       " 0      0\n",
       " 1      1\n",
       " 2      1\n",
       " 3      0\n",
       " 4      1\n",
       "       ..\n",
       " 468    0\n",
       " 469    1\n",
       " 470    1\n",
       " 471    1\n",
       " 472    0\n",
       " Name: predicted, Length: 473, dtype: int64)"
      ]
     },
     "execution_count": 85,
     "metadata": {},
     "output_type": "execute_result"
    }
   ],
   "source": [
    "y_train_pred_final.Converted, y_train_pred_final.predicted"
   ]
  },
  {
   "cell_type": "code",
   "execution_count": 86,
   "metadata": {},
   "outputs": [],
   "source": [
    "from sklearn.metrics import precision_recall_curve"
   ]
  },
  {
   "cell_type": "code",
   "execution_count": 87,
   "metadata": {},
   "outputs": [],
   "source": [
    "p, r, thresholds = precision_recall_curve(y_train_pred_final.Converted, y_train_pred_final.Loan_Prob)"
   ]
  },
  {
   "cell_type": "code",
   "execution_count": 88,
   "metadata": {
    "scrolled": true
   },
   "outputs": [
    {
     "data": {
      "image/png": "[encoded data removed]",
      "text/plain": [
       "<Figure size 432x288 with 1 Axes>"
      ]
     },
     "metadata": {},
     "output_type": "display_data"
    }
   ],
   "source": [
    "plt.plot(thresholds, p[:-1], \"g-\")\n",
    "plt.plot(thresholds, r[:-1], \"r-\")\n",
    "plt.show()"
   ]
  },
  {
   "cell_type": "markdown",
   "metadata": {},
   "source": [
    "### Step : Making predictions on the test set"
   ]
  },
  {
   "cell_type": "code",
   "execution_count": 89,
   "metadata": {},
   "outputs": [],
   "source": [
    "X_test[['Loan_Amount_Term','Dependents','ApplicantIncome', \"CoapplicantIncome\", \"LoanAmount\"]] = scaler.transform(X_test[['Loan_Amount_Term','Dependents','ApplicantIncome', \"CoapplicantIncome\", \"LoanAmount\"]])\n"
   ]
  },
  {
   "cell_type": "code",
   "execution_count": 90,
   "metadata": {},
   "outputs": [
    {
     "data": {
      "text/html": [
       "<div>\n",
       "<style scoped>\n",
       "    .dataframe tbody tr th:only-of-type {\n",
       "        vertical-align: middle;\n",
       "    }\n",
       "\n",
       "    .dataframe tbody tr th {\n",
       "        vertical-align: top;\n",
       "    }\n",
       "\n",
       "    .dataframe thead th {\n",
       "        text-align: right;\n",
       "    }\n",
       "</style>\n",
       "<table border=\"1\" class=\"dataframe\">\n",
       "  <thead>\n",
       "    <tr style=\"text-align: right;\">\n",
       "      <th></th>\n",
       "      <th>Gender</th>\n",
       "      <th>Married</th>\n",
       "      <th>Credit_History</th>\n",
       "      <th>District 9</th>\n",
       "      <th>Qureshi Square, New Delhi</th>\n",
       "    </tr>\n",
       "  </thead>\n",
       "  <tbody>\n",
       "    <tr>\n",
       "      <th>133</th>\n",
       "      <td>1</td>\n",
       "      <td>0</td>\n",
       "      <td>1</td>\n",
       "      <td>0</td>\n",
       "      <td>0</td>\n",
       "    </tr>\n",
       "    <tr>\n",
       "      <th>530</th>\n",
       "      <td>1</td>\n",
       "      <td>1</td>\n",
       "      <td>1</td>\n",
       "      <td>1</td>\n",
       "      <td>0</td>\n",
       "    </tr>\n",
       "    <tr>\n",
       "      <th>48</th>\n",
       "      <td>1</td>\n",
       "      <td>1</td>\n",
       "      <td>1</td>\n",
       "      <td>0</td>\n",
       "      <td>1</td>\n",
       "    </tr>\n",
       "    <tr>\n",
       "      <th>561</th>\n",
       "      <td>1</td>\n",
       "      <td>0</td>\n",
       "      <td>1</td>\n",
       "      <td>1</td>\n",
       "      <td>0</td>\n",
       "    </tr>\n",
       "    <tr>\n",
       "      <th>634</th>\n",
       "      <td>1</td>\n",
       "      <td>0</td>\n",
       "      <td>1</td>\n",
       "      <td>1</td>\n",
       "      <td>0</td>\n",
       "    </tr>\n",
       "  </tbody>\n",
       "</table>\n",
       "</div>"
      ],
      "text/plain": [
       "     Gender  Married  Credit_History  District 9  Qureshi Square, New Delhi\n",
       "133       1        0               1           0                          0\n",
       "530       1        1               1           1                          0\n",
       "48        1        1               1           0                          1\n",
       "561       1        0               1           1                          0\n",
       "634       1        0               1           1                          0"
      ]
     },
     "execution_count": 90,
     "metadata": {},
     "output_type": "execute_result"
    }
   ],
   "source": [
    "X_test = X_test[col]\n",
    "X_test.head()"
   ]
  },
  {
   "cell_type": "code",
   "execution_count": 91,
   "metadata": {},
   "outputs": [],
   "source": [
    "X_test_sm = sm.add_constant(X_test)"
   ]
  },
  {
   "cell_type": "code",
   "execution_count": 92,
   "metadata": {},
   "outputs": [],
   "source": [
    "y_test_pred = res.predict(X_test_sm)"
   ]
  },
  {
   "cell_type": "code",
   "execution_count": 93,
   "metadata": {},
   "outputs": [],
   "source": [
    "# Converting y_pred to a dataframe which is an array\n",
    "\n",
    "y_pred_1 = pd.DataFrame(y_test_pred)"
   ]
  },
  {
   "cell_type": "code",
   "execution_count": 94,
   "metadata": {},
   "outputs": [
    {
     "data": {
      "text/html": [
       "<div>\n",
       "<style scoped>\n",
       "    .dataframe tbody tr th:only-of-type {\n",
       "        vertical-align: middle;\n",
       "    }\n",
       "\n",
       "    .dataframe tbody tr th {\n",
       "        vertical-align: top;\n",
       "    }\n",
       "\n",
       "    .dataframe thead th {\n",
       "        text-align: right;\n",
       "    }\n",
       "</style>\n",
       "<table border=\"1\" class=\"dataframe\">\n",
       "  <thead>\n",
       "    <tr style=\"text-align: right;\">\n",
       "      <th></th>\n",
       "      <th>0</th>\n",
       "    </tr>\n",
       "  </thead>\n",
       "  <tbody>\n",
       "    <tr>\n",
       "      <th>133</th>\n",
       "      <td>0.754331</td>\n",
       "    </tr>\n",
       "    <tr>\n",
       "      <th>530</th>\n",
       "      <td>0.049796</td>\n",
       "    </tr>\n",
       "    <tr>\n",
       "      <th>48</th>\n",
       "      <td>0.698889</td>\n",
       "    </tr>\n",
       "    <tr>\n",
       "      <th>561</th>\n",
       "      <td>0.028135</td>\n",
       "    </tr>\n",
       "    <tr>\n",
       "      <th>634</th>\n",
       "      <td>0.028135</td>\n",
       "    </tr>\n",
       "  </tbody>\n",
       "</table>\n",
       "</div>"
      ],
      "text/plain": [
       "            0\n",
       "133  0.754331\n",
       "530  0.049796\n",
       "48   0.698889\n",
       "561  0.028135\n",
       "634  0.028135"
      ]
     },
     "execution_count": 94,
     "metadata": {},
     "output_type": "execute_result"
    }
   ],
   "source": [
    "# Checking the head\n",
    "y_pred_1.head()"
   ]
  },
  {
   "cell_type": "code",
   "execution_count": 95,
   "metadata": {},
   "outputs": [],
   "source": [
    "# Converting y_test to dataframe\n",
    "y_test_df = pd.DataFrame(y_test)"
   ]
  },
  {
   "cell_type": "code",
   "execution_count": 96,
   "metadata": {},
   "outputs": [],
   "source": [
    "# Putting CustID to index\n",
    "\n",
    "y_test_df['CustID'] = y_test_df.index"
   ]
  },
  {
   "cell_type": "code",
   "execution_count": 97,
   "metadata": {},
   "outputs": [],
   "source": [
    "# Removing index for both dataframes to append them side by side \n",
    "y_pred_1.reset_index(drop=True, inplace=True)\n",
    "y_test_df.reset_index(drop=True, inplace=True)"
   ]
  },
  {
   "cell_type": "code",
   "execution_count": 98,
   "metadata": {},
   "outputs": [],
   "source": [
    "# Appending y_test_df and y_pred_1\n",
    "\n",
    "y_pred_final = pd.concat([y_test_df, y_pred_1],axis=1)"
   ]
  },
  {
   "cell_type": "code",
   "execution_count": 99,
   "metadata": {},
   "outputs": [
    {
     "data": {
      "text/html": [
       "<div>\n",
       "<style scoped>\n",
       "    .dataframe tbody tr th:only-of-type {\n",
       "        vertical-align: middle;\n",
       "    }\n",
       "\n",
       "    .dataframe tbody tr th {\n",
       "        vertical-align: top;\n",
       "    }\n",
       "\n",
       "    .dataframe thead th {\n",
       "        text-align: right;\n",
       "    }\n",
       "</style>\n",
       "<table border=\"1\" class=\"dataframe\">\n",
       "  <thead>\n",
       "    <tr style=\"text-align: right;\">\n",
       "      <th></th>\n",
       "      <th>Loan_Status_num</th>\n",
       "      <th>CustID</th>\n",
       "      <th>0</th>\n",
       "    </tr>\n",
       "  </thead>\n",
       "  <tbody>\n",
       "    <tr>\n",
       "      <th>0</th>\n",
       "      <td>0</td>\n",
       "      <td>133</td>\n",
       "      <td>0.754331</td>\n",
       "    </tr>\n",
       "    <tr>\n",
       "      <th>1</th>\n",
       "      <td>0</td>\n",
       "      <td>530</td>\n",
       "      <td>0.049796</td>\n",
       "    </tr>\n",
       "    <tr>\n",
       "      <th>2</th>\n",
       "      <td>1</td>\n",
       "      <td>48</td>\n",
       "      <td>0.698889</td>\n",
       "    </tr>\n",
       "    <tr>\n",
       "      <th>3</th>\n",
       "      <td>0</td>\n",
       "      <td>561</td>\n",
       "      <td>0.028135</td>\n",
       "    </tr>\n",
       "    <tr>\n",
       "      <th>4</th>\n",
       "      <td>0</td>\n",
       "      <td>634</td>\n",
       "      <td>0.028135</td>\n",
       "    </tr>\n",
       "  </tbody>\n",
       "</table>\n",
       "</div>"
      ],
      "text/plain": [
       "   Loan_Status_num  CustID         0\n",
       "0                0     133  0.754331\n",
       "1                0     530  0.049796\n",
       "2                1      48  0.698889\n",
       "3                0     561  0.028135\n",
       "4                0     634  0.028135"
      ]
     },
     "execution_count": 99,
     "metadata": {},
     "output_type": "execute_result"
    }
   ],
   "source": [
    "y_pred_final.head()"
   ]
  },
  {
   "cell_type": "code",
   "execution_count": 100,
   "metadata": {},
   "outputs": [],
   "source": [
    " ## Renaming the column\n",
    "y_pred_final= y_pred_final.rename(columns={ 0 : 'Loan_Prob', \"Loan_Status_num\": \"Converted\"})"
   ]
  },
  {
   "cell_type": "code",
   "execution_count": 101,
   "metadata": {},
   "outputs": [],
   "source": [
    "# Rearranging the columns\n",
    "y_pred_final = y_pred_final.reindex(['CustID','Converted','Loan_Prob'], axis=1)"
   ]
  },
  {
   "cell_type": "code",
   "execution_count": 102,
   "metadata": {},
   "outputs": [
    {
     "data": {
      "text/html": [
       "<div>\n",
       "<style scoped>\n",
       "    .dataframe tbody tr th:only-of-type {\n",
       "        vertical-align: middle;\n",
       "    }\n",
       "\n",
       "    .dataframe tbody tr th {\n",
       "        vertical-align: top;\n",
       "    }\n",
       "\n",
       "    .dataframe thead th {\n",
       "        text-align: right;\n",
       "    }\n",
       "</style>\n",
       "<table border=\"1\" class=\"dataframe\">\n",
       "  <thead>\n",
       "    <tr style=\"text-align: right;\">\n",
       "      <th></th>\n",
       "      <th>CustID</th>\n",
       "      <th>Converted</th>\n",
       "      <th>Loan_Prob</th>\n",
       "    </tr>\n",
       "  </thead>\n",
       "  <tbody>\n",
       "    <tr>\n",
       "      <th>0</th>\n",
       "      <td>133</td>\n",
       "      <td>0</td>\n",
       "      <td>0.754331</td>\n",
       "    </tr>\n",
       "    <tr>\n",
       "      <th>1</th>\n",
       "      <td>530</td>\n",
       "      <td>0</td>\n",
       "      <td>0.049796</td>\n",
       "    </tr>\n",
       "    <tr>\n",
       "      <th>2</th>\n",
       "      <td>48</td>\n",
       "      <td>1</td>\n",
       "      <td>0.698889</td>\n",
       "    </tr>\n",
       "    <tr>\n",
       "      <th>3</th>\n",
       "      <td>561</td>\n",
       "      <td>0</td>\n",
       "      <td>0.028135</td>\n",
       "    </tr>\n",
       "    <tr>\n",
       "      <th>4</th>\n",
       "      <td>634</td>\n",
       "      <td>0</td>\n",
       "      <td>0.028135</td>\n",
       "    </tr>\n",
       "  </tbody>\n",
       "</table>\n",
       "</div>"
      ],
      "text/plain": [
       "   CustID  Converted  Loan_Prob\n",
       "0     133          0   0.754331\n",
       "1     530          0   0.049796\n",
       "2      48          1   0.698889\n",
       "3     561          0   0.028135\n",
       "4     634          0   0.028135"
      ]
     },
     "execution_count": 102,
     "metadata": {},
     "output_type": "execute_result"
    }
   ],
   "source": [
    "y_pred_final.head()"
   ]
  },
  {
   "cell_type": "code",
   "execution_count": 103,
   "metadata": {},
   "outputs": [],
   "source": [
    "y_pred_final['final_predicted'] = y_pred_final.Loan_Prob.map(lambda x: 1 if x > 0.67 else 0)"
   ]
  },
  {
   "cell_type": "code",
   "execution_count": 104,
   "metadata": {},
   "outputs": [
    {
     "data": {
      "text/html": [
       "<div>\n",
       "<style scoped>\n",
       "    .dataframe tbody tr th:only-of-type {\n",
       "        vertical-align: middle;\n",
       "    }\n",
       "\n",
       "    .dataframe tbody tr th {\n",
       "        vertical-align: top;\n",
       "    }\n",
       "\n",
       "    .dataframe thead th {\n",
       "        text-align: right;\n",
       "    }\n",
       "</style>\n",
       "<table border=\"1\" class=\"dataframe\">\n",
       "  <thead>\n",
       "    <tr style=\"text-align: right;\">\n",
       "      <th></th>\n",
       "      <th>CustID</th>\n",
       "      <th>Converted</th>\n",
       "      <th>Loan_Prob</th>\n",
       "      <th>final_predicted</th>\n",
       "    </tr>\n",
       "  </thead>\n",
       "  <tbody>\n",
       "    <tr>\n",
       "      <th>0</th>\n",
       "      <td>133</td>\n",
       "      <td>0</td>\n",
       "      <td>0.754331</td>\n",
       "      <td>1</td>\n",
       "    </tr>\n",
       "    <tr>\n",
       "      <th>1</th>\n",
       "      <td>530</td>\n",
       "      <td>0</td>\n",
       "      <td>0.049796</td>\n",
       "      <td>0</td>\n",
       "    </tr>\n",
       "    <tr>\n",
       "      <th>2</th>\n",
       "      <td>48</td>\n",
       "      <td>1</td>\n",
       "      <td>0.698889</td>\n",
       "      <td>1</td>\n",
       "    </tr>\n",
       "    <tr>\n",
       "      <th>3</th>\n",
       "      <td>561</td>\n",
       "      <td>0</td>\n",
       "      <td>0.028135</td>\n",
       "      <td>0</td>\n",
       "    </tr>\n",
       "    <tr>\n",
       "      <th>4</th>\n",
       "      <td>634</td>\n",
       "      <td>0</td>\n",
       "      <td>0.028135</td>\n",
       "      <td>0</td>\n",
       "    </tr>\n",
       "  </tbody>\n",
       "</table>\n",
       "</div>"
      ],
      "text/plain": [
       "   CustID  Converted  Loan_Prob  final_predicted\n",
       "0     133          0   0.754331                1\n",
       "1     530          0   0.049796                0\n",
       "2      48          1   0.698889                1\n",
       "3     561          0   0.028135                0\n",
       "4     634          0   0.028135                0"
      ]
     },
     "execution_count": 104,
     "metadata": {},
     "output_type": "execute_result"
    }
   ],
   "source": [
    "y_pred_final.head()"
   ]
  },
  {
   "cell_type": "markdown",
   "metadata": {},
   "source": [
    "### Evaluation Metrics for Final Cut Off Value = 0.67 (Test Set)\n"
   ]
  },
  {
   "cell_type": "code",
   "execution_count": 105,
   "metadata": {},
   "outputs": [
    {
     "name": "stdout",
     "output_type": "stream",
     "text": [
      "Accuracy =  0.7881773399014779\n"
     ]
    }
   ],
   "source": [
    "act = metrics.accuracy_score(y_pred_final.Converted, y_pred_final.final_predicted)\n",
    "print (\"Accuracy = \", act)"
   ]
  },
  {
   "cell_type": "code",
   "execution_count": 106,
   "metadata": {},
   "outputs": [
    {
     "data": {
      "text/plain": [
       "array([[69, 18],\n",
       "       [25, 91]], dtype=int64)"
      ]
     },
     "execution_count": 106,
     "metadata": {},
     "output_type": "execute_result"
    }
   ],
   "source": [
    "confusion3 = metrics.confusion_matrix(y_pred_final.Converted, y_pred_final.final_predicted )\n",
    "confusion3"
   ]
  },
  {
   "cell_type": "code",
   "execution_count": 107,
   "metadata": {},
   "outputs": [],
   "source": [
    "TP = confusion3[1,1] # true positive \n",
    "TN = confusion3[0,0] # true negatives\n",
    "FP = confusion3[0,1] # false positives\n",
    "FN = confusion3[1,0] # false negatives"
   ]
  },
  {
   "cell_type": "code",
   "execution_count": 108,
   "metadata": {},
   "outputs": [
    {
     "name": "stdout",
     "output_type": "stream",
     "text": [
      "Sensitivity =  0.7844827586206896\n"
     ]
    }
   ],
   "source": [
    "# Let's see the sensitivity of our logistic regression model\n",
    "snt = TP / float(TP+FN)\n",
    "print(\"Sensitivity = \", snt )"
   ]
  },
  {
   "cell_type": "code",
   "execution_count": 109,
   "metadata": {},
   "outputs": [
    {
     "name": "stdout",
     "output_type": "stream",
     "text": [
      "Specificity =  0.7931034482758621\n"
     ]
    }
   ],
   "source": [
    "# Let us calculate specificity\n",
    "spt = TN / float(TN+FP)\n",
    "print(\"Specificity = \", spt)"
   ]
  },
  {
   "cell_type": "code",
   "execution_count": 110,
   "metadata": {},
   "outputs": [
    {
     "name": "stdout",
     "output_type": "stream",
     "text": [
      "Precision_score =  0.8348623853211009\n"
     ]
    }
   ],
   "source": [
    "psct = precision_score(y_pred_final.Converted, y_pred_final.final_predicted)\n",
    "print(\"Precision_score = \", psct)"
   ]
  },
  {
   "cell_type": "code",
   "execution_count": 111,
   "metadata": {},
   "outputs": [
    {
     "name": "stdout",
     "output_type": "stream",
     "text": [
      "Recall_score =  0.7844827586206896\n"
     ]
    }
   ],
   "source": [
    "rcst = recall_score(y_pred_final.Converted, y_pred_final.final_predicted) \n",
    "print(\"Recall_score = \", rcst)"
   ]
  },
  {
   "cell_type": "code",
   "execution_count": 112,
   "metadata": {},
   "outputs": [
    {
     "name": "stdout",
     "output_type": "stream",
     "text": [
      "Positive Predictive Value =  0.8348623853211009\n"
     ]
    }
   ],
   "source": [
    "# Positive predictive value \n",
    "ppvt = TP / float(TP+FP)\n",
    "print(\"Positive Predictive Value = \", ppvt )"
   ]
  },
  {
   "cell_type": "code",
   "execution_count": 113,
   "metadata": {},
   "outputs": [
    {
     "name": "stdout",
     "output_type": "stream",
     "text": [
      "False Positive Rate=  0.20689655172413793\n"
     ]
    }
   ],
   "source": [
    "# Calculate false postive rate - predicting churn when customer does not have churned\n",
    "fprt = FP/ float(TN+FP)\n",
    "print(\"False Positive Rate= \", fprt )"
   ]
  },
  {
   "cell_type": "code",
   "execution_count": 114,
   "metadata": {},
   "outputs": [
    {
     "name": "stdout",
     "output_type": "stream",
     "text": [
      "Negative Predictive Value =  0.7340425531914894\n"
     ]
    }
   ],
   "source": [
    "# Negative predictive value\n",
    "npvt = TN / float(TN+ FN)\n",
    "print (\"Negative Predictive Value = \", npvt)"
   ]
  },
  {
   "cell_type": "markdown",
   "metadata": {},
   "source": [
    "### Comparing evaluation metrics for both train and test set with cut off value of 0.67"
   ]
  },
  {
   "cell_type": "code",
   "execution_count": 115,
   "metadata": {},
   "outputs": [
    {
     "name": "stdout",
     "output_type": "stream",
     "text": [
      "Accuracy for predicted trained set =  0.833\n",
      "Sensitivity or Recall Score for predicted trained set =  0.843\n",
      "Precision Score for predicted trained set =  0.810\n",
      "Specificity for predicted trained set =  0.824\n",
      "False Positive Rate for predicted trained set =  0.176\n",
      "Positive Predictive Value for predicted trained set =  0.810\n",
      "Negative Predictive Value for predicted trained set =  0.855\n",
      "\n",
      "Accuracy for predicted test set =  0.788\n",
      "Sensitivity or Recall Score for predicted test set = 0.784\n",
      "Precision Score for predicted trained set =  0.835\n",
      "Specificity for predicted test set =  0.793\n",
      "False Positive Rate for predicted test set =  0.207\n",
      "Positive Predictive Value for predicted test set =  0.835\n",
      "Negative Predictive Value for predicted test set =  0.734\n"
     ]
    }
   ],
   "source": [
    "print(\"Accuracy for predicted trained set = \" , format(acf, '.3f'))\n",
    "print(\"Sensitivity or Recall Score for predicted trained set = \",format(snf, '.3f'))\n",
    "print(\"Precision Score for predicted trained set = \", format(pscf, '.3f'))\n",
    "print(\"Specificity for predicted trained set = \", format(spf, '.3f' ))\n",
    "print(\"False Positive Rate for predicted trained set = \", format(fprf, '.3f' ))\n",
    "print(\"Positive Predictive Value for predicted trained set = \", format(ppvf, '.3f' ))\n",
    "print(\"Negative Predictive Value for predicted trained set = \", format(npvf, '.3f' ))\n",
    "\n",
    "print()\n",
    "\n",
    "print(\"Accuracy for predicted test set = \", format(act, '.3f'))\n",
    "print(\"Sensitivity or Recall Score for predicted test set =\", format(snt, '.3f'))\n",
    "print(\"Precision Score for predicted trained set = \", format(psct, '.3f'))\n",
    "print(\"Specificity for predicted test set = \", format(spt, '.3f'))\n",
    "print(\"False Positive Rate for predicted test set = \", format(fprt, '.3f' ))\n",
    "print(\"Positive Predictive Value for predicted test set = \", format(ppvt, '.3f' ))\n",
    "print(\"Negative Predictive Value for predicted test set = \", format(npvt, '.3f' ))"
   ]
  },
  {
   "cell_type": "code",
   "execution_count": 116,
   "metadata": {},
   "outputs": [
    {
     "data": {
      "text/html": [
       "<div>\n",
       "<style scoped>\n",
       "    .dataframe tbody tr th:only-of-type {\n",
       "        vertical-align: middle;\n",
       "    }\n",
       "\n",
       "    .dataframe tbody tr th {\n",
       "        vertical-align: top;\n",
       "    }\n",
       "\n",
       "    .dataframe thead th {\n",
       "        text-align: right;\n",
       "    }\n",
       "</style>\n",
       "<table border=\"1\" class=\"dataframe\">\n",
       "  <thead>\n",
       "    <tr style=\"text-align: right;\">\n",
       "      <th></th>\n",
       "      <th>Converted</th>\n",
       "      <th>Loan_Prob</th>\n",
       "      <th>CustID</th>\n",
       "      <th>predicted</th>\n",
       "      <th>0.0</th>\n",
       "      <th>0.1</th>\n",
       "      <th>0.2</th>\n",
       "      <th>0.3</th>\n",
       "      <th>0.4</th>\n",
       "      <th>0.5</th>\n",
       "      <th>0.6</th>\n",
       "      <th>0.7</th>\n",
       "      <th>0.8</th>\n",
       "      <th>0.9</th>\n",
       "      <th>final_predicted</th>\n",
       "    </tr>\n",
       "  </thead>\n",
       "  <tbody>\n",
       "    <tr>\n",
       "      <th>0</th>\n",
       "      <td>1</td>\n",
       "      <td>0.049796</td>\n",
       "      <td>593</td>\n",
       "      <td>0</td>\n",
       "      <td>1</td>\n",
       "      <td>0</td>\n",
       "      <td>0</td>\n",
       "      <td>0</td>\n",
       "      <td>0</td>\n",
       "      <td>0</td>\n",
       "      <td>0</td>\n",
       "      <td>0</td>\n",
       "      <td>0</td>\n",
       "      <td>0</td>\n",
       "      <td>0</td>\n",
       "    </tr>\n",
       "    <tr>\n",
       "      <th>1</th>\n",
       "      <td>1</td>\n",
       "      <td>0.847521</td>\n",
       "      <td>270</td>\n",
       "      <td>1</td>\n",
       "      <td>1</td>\n",
       "      <td>1</td>\n",
       "      <td>1</td>\n",
       "      <td>1</td>\n",
       "      <td>1</td>\n",
       "      <td>1</td>\n",
       "      <td>1</td>\n",
       "      <td>1</td>\n",
       "      <td>1</td>\n",
       "      <td>0</td>\n",
       "      <td>1</td>\n",
       "    </tr>\n",
       "    <tr>\n",
       "      <th>2</th>\n",
       "      <td>0</td>\n",
       "      <td>0.847521</td>\n",
       "      <td>444</td>\n",
       "      <td>1</td>\n",
       "      <td>1</td>\n",
       "      <td>1</td>\n",
       "      <td>1</td>\n",
       "      <td>1</td>\n",
       "      <td>1</td>\n",
       "      <td>1</td>\n",
       "      <td>1</td>\n",
       "      <td>1</td>\n",
       "      <td>1</td>\n",
       "      <td>0</td>\n",
       "      <td>1</td>\n",
       "    </tr>\n",
       "    <tr>\n",
       "      <th>3</th>\n",
       "      <td>0</td>\n",
       "      <td>0.049796</td>\n",
       "      <td>607</td>\n",
       "      <td>0</td>\n",
       "      <td>1</td>\n",
       "      <td>0</td>\n",
       "      <td>0</td>\n",
       "      <td>0</td>\n",
       "      <td>0</td>\n",
       "      <td>0</td>\n",
       "      <td>0</td>\n",
       "      <td>0</td>\n",
       "      <td>0</td>\n",
       "      <td>0</td>\n",
       "      <td>0</td>\n",
       "    </tr>\n",
       "    <tr>\n",
       "      <th>4</th>\n",
       "      <td>0</td>\n",
       "      <td>0.847521</td>\n",
       "      <td>127</td>\n",
       "      <td>1</td>\n",
       "      <td>1</td>\n",
       "      <td>1</td>\n",
       "      <td>1</td>\n",
       "      <td>1</td>\n",
       "      <td>1</td>\n",
       "      <td>1</td>\n",
       "      <td>1</td>\n",
       "      <td>1</td>\n",
       "      <td>1</td>\n",
       "      <td>0</td>\n",
       "      <td>1</td>\n",
       "    </tr>\n",
       "  </tbody>\n",
       "</table>\n",
       "</div>"
      ],
      "text/plain": [
       "   Converted  Loan_Prob  CustID  predicted  0.0  0.1  0.2  0.3  0.4  0.5  0.6  \\\n",
       "0          1   0.049796     593          0    1    0    0    0    0    0    0   \n",
       "1          1   0.847521     270          1    1    1    1    1    1    1    1   \n",
       "2          0   0.847521     444          1    1    1    1    1    1    1    1   \n",
       "3          0   0.049796     607          0    1    0    0    0    0    0    0   \n",
       "4          0   0.847521     127          1    1    1    1    1    1    1    1   \n",
       "\n",
       "   0.7  0.8  0.9  final_predicted  \n",
       "0    0    0    0                0  \n",
       "1    1    1    0                1  \n",
       "2    1    1    0                1  \n",
       "3    0    0    0                0  \n",
       "4    1    1    0                1  "
      ]
     },
     "execution_count": 116,
     "metadata": {},
     "output_type": "execute_result"
    }
   ],
   "source": [
    "y_train_pred_final.head()"
   ]
  },
  {
   "cell_type": "code",
   "execution_count": 117,
   "metadata": {
    "scrolled": false
   },
   "outputs": [
    {
     "data": {
      "text/html": [
       "<div>\n",
       "<style scoped>\n",
       "    .dataframe tbody tr th:only-of-type {\n",
       "        vertical-align: middle;\n",
       "    }\n",
       "\n",
       "    .dataframe tbody tr th {\n",
       "        vertical-align: top;\n",
       "    }\n",
       "\n",
       "    .dataframe thead th {\n",
       "        text-align: right;\n",
       "    }\n",
       "</style>\n",
       "<table border=\"1\" class=\"dataframe\">\n",
       "  <thead>\n",
       "    <tr style=\"text-align: right;\">\n",
       "      <th></th>\n",
       "      <th>CustID</th>\n",
       "      <th>Converted</th>\n",
       "      <th>Loan_Prob</th>\n",
       "      <th>final_predicted</th>\n",
       "    </tr>\n",
       "  </thead>\n",
       "  <tbody>\n",
       "    <tr>\n",
       "      <th>0</th>\n",
       "      <td>133</td>\n",
       "      <td>0</td>\n",
       "      <td>0.754331</td>\n",
       "      <td>1</td>\n",
       "    </tr>\n",
       "    <tr>\n",
       "      <th>1</th>\n",
       "      <td>530</td>\n",
       "      <td>0</td>\n",
       "      <td>0.049796</td>\n",
       "      <td>0</td>\n",
       "    </tr>\n",
       "    <tr>\n",
       "      <th>2</th>\n",
       "      <td>48</td>\n",
       "      <td>1</td>\n",
       "      <td>0.698889</td>\n",
       "      <td>1</td>\n",
       "    </tr>\n",
       "    <tr>\n",
       "      <th>3</th>\n",
       "      <td>561</td>\n",
       "      <td>0</td>\n",
       "      <td>0.028135</td>\n",
       "      <td>0</td>\n",
       "    </tr>\n",
       "    <tr>\n",
       "      <th>4</th>\n",
       "      <td>634</td>\n",
       "      <td>0</td>\n",
       "      <td>0.028135</td>\n",
       "      <td>0</td>\n",
       "    </tr>\n",
       "  </tbody>\n",
       "</table>\n",
       "</div>"
      ],
      "text/plain": [
       "   CustID  Converted  Loan_Prob  final_predicted\n",
       "0     133          0   0.754331                1\n",
       "1     530          0   0.049796                0\n",
       "2      48          1   0.698889                1\n",
       "3     561          0   0.028135                0\n",
       "4     634          0   0.028135                0"
      ]
     },
     "execution_count": 117,
     "metadata": {},
     "output_type": "execute_result"
    }
   ],
   "source": [
    "y_pred_final.head()"
   ]
  },
  {
   "cell_type": "markdown",
   "metadata": {},
   "source": [
    "### Step: Concating and merging columns to create a dataframe which can be related to the variables like \"Locality\" and \"Loan_ID\""
   ]
  },
  {
   "cell_type": "code",
   "execution_count": 118,
   "metadata": {},
   "outputs": [],
   "source": [
    "data2 = [y_pred_final[\"CustID\"], y_pred_final[\"Converted\"], y_pred_final[\"Loan_Prob\"],y_pred_final[\"final_predicted\"] ]\n",
    "df2 = pd.concat(data2, axis=1)"
   ]
  },
  {
   "cell_type": "code",
   "execution_count": 119,
   "metadata": {},
   "outputs": [],
   "source": [
    "data = [y_train_pred_final[\"CustID\"], y_train_pred_final[\"Converted\"], y_train_pred_final[\"Loan_Prob\"],y_train_pred_final[\"final_predicted\"] ]\n",
    "df1 = pd.concat(data, axis=1)"
   ]
  },
  {
   "cell_type": "code",
   "execution_count": 120,
   "metadata": {},
   "outputs": [
    {
     "data": {
      "text/html": [
       "<div>\n",
       "<style scoped>\n",
       "    .dataframe tbody tr th:only-of-type {\n",
       "        vertical-align: middle;\n",
       "    }\n",
       "\n",
       "    .dataframe tbody tr th {\n",
       "        vertical-align: top;\n",
       "    }\n",
       "\n",
       "    .dataframe thead th {\n",
       "        text-align: right;\n",
       "    }\n",
       "</style>\n",
       "<table border=\"1\" class=\"dataframe\">\n",
       "  <thead>\n",
       "    <tr style=\"text-align: right;\">\n",
       "      <th></th>\n",
       "      <th>CustID</th>\n",
       "      <th>Converted</th>\n",
       "      <th>Loan_Prob</th>\n",
       "      <th>final_predicted</th>\n",
       "    </tr>\n",
       "  </thead>\n",
       "  <tbody>\n",
       "    <tr>\n",
       "      <th>0</th>\n",
       "      <td>593</td>\n",
       "      <td>1</td>\n",
       "      <td>0.049796</td>\n",
       "      <td>0</td>\n",
       "    </tr>\n",
       "    <tr>\n",
       "      <th>1</th>\n",
       "      <td>270</td>\n",
       "      <td>1</td>\n",
       "      <td>0.847521</td>\n",
       "      <td>1</td>\n",
       "    </tr>\n",
       "    <tr>\n",
       "      <th>2</th>\n",
       "      <td>444</td>\n",
       "      <td>0</td>\n",
       "      <td>0.847521</td>\n",
       "      <td>1</td>\n",
       "    </tr>\n",
       "    <tr>\n",
       "      <th>3</th>\n",
       "      <td>607</td>\n",
       "      <td>0</td>\n",
       "      <td>0.049796</td>\n",
       "      <td>0</td>\n",
       "    </tr>\n",
       "    <tr>\n",
       "      <th>4</th>\n",
       "      <td>127</td>\n",
       "      <td>0</td>\n",
       "      <td>0.847521</td>\n",
       "      <td>1</td>\n",
       "    </tr>\n",
       "  </tbody>\n",
       "</table>\n",
       "</div>"
      ],
      "text/plain": [
       "   CustID  Converted  Loan_Prob  final_predicted\n",
       "0     593          1   0.049796                0\n",
       "1     270          1   0.847521                1\n",
       "2     444          0   0.847521                1\n",
       "3     607          0   0.049796                0\n",
       "4     127          0   0.847521                1"
      ]
     },
     "execution_count": 120,
     "metadata": {},
     "output_type": "execute_result"
    }
   ],
   "source": [
    "df1.head()"
   ]
  },
  {
   "cell_type": "code",
   "execution_count": 121,
   "metadata": {},
   "outputs": [
    {
     "data": {
      "text/html": [
       "<div>\n",
       "<style scoped>\n",
       "    .dataframe tbody tr th:only-of-type {\n",
       "        vertical-align: middle;\n",
       "    }\n",
       "\n",
       "    .dataframe tbody tr th {\n",
       "        vertical-align: top;\n",
       "    }\n",
       "\n",
       "    .dataframe thead th {\n",
       "        text-align: right;\n",
       "    }\n",
       "</style>\n",
       "<table border=\"1\" class=\"dataframe\">\n",
       "  <thead>\n",
       "    <tr style=\"text-align: right;\">\n",
       "      <th></th>\n",
       "      <th>CustID</th>\n",
       "      <th>Converted</th>\n",
       "      <th>Loan_Prob</th>\n",
       "      <th>final_predicted</th>\n",
       "    </tr>\n",
       "  </thead>\n",
       "  <tbody>\n",
       "    <tr>\n",
       "      <th>0</th>\n",
       "      <td>133</td>\n",
       "      <td>0</td>\n",
       "      <td>0.754331</td>\n",
       "      <td>1</td>\n",
       "    </tr>\n",
       "    <tr>\n",
       "      <th>1</th>\n",
       "      <td>530</td>\n",
       "      <td>0</td>\n",
       "      <td>0.049796</td>\n",
       "      <td>0</td>\n",
       "    </tr>\n",
       "    <tr>\n",
       "      <th>2</th>\n",
       "      <td>48</td>\n",
       "      <td>1</td>\n",
       "      <td>0.698889</td>\n",
       "      <td>1</td>\n",
       "    </tr>\n",
       "    <tr>\n",
       "      <th>3</th>\n",
       "      <td>561</td>\n",
       "      <td>0</td>\n",
       "      <td>0.028135</td>\n",
       "      <td>0</td>\n",
       "    </tr>\n",
       "    <tr>\n",
       "      <th>4</th>\n",
       "      <td>634</td>\n",
       "      <td>0</td>\n",
       "      <td>0.028135</td>\n",
       "      <td>0</td>\n",
       "    </tr>\n",
       "  </tbody>\n",
       "</table>\n",
       "</div>"
      ],
      "text/plain": [
       "   CustID  Converted  Loan_Prob  final_predicted\n",
       "0     133          0   0.754331                1\n",
       "1     530          0   0.049796                0\n",
       "2      48          1   0.698889                1\n",
       "3     561          0   0.028135                0\n",
       "4     634          0   0.028135                0"
      ]
     },
     "execution_count": 121,
     "metadata": {},
     "output_type": "execute_result"
    }
   ],
   "source": [
    "df2.head()"
   ]
  },
  {
   "cell_type": "code",
   "execution_count": 122,
   "metadata": {},
   "outputs": [],
   "source": [
    "final = df1.append(df2)"
   ]
  },
  {
   "cell_type": "code",
   "execution_count": 123,
   "metadata": {},
   "outputs": [],
   "source": [
    "final.sort_values(by=['CustID'], inplace=True, ascending=True)\n"
   ]
  },
  {
   "cell_type": "code",
   "execution_count": 124,
   "metadata": {},
   "outputs": [],
   "source": [
    "final = final.set_index(\"CustID\")"
   ]
  },
  {
   "cell_type": "code",
   "execution_count": 125,
   "metadata": {},
   "outputs": [
    {
     "data": {
      "text/html": [
       "<div>\n",
       "<style scoped>\n",
       "    .dataframe tbody tr th:only-of-type {\n",
       "        vertical-align: middle;\n",
       "    }\n",
       "\n",
       "    .dataframe tbody tr th {\n",
       "        vertical-align: top;\n",
       "    }\n",
       "\n",
       "    .dataframe thead th {\n",
       "        text-align: right;\n",
       "    }\n",
       "</style>\n",
       "<table border=\"1\" class=\"dataframe\">\n",
       "  <thead>\n",
       "    <tr style=\"text-align: right;\">\n",
       "      <th></th>\n",
       "      <th>Converted</th>\n",
       "      <th>Loan_Prob</th>\n",
       "      <th>final_predicted</th>\n",
       "    </tr>\n",
       "    <tr>\n",
       "      <th>CustID</th>\n",
       "      <th></th>\n",
       "      <th></th>\n",
       "      <th></th>\n",
       "    </tr>\n",
       "  </thead>\n",
       "  <tbody>\n",
       "    <tr>\n",
       "      <th>0</th>\n",
       "      <td>0</td>\n",
       "      <td>0.561825</td>\n",
       "      <td>0</td>\n",
       "    </tr>\n",
       "    <tr>\n",
       "      <th>1</th>\n",
       "      <td>0</td>\n",
       "      <td>0.698889</td>\n",
       "      <td>1</td>\n",
       "    </tr>\n",
       "    <tr>\n",
       "      <th>2</th>\n",
       "      <td>1</td>\n",
       "      <td>0.698889</td>\n",
       "      <td>1</td>\n",
       "    </tr>\n",
       "    <tr>\n",
       "      <th>3</th>\n",
       "      <td>1</td>\n",
       "      <td>0.698889</td>\n",
       "      <td>1</td>\n",
       "    </tr>\n",
       "    <tr>\n",
       "      <th>4</th>\n",
       "      <td>1</td>\n",
       "      <td>0.698889</td>\n",
       "      <td>1</td>\n",
       "    </tr>\n",
       "  </tbody>\n",
       "</table>\n",
       "</div>"
      ],
      "text/plain": [
       "        Converted  Loan_Prob  final_predicted\n",
       "CustID                                       \n",
       "0               0   0.561825                0\n",
       "1               0   0.698889                1\n",
       "2               1   0.698889                1\n",
       "3               1   0.698889                1\n",
       "4               1   0.698889                1"
      ]
     },
     "execution_count": 125,
     "metadata": {},
     "output_type": "execute_result"
    }
   ],
   "source": [
    "final.head()"
   ]
  },
  {
   "cell_type": "code",
   "execution_count": 126,
   "metadata": {},
   "outputs": [
    {
     "data": {
      "text/html": [
       "<div>\n",
       "<style scoped>\n",
       "    .dataframe tbody tr th:only-of-type {\n",
       "        vertical-align: middle;\n",
       "    }\n",
       "\n",
       "    .dataframe tbody tr th {\n",
       "        vertical-align: top;\n",
       "    }\n",
       "\n",
       "    .dataframe thead th {\n",
       "        text-align: right;\n",
       "    }\n",
       "</style>\n",
       "<table border=\"1\" class=\"dataframe\">\n",
       "  <thead>\n",
       "    <tr style=\"text-align: right;\">\n",
       "      <th></th>\n",
       "      <th>Unnamed: 0</th>\n",
       "      <th>Loan_ID</th>\n",
       "      <th>Loan_Status</th>\n",
       "      <th>Gender</th>\n",
       "      <th>Married</th>\n",
       "      <th>Locality</th>\n",
       "      <th>Dependents</th>\n",
       "      <th>Education</th>\n",
       "      <th>Self_Employed</th>\n",
       "      <th>ApplicantIncome</th>\n",
       "      <th>CoapplicantIncome</th>\n",
       "      <th>LoanAmount</th>\n",
       "      <th>Loan_Amount_Term</th>\n",
       "      <th>Credit_History</th>\n",
       "      <th>Property_Area</th>\n",
       "    </tr>\n",
       "  </thead>\n",
       "  <tbody>\n",
       "    <tr>\n",
       "      <th>0</th>\n",
       "      <td>0</td>\n",
       "      <td>LP001996</td>\n",
       "      <td>N</td>\n",
       "      <td>Male</td>\n",
       "      <td>No</td>\n",
       "      <td>Qureshi Square, New Delhi</td>\n",
       "      <td>0</td>\n",
       "      <td>Graduate</td>\n",
       "      <td>No</td>\n",
       "      <td>20233</td>\n",
       "      <td>0</td>\n",
       "      <td>480</td>\n",
       "      <td>360</td>\n",
       "      <td>1</td>\n",
       "      <td>Rural</td>\n",
       "    </tr>\n",
       "    <tr>\n",
       "      <th>1</th>\n",
       "      <td>1</td>\n",
       "      <td>LP002191</td>\n",
       "      <td>N</td>\n",
       "      <td>Male</td>\n",
       "      <td>Yes</td>\n",
       "      <td>Qureshi Square, New Delhi</td>\n",
       "      <td>0</td>\n",
       "      <td>Graduate</td>\n",
       "      <td>No</td>\n",
       "      <td>19730</td>\n",
       "      <td>5266</td>\n",
       "      <td>570</td>\n",
       "      <td>360</td>\n",
       "      <td>1</td>\n",
       "      <td>Rural</td>\n",
       "    </tr>\n",
       "    <tr>\n",
       "      <th>2</th>\n",
       "      <td>2</td>\n",
       "      <td>LP002699</td>\n",
       "      <td>Y</td>\n",
       "      <td>Male</td>\n",
       "      <td>Yes</td>\n",
       "      <td>Qureshi Square, New Delhi</td>\n",
       "      <td>2</td>\n",
       "      <td>Graduate</td>\n",
       "      <td>Yes</td>\n",
       "      <td>17500</td>\n",
       "      <td>0</td>\n",
       "      <td>400</td>\n",
       "      <td>360</td>\n",
       "      <td>1</td>\n",
       "      <td>Rural</td>\n",
       "    </tr>\n",
       "    <tr>\n",
       "      <th>3</th>\n",
       "      <td>3</td>\n",
       "      <td>LP002527</td>\n",
       "      <td>Y</td>\n",
       "      <td>Male</td>\n",
       "      <td>Yes</td>\n",
       "      <td>Qureshi Square, New Delhi</td>\n",
       "      <td>2</td>\n",
       "      <td>Graduate</td>\n",
       "      <td>Yes</td>\n",
       "      <td>16525</td>\n",
       "      <td>1014</td>\n",
       "      <td>150</td>\n",
       "      <td>360</td>\n",
       "      <td>1</td>\n",
       "      <td>Rural</td>\n",
       "    </tr>\n",
       "    <tr>\n",
       "      <th>4</th>\n",
       "      <td>4</td>\n",
       "      <td>LP002065</td>\n",
       "      <td>Y</td>\n",
       "      <td>Male</td>\n",
       "      <td>Yes</td>\n",
       "      <td>Qureshi Square, New Delhi</td>\n",
       "      <td>3</td>\n",
       "      <td>Graduate</td>\n",
       "      <td>No</td>\n",
       "      <td>15000</td>\n",
       "      <td>0</td>\n",
       "      <td>300</td>\n",
       "      <td>360</td>\n",
       "      <td>1</td>\n",
       "      <td>Rural</td>\n",
       "    </tr>\n",
       "  </tbody>\n",
       "</table>\n",
       "</div>"
      ],
      "text/plain": [
       "   Unnamed: 0   Loan_ID Loan_Status Gender Married                   Locality  \\\n",
       "0           0  LP001996           N   Male      No  Qureshi Square, New Delhi   \n",
       "1           1  LP002191           N   Male     Yes  Qureshi Square, New Delhi   \n",
       "2           2  LP002699           Y   Male     Yes  Qureshi Square, New Delhi   \n",
       "3           3  LP002527           Y   Male     Yes  Qureshi Square, New Delhi   \n",
       "4           4  LP002065           Y   Male     Yes  Qureshi Square, New Delhi   \n",
       "\n",
       "   Dependents Education Self_Employed  ApplicantIncome  CoapplicantIncome  \\\n",
       "0           0  Graduate            No            20233                  0   \n",
       "1           0  Graduate            No            19730               5266   \n",
       "2           2  Graduate           Yes            17500                  0   \n",
       "3           2  Graduate           Yes            16525               1014   \n",
       "4           3  Graduate            No            15000                  0   \n",
       "\n",
       "   LoanAmount  Loan_Amount_Term  Credit_History Property_Area  \n",
       "0         480               360               1         Rural  \n",
       "1         570               360               1         Rural  \n",
       "2         400               360               1         Rural  \n",
       "3         150               360               1         Rural  \n",
       "4         300               360               1         Rural  "
      ]
     },
     "execution_count": 126,
     "metadata": {},
     "output_type": "execute_result"
    }
   ],
   "source": [
    "dtf = pd.read_csv(\"final_df1.csv\")\n",
    "dtf.head()"
   ]
  },
  {
   "cell_type": "code",
   "execution_count": 127,
   "metadata": {},
   "outputs": [],
   "source": [
    "data3 = [dtf[\"Loan_ID\"], dtf[\"Locality\"]]\n",
    "df3 = pd.concat(data3, axis=1)"
   ]
  },
  {
   "cell_type": "code",
   "execution_count": 128,
   "metadata": {},
   "outputs": [
    {
     "data": {
      "text/html": [
       "<div>\n",
       "<style scoped>\n",
       "    .dataframe tbody tr th:only-of-type {\n",
       "        vertical-align: middle;\n",
       "    }\n",
       "\n",
       "    .dataframe tbody tr th {\n",
       "        vertical-align: top;\n",
       "    }\n",
       "\n",
       "    .dataframe thead th {\n",
       "        text-align: right;\n",
       "    }\n",
       "</style>\n",
       "<table border=\"1\" class=\"dataframe\">\n",
       "  <thead>\n",
       "    <tr style=\"text-align: right;\">\n",
       "      <th></th>\n",
       "      <th>LoanID</th>\n",
       "      <th>Locality</th>\n",
       "    </tr>\n",
       "    <tr>\n",
       "      <th>CustID</th>\n",
       "      <th></th>\n",
       "      <th></th>\n",
       "    </tr>\n",
       "  </thead>\n",
       "  <tbody>\n",
       "    <tr>\n",
       "      <th>0</th>\n",
       "      <td>LP001996</td>\n",
       "      <td>Qureshi Square, New Delhi</td>\n",
       "    </tr>\n",
       "    <tr>\n",
       "      <th>1</th>\n",
       "      <td>LP002191</td>\n",
       "      <td>Qureshi Square, New Delhi</td>\n",
       "    </tr>\n",
       "    <tr>\n",
       "      <th>2</th>\n",
       "      <td>LP002699</td>\n",
       "      <td>Qureshi Square, New Delhi</td>\n",
       "    </tr>\n",
       "    <tr>\n",
       "      <th>3</th>\n",
       "      <td>LP002527</td>\n",
       "      <td>Qureshi Square, New Delhi</td>\n",
       "    </tr>\n",
       "    <tr>\n",
       "      <th>4</th>\n",
       "      <td>LP002065</td>\n",
       "      <td>Qureshi Square, New Delhi</td>\n",
       "    </tr>\n",
       "  </tbody>\n",
       "</table>\n",
       "</div>"
      ],
      "text/plain": [
       "          LoanID                   Locality\n",
       "CustID                                     \n",
       "0       LP001996  Qureshi Square, New Delhi\n",
       "1       LP002191  Qureshi Square, New Delhi\n",
       "2       LP002699  Qureshi Square, New Delhi\n",
       "3       LP002527  Qureshi Square, New Delhi\n",
       "4       LP002065  Qureshi Square, New Delhi"
      ]
     },
     "execution_count": 128,
     "metadata": {},
     "output_type": "execute_result"
    }
   ],
   "source": [
    "\n",
    "df3.reset_index(inplace=True)\n",
    "df3.columns = ['CustID', 'LoanID', \"Locality\"]\n",
    "df3 = df3.set_index(\"CustID\")\n",
    "df3.head()"
   ]
  },
  {
   "cell_type": "code",
   "execution_count": 129,
   "metadata": {
    "scrolled": true
   },
   "outputs": [
    {
     "data": {
      "text/html": [
       "<div>\n",
       "<style scoped>\n",
       "    .dataframe tbody tr th:only-of-type {\n",
       "        vertical-align: middle;\n",
       "    }\n",
       "\n",
       "    .dataframe tbody tr th {\n",
       "        vertical-align: top;\n",
       "    }\n",
       "\n",
       "    .dataframe thead th {\n",
       "        text-align: right;\n",
       "    }\n",
       "</style>\n",
       "<table border=\"1\" class=\"dataframe\">\n",
       "  <thead>\n",
       "    <tr style=\"text-align: right;\">\n",
       "      <th></th>\n",
       "      <th>Converted</th>\n",
       "      <th>Loan_Prob</th>\n",
       "      <th>final_predicted</th>\n",
       "    </tr>\n",
       "    <tr>\n",
       "      <th>CustID</th>\n",
       "      <th></th>\n",
       "      <th></th>\n",
       "      <th></th>\n",
       "    </tr>\n",
       "  </thead>\n",
       "  <tbody>\n",
       "    <tr>\n",
       "      <th>0</th>\n",
       "      <td>0</td>\n",
       "      <td>0.561825</td>\n",
       "      <td>0</td>\n",
       "    </tr>\n",
       "    <tr>\n",
       "      <th>1</th>\n",
       "      <td>0</td>\n",
       "      <td>0.698889</td>\n",
       "      <td>1</td>\n",
       "    </tr>\n",
       "    <tr>\n",
       "      <th>2</th>\n",
       "      <td>1</td>\n",
       "      <td>0.698889</td>\n",
       "      <td>1</td>\n",
       "    </tr>\n",
       "    <tr>\n",
       "      <th>3</th>\n",
       "      <td>1</td>\n",
       "      <td>0.698889</td>\n",
       "      <td>1</td>\n",
       "    </tr>\n",
       "    <tr>\n",
       "      <th>4</th>\n",
       "      <td>1</td>\n",
       "      <td>0.698889</td>\n",
       "      <td>1</td>\n",
       "    </tr>\n",
       "  </tbody>\n",
       "</table>\n",
       "</div>"
      ],
      "text/plain": [
       "        Converted  Loan_Prob  final_predicted\n",
       "CustID                                       \n",
       "0               0   0.561825                0\n",
       "1               0   0.698889                1\n",
       "2               1   0.698889                1\n",
       "3               1   0.698889                1\n",
       "4               1   0.698889                1"
      ]
     },
     "execution_count": 129,
     "metadata": {},
     "output_type": "execute_result"
    }
   ],
   "source": [
    "final.head()"
   ]
  },
  {
   "cell_type": "code",
   "execution_count": 130,
   "metadata": {},
   "outputs": [],
   "source": [
    "merged_left = pd.merge(left=final, right=df3, how='left', left_on='CustID', right_on='CustID')\n"
   ]
  },
  {
   "cell_type": "markdown",
   "metadata": {},
   "source": [
    "### The df named \"merged_left\" is an amalgamation of train and test sets relating the \"LoanID\" and \"Locality\""
   ]
  },
  {
   "cell_type": "code",
   "execution_count": 136,
   "metadata": {},
   "outputs": [
    {
     "data": {
      "text/html": [
       "<div>\n",
       "<style scoped>\n",
       "    .dataframe tbody tr th:only-of-type {\n",
       "        vertical-align: middle;\n",
       "    }\n",
       "\n",
       "    .dataframe tbody tr th {\n",
       "        vertical-align: top;\n",
       "    }\n",
       "\n",
       "    .dataframe thead th {\n",
       "        text-align: right;\n",
       "    }\n",
       "</style>\n",
       "<table border=\"1\" class=\"dataframe\">\n",
       "  <thead>\n",
       "    <tr style=\"text-align: right;\">\n",
       "      <th></th>\n",
       "      <th>Converted</th>\n",
       "      <th>Loan_Prob</th>\n",
       "      <th>final_predicted</th>\n",
       "      <th>LoanID</th>\n",
       "      <th>Locality</th>\n",
       "    </tr>\n",
       "    <tr>\n",
       "      <th>CustID</th>\n",
       "      <th></th>\n",
       "      <th></th>\n",
       "      <th></th>\n",
       "      <th></th>\n",
       "      <th></th>\n",
       "    </tr>\n",
       "  </thead>\n",
       "  <tbody>\n",
       "    <tr>\n",
       "      <th>0</th>\n",
       "      <td>0</td>\n",
       "      <td>0.561825</td>\n",
       "      <td>0</td>\n",
       "      <td>LP001996</td>\n",
       "      <td>Qureshi Square, New Delhi</td>\n",
       "    </tr>\n",
       "    <tr>\n",
       "      <th>1</th>\n",
       "      <td>0</td>\n",
       "      <td>0.698889</td>\n",
       "      <td>1</td>\n",
       "      <td>LP002191</td>\n",
       "      <td>Qureshi Square, New Delhi</td>\n",
       "    </tr>\n",
       "    <tr>\n",
       "      <th>2</th>\n",
       "      <td>1</td>\n",
       "      <td>0.698889</td>\n",
       "      <td>1</td>\n",
       "      <td>LP002699</td>\n",
       "      <td>Qureshi Square, New Delhi</td>\n",
       "    </tr>\n",
       "    <tr>\n",
       "      <th>3</th>\n",
       "      <td>1</td>\n",
       "      <td>0.698889</td>\n",
       "      <td>1</td>\n",
       "      <td>LP002527</td>\n",
       "      <td>Qureshi Square, New Delhi</td>\n",
       "    </tr>\n",
       "    <tr>\n",
       "      <th>4</th>\n",
       "      <td>1</td>\n",
       "      <td>0.698889</td>\n",
       "      <td>1</td>\n",
       "      <td>LP002065</td>\n",
       "      <td>Qureshi Square, New Delhi</td>\n",
       "    </tr>\n",
       "    <tr>\n",
       "      <th>5</th>\n",
       "      <td>0</td>\n",
       "      <td>0.698889</td>\n",
       "      <td>1</td>\n",
       "      <td>LP001859</td>\n",
       "      <td>Qureshi Square, New Delhi</td>\n",
       "    </tr>\n",
       "    <tr>\n",
       "      <th>6</th>\n",
       "      <td>1</td>\n",
       "      <td>0.698889</td>\n",
       "      <td>1</td>\n",
       "      <td>LP001401</td>\n",
       "      <td>Qureshi Square, New Delhi</td>\n",
       "    </tr>\n",
       "    <tr>\n",
       "      <th>7</th>\n",
       "      <td>0</td>\n",
       "      <td>0.561825</td>\n",
       "      <td>0</td>\n",
       "      <td>LP001100</td>\n",
       "      <td>Qureshi Square, New Delhi</td>\n",
       "    </tr>\n",
       "    <tr>\n",
       "      <th>8</th>\n",
       "      <td>0</td>\n",
       "      <td>0.378453</td>\n",
       "      <td>0</td>\n",
       "      <td>LP001519</td>\n",
       "      <td>Qureshi Square, New Delhi</td>\n",
       "    </tr>\n",
       "    <tr>\n",
       "      <th>9</th>\n",
       "      <td>0</td>\n",
       "      <td>0.698889</td>\n",
       "      <td>1</td>\n",
       "      <td>LP002050</td>\n",
       "      <td>Qureshi Square, New Delhi</td>\n",
       "    </tr>\n",
       "    <tr>\n",
       "      <th>10</th>\n",
       "      <td>1</td>\n",
       "      <td>0.698889</td>\n",
       "      <td>1</td>\n",
       "      <td>LP002945</td>\n",
       "      <td>Qureshi Square, New Delhi</td>\n",
       "    </tr>\n",
       "    <tr>\n",
       "      <th>11</th>\n",
       "      <td>1</td>\n",
       "      <td>0.561825</td>\n",
       "      <td>0</td>\n",
       "      <td>LP001935</td>\n",
       "      <td>Qureshi Square, New Delhi</td>\n",
       "    </tr>\n",
       "    <tr>\n",
       "      <th>12</th>\n",
       "      <td>1</td>\n",
       "      <td>0.698889</td>\n",
       "      <td>1</td>\n",
       "      <td>LP002262</td>\n",
       "      <td>Qureshi Square, New Delhi</td>\n",
       "    </tr>\n",
       "    <tr>\n",
       "      <th>13</th>\n",
       "      <td>1</td>\n",
       "      <td>0.698889</td>\n",
       "      <td>1</td>\n",
       "      <td>LP001647</td>\n",
       "      <td>Qureshi Square, New Delhi</td>\n",
       "    </tr>\n",
       "    <tr>\n",
       "      <th>14</th>\n",
       "      <td>1</td>\n",
       "      <td>0.698889</td>\n",
       "      <td>1</td>\n",
       "      <td>LP002201</td>\n",
       "      <td>Qureshi Square, New Delhi</td>\n",
       "    </tr>\n",
       "  </tbody>\n",
       "</table>\n",
       "</div>"
      ],
      "text/plain": [
       "        Converted  Loan_Prob  final_predicted    LoanID  \\\n",
       "CustID                                                    \n",
       "0               0   0.561825                0  LP001996   \n",
       "1               0   0.698889                1  LP002191   \n",
       "2               1   0.698889                1  LP002699   \n",
       "3               1   0.698889                1  LP002527   \n",
       "4               1   0.698889                1  LP002065   \n",
       "5               0   0.698889                1  LP001859   \n",
       "6               1   0.698889                1  LP001401   \n",
       "7               0   0.561825                0  LP001100   \n",
       "8               0   0.378453                0  LP001519   \n",
       "9               0   0.698889                1  LP002050   \n",
       "10              1   0.698889                1  LP002945   \n",
       "11              1   0.561825                0  LP001935   \n",
       "12              1   0.698889                1  LP002262   \n",
       "13              1   0.698889                1  LP001647   \n",
       "14              1   0.698889                1  LP002201   \n",
       "\n",
       "                         Locality  \n",
       "CustID                             \n",
       "0       Qureshi Square, New Delhi  \n",
       "1       Qureshi Square, New Delhi  \n",
       "2       Qureshi Square, New Delhi  \n",
       "3       Qureshi Square, New Delhi  \n",
       "4       Qureshi Square, New Delhi  \n",
       "5       Qureshi Square, New Delhi  \n",
       "6       Qureshi Square, New Delhi  \n",
       "7       Qureshi Square, New Delhi  \n",
       "8       Qureshi Square, New Delhi  \n",
       "9       Qureshi Square, New Delhi  \n",
       "10      Qureshi Square, New Delhi  \n",
       "11      Qureshi Square, New Delhi  \n",
       "12      Qureshi Square, New Delhi  \n",
       "13      Qureshi Square, New Delhi  \n",
       "14      Qureshi Square, New Delhi  "
      ]
     },
     "execution_count": 136,
     "metadata": {},
     "output_type": "execute_result"
    }
   ],
   "source": [
    "merged_left.head(15)"
   ]
  },
  {
   "cell_type": "code",
   "execution_count": 131,
   "metadata": {},
   "outputs": [],
   "source": [
    "new =merged_left.groupby(['Locality']).sum()\n"
   ]
  },
  {
   "cell_type": "code",
   "execution_count": 132,
   "metadata": {},
   "outputs": [],
   "source": [
    "dff = round(100*(new/merged_left.groupby([\"Locality\"]).count()),2)"
   ]
  },
  {
   "cell_type": "markdown",
   "metadata": {},
   "source": [
    "### The \"dff\" dataframe shows the actual prediction (converted) and the machine learning prediction(final_predicted) in terms of subgroups segregated in terms of percentage conversion"
   ]
  },
  {
   "cell_type": "code",
   "execution_count": 133,
   "metadata": {
    "scrolled": true
   },
   "outputs": [
    {
     "data": {
      "text/html": [
       "<div>\n",
       "<style scoped>\n",
       "    .dataframe tbody tr th:only-of-type {\n",
       "        vertical-align: middle;\n",
       "    }\n",
       "\n",
       "    .dataframe tbody tr th {\n",
       "        vertical-align: top;\n",
       "    }\n",
       "\n",
       "    .dataframe thead th {\n",
       "        text-align: right;\n",
       "    }\n",
       "</style>\n",
       "<table border=\"1\" class=\"dataframe\">\n",
       "  <thead>\n",
       "    <tr style=\"text-align: right;\">\n",
       "      <th></th>\n",
       "      <th>Converted</th>\n",
       "      <th>final_predicted</th>\n",
       "    </tr>\n",
       "    <tr>\n",
       "      <th>Locality</th>\n",
       "      <th></th>\n",
       "      <th></th>\n",
       "    </tr>\n",
       "  </thead>\n",
       "  <tbody>\n",
       "    <tr>\n",
       "      <th>Amit Enclave, Gurgaon</th>\n",
       "      <td>69.57</td>\n",
       "      <td>65.22</td>\n",
       "    </tr>\n",
       "    <tr>\n",
       "      <th>District 9</th>\n",
       "      <td>3.98</td>\n",
       "      <td>0.00</td>\n",
       "    </tr>\n",
       "    <tr>\n",
       "      <th>Hari Vihar, New Delhi</th>\n",
       "      <td>63.89</td>\n",
       "      <td>83.33</td>\n",
       "    </tr>\n",
       "    <tr>\n",
       "      <th>Karimpur, New Delhi</th>\n",
       "      <td>61.54</td>\n",
       "      <td>84.62</td>\n",
       "    </tr>\n",
       "    <tr>\n",
       "      <th>Naman Enclave, New Delhi</th>\n",
       "      <td>72.55</td>\n",
       "      <td>78.43</td>\n",
       "    </tr>\n",
       "    <tr>\n",
       "      <th>Park Circus, New Delhi</th>\n",
       "      <td>80.00</td>\n",
       "      <td>76.00</td>\n",
       "    </tr>\n",
       "    <tr>\n",
       "      <th>Qureshi Square, New Delhi</th>\n",
       "      <td>57.63</td>\n",
       "      <td>50.85</td>\n",
       "    </tr>\n",
       "    <tr>\n",
       "      <th>Richmond, New Delhi</th>\n",
       "      <td>74.07</td>\n",
       "      <td>70.37</td>\n",
       "    </tr>\n",
       "    <tr>\n",
       "      <th>Sukhdev Enclave, New Delhi</th>\n",
       "      <td>78.57</td>\n",
       "      <td>77.68</td>\n",
       "    </tr>\n",
       "    <tr>\n",
       "      <th>Tibetan Colony, New Delhi</th>\n",
       "      <td>62.50</td>\n",
       "      <td>62.50</td>\n",
       "    </tr>\n",
       "    <tr>\n",
       "      <th>Vikasnagar, New Delhi</th>\n",
       "      <td>62.50</td>\n",
       "      <td>73.21</td>\n",
       "    </tr>\n",
       "  </tbody>\n",
       "</table>\n",
       "</div>"
      ],
      "text/plain": [
       "                            Converted  final_predicted\n",
       "Locality                                              \n",
       "Amit Enclave, Gurgaon           69.57            65.22\n",
       "District 9                       3.98             0.00\n",
       "Hari Vihar, New Delhi           63.89            83.33\n",
       "Karimpur, New Delhi             61.54            84.62\n",
       "Naman Enclave, New Delhi        72.55            78.43\n",
       "Park Circus, New Delhi          80.00            76.00\n",
       "Qureshi Square, New Delhi       57.63            50.85\n",
       "Richmond, New Delhi             74.07            70.37\n",
       "Sukhdev Enclave, New Delhi      78.57            77.68\n",
       "Tibetan Colony, New Delhi       62.50            62.50\n",
       "Vikasnagar, New Delhi           62.50            73.21"
      ]
     },
     "execution_count": 133,
     "metadata": {},
     "output_type": "execute_result"
    }
   ],
   "source": [
    "dff.drop([\"Loan_Prob\", \"LoanID\"], axis=1)"
   ]
  },
  {
   "cell_type": "markdown",
   "metadata": {},
   "source": [
    "#### Interpretation:\n",
    "- The District 9 which in reality had a loan rate of almost 4%, has been predicted by ML algorithm as 0% loan rate. The behaviour of the racist loan officer towards high educated and high median income customers living in the District 9 area have led the machine to predict that these customers don't deserve loans"
   ]
  },
  {
   "cell_type": "code",
   "execution_count": 134,
   "metadata": {},
   "outputs": [],
   "source": [
    "### Saving the predicted file on both train-test dataset in csv format\n",
    "merged_left.to_csv(\"logistic_final.csv\")"
   ]
  },
  {
   "cell_type": "code",
   "execution_count": null,
   "metadata": {},
   "outputs": [],
   "source": []
  }
 ],
 "metadata": {
  "kernelspec": {
   "display_name": "Python 3",
   "language": "python",
   "name": "python3"
  },
  "language_info": {
   "codemirror_mode": {
    "name": "ipython",
    "version": 3
   },
   "file_extension": ".py",
   "mimetype": "text/x-python",
   "name": "python",
   "nbconvert_exporter": "python",
   "pygments_lexer": "ipython3",
   "version": "3.8.3"
  }
 },
 "nbformat": 4,
 "nbformat_minor": 4
}
